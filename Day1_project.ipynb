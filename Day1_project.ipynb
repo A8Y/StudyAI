{
  "nbformat": 4,
  "nbformat_minor": 0,
  "metadata": {
    "colab": {
      "name": "Day1_project.ipynb",
      "provenance": [],
      "collapsed_sections": [],
      "toc_visible": true,
      "mount_file_id": "1HKHL1JRvry7JzSErtaAtzzFdTM9lBpim",
      "authorship_tag": "ABX9TyOeYqqQKl0r+0sriqeP97SM",
      "include_colab_link": true
    },
    "kernelspec": {
      "name": "python3",
      "display_name": "Python 3"
    },
    "accelerator": "GPU"
  },
  "cells": [
    {
      "cell_type": "markdown",
      "metadata": {
        "id": "view-in-github",
        "colab_type": "text"
      },
      "source": [
        "<a href=\"https://colab.research.google.com/github/A8Y/StudyAI/blob/master/Day1_project.ipynb\" target=\"_parent\"><img src=\"https://colab.research.google.com/assets/colab-badge.svg\" alt=\"Open In Colab\"/></a>"
      ]
    },
    {
      "cell_type": "markdown",
      "metadata": {
        "id": "qpzU9k5GCzZ5",
        "colab_type": "text"
      },
      "source": [
        "# DNN DAY1  終了課題\n",
        "\n",
        "IrisデータをつかってDNNの実装\n",
        "\n",
        " **多項分類問題**\n",
        "\n",
        "\n",
        "---\n",
        "\n",
        "\n",
        "*  Q1. Irisデータを使って実際にNNを構築。従来の分類手法では分類できない点がある非線形問題をかかえているので、NNで精度を高めることができるかさぐってみる。\n",
        "\n",
        "*  Q2. 与えられた目的変数がIrisの3つの種類というカテゴリーなので、多項分類問題として扱った。与えられた特徴変数四つを使っていかに高精度で分類できるか。 従来の統計分類法では特徴変数同士をかけ合わせたりして、新しい特徴値を使って精度を高めていた。\n",
        "\n",
        "*  Q3.　irisデータとは3つのクラスの目的変数、4つの特徴変数をもつ150のデータ点からなるデータである。\n",
        "\n",
        "\n",
        "---\n",
        "\n",
        "\n",
        ">  目的変数カテゴリー：　0 = 'Setosa', 1 = 'Versicolour', 2 = 'Virginica'\n",
        "\n",
        ">  入力データX\n",
        "\n",
        "* 特徴値4：SL='Sepal Length', SW='Sepal Width', PL='Petal Length', PW = 'Petal Width'\n",
        "\n",
        "* データ数150\n",
        "\n",
        "** 構築するNN **　全結合4-5-3\n",
        "\n",
        "中間層１: 5ノード　--- Irisデータは小さく、ほとんどが線形境界線で分類可能なのでシンプルな構造のニューラルネットワークを構築\n",
        "\n",
        "中間活性化関数：　ReLU\n",
        "\n",
        "出力活性化関数：　Softmax\n",
        "\n",
        "誤差関数：　交差エントロピー\n",
        "\n",
        "学習率：　固定\n"
      ]
    },
    {
      "cell_type": "code",
      "metadata": {
        "id": "ZnlWqln1IMXb",
        "colab_type": "code",
        "colab": {}
      },
      "source": [
        "import sys\n",
        "sys.path.append('/content/drive/My Drive/Pythonライブラリ基礎講座/DNN_code_colab_ver200425')"
      ],
      "execution_count": null,
      "outputs": []
    },
    {
      "cell_type": "code",
      "metadata": {
        "id": "lM3hXD-ACp7Y",
        "colab_type": "code",
        "colab": {}
      },
      "source": [
        "import pandas as pd\n",
        "import numpy as np\n",
        "from sklearn import datasets\n",
        "from common import functions\n",
        "import matplotlib.pyplot as plt\n",
        "\n",
        "%matplotlib inline\n",
        "\n",
        "from sklearn import metrics"
      ],
      "execution_count": null,
      "outputs": []
    },
    {
      "cell_type": "code",
      "metadata": {
        "id": "1nTyhOfNpuTW",
        "colab_type": "code",
        "colab": {}
      },
      "source": [
        ""
      ],
      "execution_count": null,
      "outputs": []
    },
    {
      "cell_type": "code",
      "metadata": {
        "id": "vWJV-sHuEvax",
        "colab_type": "code",
        "colab": {
          "base_uri": "https://localhost:8080/",
          "height": 34
        },
        "outputId": "a6bbe701-a2da-4929-8963-9f1ee72beb6a"
      },
      "source": [
        "iris = datasets.load_iris()\n",
        "X = iris.data\n",
        "Y = iris.target\n",
        "d = np.array(Y)\n",
        "df = pd.DataFrame(X)\n",
        "df.columns = ['SL', 'SW', 'PL',' PW']\n",
        "df['Species'] = Y\n",
        "df.shape"
      ],
      "execution_count": null,
      "outputs": [
        {
          "output_type": "execute_result",
          "data": {
            "text/plain": [
              "(150, 5)"
            ]
          },
          "metadata": {
            "tags": []
          },
          "execution_count": 930
        }
      ]
    },
    {
      "cell_type": "code",
      "metadata": {
        "id": "RPk56hgKoKi9",
        "colab_type": "code",
        "colab": {
          "base_uri": "https://localhost:8080/",
          "height": 198
        },
        "outputId": "a2abdb36-cbe4-4f75-c640-a99d1ea6b5fb"
      },
      "source": [
        "df.head()"
      ],
      "execution_count": null,
      "outputs": [
        {
          "output_type": "execute_result",
          "data": {
            "text/html": [
              "<div>\n",
              "<style scoped>\n",
              "    .dataframe tbody tr th:only-of-type {\n",
              "        vertical-align: middle;\n",
              "    }\n",
              "\n",
              "    .dataframe tbody tr th {\n",
              "        vertical-align: top;\n",
              "    }\n",
              "\n",
              "    .dataframe thead th {\n",
              "        text-align: right;\n",
              "    }\n",
              "</style>\n",
              "<table border=\"1\" class=\"dataframe\">\n",
              "  <thead>\n",
              "    <tr style=\"text-align: right;\">\n",
              "      <th></th>\n",
              "      <th>SL</th>\n",
              "      <th>SW</th>\n",
              "      <th>PL</th>\n",
              "      <th>PW</th>\n",
              "      <th>Species</th>\n",
              "    </tr>\n",
              "  </thead>\n",
              "  <tbody>\n",
              "    <tr>\n",
              "      <th>0</th>\n",
              "      <td>5.1</td>\n",
              "      <td>3.5</td>\n",
              "      <td>1.4</td>\n",
              "      <td>0.2</td>\n",
              "      <td>0</td>\n",
              "    </tr>\n",
              "    <tr>\n",
              "      <th>1</th>\n",
              "      <td>4.9</td>\n",
              "      <td>3.0</td>\n",
              "      <td>1.4</td>\n",
              "      <td>0.2</td>\n",
              "      <td>0</td>\n",
              "    </tr>\n",
              "    <tr>\n",
              "      <th>2</th>\n",
              "      <td>4.7</td>\n",
              "      <td>3.2</td>\n",
              "      <td>1.3</td>\n",
              "      <td>0.2</td>\n",
              "      <td>0</td>\n",
              "    </tr>\n",
              "    <tr>\n",
              "      <th>3</th>\n",
              "      <td>4.6</td>\n",
              "      <td>3.1</td>\n",
              "      <td>1.5</td>\n",
              "      <td>0.2</td>\n",
              "      <td>0</td>\n",
              "    </tr>\n",
              "    <tr>\n",
              "      <th>4</th>\n",
              "      <td>5.0</td>\n",
              "      <td>3.6</td>\n",
              "      <td>1.4</td>\n",
              "      <td>0.2</td>\n",
              "      <td>0</td>\n",
              "    </tr>\n",
              "  </tbody>\n",
              "</table>\n",
              "</div>"
            ],
            "text/plain": [
              "    SL   SW   PL   PW  Species\n",
              "0  5.1  3.5  1.4  0.2        0\n",
              "1  4.9  3.0  1.4  0.2        0\n",
              "2  4.7  3.2  1.3  0.2        0\n",
              "3  4.6  3.1  1.5  0.2        0\n",
              "4  5.0  3.6  1.4  0.2        0"
            ]
          },
          "metadata": {
            "tags": []
          },
          "execution_count": 931
        }
      ]
    },
    {
      "cell_type": "code",
      "metadata": {
        "id": "P6BqiyBVoVyZ",
        "colab_type": "code",
        "colab": {
          "base_uri": "https://localhost:8080/",
          "height": 282
        },
        "outputId": "e9b116f0-c24c-4ab9-dac4-4401663e1d50"
      },
      "source": [
        "colors = df.Species.map({0:'r', 1:'b', 2:'g'})\n",
        "plt.scatter(df.PL, df.SL, color=colors)"
      ],
      "execution_count": null,
      "outputs": [
        {
          "output_type": "execute_result",
          "data": {
            "text/plain": [
              "<matplotlib.collections.PathCollection at 0x7fe243702f60>"
            ]
          },
          "metadata": {
            "tags": []
          },
          "execution_count": 932
        },
        {
          "output_type": "display_data",
          "data": {
            "image/png": "[encoded data removed]",
            "text/plain": [
              "<Figure size 432x288 with 1 Axes>"
            ]
          },
          "metadata": {
            "tags": [],
            "needs_background": "light"
          }
        }
      ]
    },
    {
      "cell_type": "code",
      "metadata": {
        "id": "MHCXXTtfx_OF",
        "colab_type": "code",
        "colab": {
          "base_uri": "https://localhost:8080/",
          "height": 34
        },
        "outputId": "3777d1df-b58e-4143-c968-392d6b6666d1"
      },
      "source": [
        "from sklearn import preprocessing\n",
        "print(iris.data.shape)\n",
        "# normalize the data attributes\n",
        "stamdardized_X = preprocessing.scale(X)"
      ],
      "execution_count": null,
      "outputs": [
        {
          "output_type": "stream",
          "text": [
            "(150, 4)\n"
          ],
          "name": "stdout"
        }
      ]
    },
    {
      "cell_type": "code",
      "metadata": {
        "id": "N_CWQKqpySMG",
        "colab_type": "code",
        "colab": {}
      },
      "source": [
        "df_std = pd.DataFrame(stamdardized_X)\n",
        "df_std.columns = ['SL', 'SW', 'PL',' PW']"
      ],
      "execution_count": null,
      "outputs": []
    },
    {
      "cell_type": "code",
      "metadata": {
        "id": "3RVmSUaqGuiU",
        "colab_type": "code",
        "colab": {}
      },
      "source": [
        "\n",
        "def print_vec(text, vec):\n",
        "    print(\"*** \" + text + \" ***\")\n",
        "    print(vec)\n",
        "    #print(\"shape: \" + str(x.shape))\n",
        "    print(\"\")\n"
      ],
      "execution_count": null,
      "outputs": []
    },
    {
      "cell_type": "code",
      "metadata": {
        "id": "W5_cBd1QIgne",
        "colab_type": "code",
        "colab": {}
      },
      "source": [
        "# 順伝播(単層・単ユニ）\n",
        "#Input\n",
        "x = np.array(df_std)\n",
        "\n",
        "# 重み \n",
        "W = np.random.rand(4,3)\n",
        "\n",
        "#Bias\n",
        "b = np.random.rand(3)\n",
        "\n",
        "\n",
        "\n",
        "# 総入力\n",
        "u = np.dot(x, W)+b\n",
        "\n",
        "# 出力\n",
        "z = functions.softmax(u)\n"
      ],
      "execution_count": null,
      "outputs": []
    },
    {
      "cell_type": "code",
      "metadata": {
        "id": "V034RJ1t3DmF",
        "colab_type": "code",
        "colab": {
          "base_uri": "https://localhost:8080/",
          "height": 69
        },
        "outputId": "c7c2fde6-c2e7-48a5-e44a-3833f6b53068"
      },
      "source": [
        "#  学習前の出力\n",
        "#  パラメータが最適化されていないので全く学習できていない\n",
        "metrics.confusion_matrix(d, np.argmax(z, axis=1))"
      ],
      "execution_count": null,
      "outputs": [
        {
          "output_type": "execute_result",
          "data": {
            "text/plain": [
              "array([[ 0, 50,  0],\n",
              "       [50,  0,  0],\n",
              "       [50,  0,  0]])"
            ]
          },
          "metadata": {
            "tags": []
          },
          "execution_count": 937
        }
      ]
    },
    {
      "cell_type": "markdown",
      "metadata": {
        "id": "yPa89lFzZzFR",
        "colab_type": "text"
      },
      "source": [
        "## 全結合4-5-3ネットワーク"
      ]
    },
    {
      "cell_type": "code",
      "metadata": {
        "id": "ABi1bPHAIgvL",
        "colab_type": "code",
        "colab": {}
      },
      "source": [
        "# 順伝播(3層・複数ユニット）4-5-3　ネットワーク\n",
        "# 入力層: 4ノード\n",
        "# 中間層: 5ノード\n",
        "# 出力層: 3ノード\n",
        "\n",
        "\n",
        "# ウェイトとバイアスを設定\n",
        "# ネットワークを作成\n",
        "def init_network():\n",
        "  #print(\"##### ネットワークの初期化 #####\")\n",
        "  network = {}\n",
        "  \n",
        "  network['W1'] = np.random.rand(4,5)\n",
        "  network['W2'] = np.random.rand(5,3)\n",
        "\n",
        "  network['b1'] = np.random.rand(5)\n",
        "  network['b2'] = np.random.rand(3)\n",
        "\n",
        "  return network"
      ],
      "execution_count": null,
      "outputs": []
    },
    {
      "cell_type": "code",
      "metadata": {
        "id": "RkWXd8alIgyc",
        "colab_type": "code",
        "colab": {}
      },
      "source": [
        "# プロセスを作成\n",
        "# ｘ：入力値\n",
        "\n",
        "# 順伝播\n",
        "def forward(network, x):\n",
        "\n",
        "  #print('#### 順伝播開始 ####')\n",
        "\n",
        "  W1, W2 = network['W1'], network['W2']\n",
        "  b1, b2 = network['b1'], network['b2']\n",
        "\n",
        "  # 1層の総入力\n",
        "  u1 = np.dot(x, W1) +b1\n",
        "  # 1層の総出力\n",
        "  z1 = functions.relu(u1)\n",
        "  # 2層の総入力\n",
        "  u2 = np.dot(z1, W2) + b2  \n",
        "  # 出力\n",
        "  y = functions.softmax(u2)\n",
        "\n",
        " # print_vec(\"総入力1\", u1)\n",
        " # print_vec(\"中間層出力1\", z1)\n",
        " # print_vec(\"総入力2\", u2)\n",
        " # print_vec(\"出力\", y)\n",
        "\n",
        "#   print(\"出力合計: \")\n",
        "#   print( np.sum(y,axis=1))\n",
        "\n",
        "  return y, z1\n",
        "\n",
        "# 誤差逆伝播\n",
        "def backward(x, d, z1, y):\n",
        "  #print('\\n #####誤差逆伝播開始#####')\n",
        "\n",
        "  grad={}  \n",
        "\n",
        "  W1, W2 = network['W1'], network['W2']\n",
        "  b1, b2 = network['b1'], network['b2']\n",
        "\n",
        "  # 出力層でのデルタ\n",
        "  delta2 = functions.d_softmax_with_loss(d, y)\n",
        "  # b2の勾配\n",
        "  grad['b2'] = np.sum(delta2, axis=0)\n",
        "  # W3の勾配\n",
        "  grad['W2'] = np.dot(z1.T, delta2)\n",
        "  # 中間層でのデルタ\n",
        "  delta1 = np.dot(delta2, W2.T) * functions.d_relu(z1)\n",
        "\n",
        "  grad['b1'] = np.sum(delta1, axis=0)\n",
        "\n",
        "  grad['W1'] = np.dot(x.T, delta1)\n",
        "\n",
        "\n",
        "  #print_vec(\"偏微分_dE/du2\", delta2)\n",
        "  #print_vec(\"偏微分_dE/du2\", delta1)\n",
        "\n",
        "  # print_vec(\"偏微分_重み1\", grad[\"W1\"])\n",
        "  # print_vec(\"偏微分_重み2\", grad[\"W2\"])\n",
        "  # print_vec(\"偏微分_バイアス1\", grad[\"b1\"])\n",
        "  # print_vec(\"偏微分_バイアス2\", grad[\"b2\"])\n",
        "\n",
        "  return grad\n"
      ],
      "execution_count": null,
      "outputs": []
    },
    {
      "cell_type": "code",
      "metadata": {
        "id": "_Pv0FrrnvFBK",
        "colab_type": "code",
        "colab": {}
      },
      "source": [
        "# 入力データ x iris feature input\n",
        "# 目標出力 d iris species\n",
        "\n",
        "# 学習率\n",
        "learning_rate = 0.01\n",
        "\n",
        "# ネットワークの初期化\n",
        "network =  init_network()\n",
        "\n",
        "y, z1 = forward(network, x)\n",
        "\n",
        "# 各データ点で最大値のクラスを選ぶ\n",
        "#y_cls = np.argmax(y, axis=1)\n",
        "\n",
        "# 誤差\n",
        "loss = functions.cross_entropy_error(d, y)\n",
        "\n",
        "grad = backward(x, d, z1, y)\n",
        "for key in ('W1', 'W2', 'b1', 'b2'):\n",
        "    network[key]  -= learning_rate * grad[key]\n",
        "\n",
        "#print(\"##### 結果表示 #####\") \n",
        "#print(\"##### 更新後パラメータ #####\") \n",
        "#print_vec(\"重み1\", network['W1'])\n",
        "#print_vec(\"重み2\", network['W2'])\n",
        "#print_vec(\"バイアス1\", network['b1'])\n",
        "#print_vec(\"バイアス2\", network['b2'])\n"
      ],
      "execution_count": null,
      "outputs": []
    },
    {
      "cell_type": "code",
      "metadata": {
        "id": "b-9sfhVP5zox",
        "colab_type": "code",
        "colab": {}
      },
      "source": [
        "# 勾配降下法でiterativeにパラメータの最適化を図る\n",
        "\n",
        "# 各EpochでXエントロピーを収納する変数を用意\n",
        "losses = []\n",
        "# 学習率\n",
        "learning_rate = 0.1\n",
        "\n",
        "# パラメータの初期化\n",
        "network = init_network()\n",
        "\n",
        "for i in range(2000):\n",
        "  y, z1 = forward(network, x)\n",
        "  grad = backward(x, d, z1, y)\n",
        "  # パラメータに勾配適用\n",
        "  for key in ('W1', 'W2', 'b1', 'b2'):\n",
        "    network[key] -= learning_rate * grad[key]\n",
        "\n",
        "  # エラー\n",
        "  loss = functions.cross_entropy_error(d,y)\n",
        "  losses.append(loss)"
      ],
      "execution_count": null,
      "outputs": []
    },
    {
      "cell_type": "code",
      "metadata": {
        "id": "7TxFstiog_kt",
        "colab_type": "code",
        "colab": {
          "base_uri": "https://localhost:8080/",
          "height": 282
        },
        "outputId": "ff3454c8-fc35-4e14-c79c-a395e5d7338e"
      },
      "source": [
        "# 交差エントロピーの収束グラフ\n",
        "\n",
        "plt.plot(range(len(losses)), losses)"
      ],
      "execution_count": null,
      "outputs": [
        {
          "output_type": "execute_result",
          "data": {
            "text/plain": [
              "[<matplotlib.lines.Line2D at 0x7fe243676898>]"
            ]
          },
          "metadata": {
            "tags": []
          },
          "execution_count": 942
        },
        {
          "output_type": "display_data",
          "data": {
            "image/png": "[encoded data removed]",
            "text/plain": [
              "<Figure size 432x288 with 1 Axes>"
            ]
          },
          "metadata": {
            "tags": [],
            "needs_background": "light"
          }
        }
      ]
    },
    {
      "cell_type": "code",
      "metadata": {
        "id": "cTER3TLMqG8p",
        "colab_type": "code",
        "colab": {
          "base_uri": "https://localhost:8080/",
          "height": 86
        },
        "outputId": "b4e367c6-1f46-4e02-b806-ac42c098b0e0"
      },
      "source": [
        "def accuracy(Y_test, y_test):\n",
        "  conf = metrics.confusion_matrix(Y_test, np.argmax(y_test, axis=1))\n",
        "  print(conf)\n",
        "  return (conf[0,1]+conf[0,2]+conf[1,0]+ conf[1,2]+conf[2,0]+conf[2,1])/len(Y_test)\n",
        "\n",
        "\n",
        "accuracy(d, y)\n"
      ],
      "execution_count": null,
      "outputs": [
        {
          "output_type": "stream",
          "text": [
            "[[50  0  0]\n",
            " [ 0 48  2]\n",
            " [ 0  1 49]]\n"
          ],
          "name": "stdout"
        },
        {
          "output_type": "execute_result",
          "data": {
            "text/plain": [
              "0.02"
            ]
          },
          "metadata": {
            "tags": []
          },
          "execution_count": 943
        }
      ]
    },
    {
      "cell_type": "markdown",
      "metadata": {
        "id": "-KeaKlmEaVlr",
        "colab_type": "text"
      },
      "source": [
        "### 全結合4-5-3ネットワークの考察\n",
        "\n",
        "誤差関数がエポック500あたりからほとんど減少しなくなるので、過学習を防ぐためにも早めに学習を終了させることも考えられる。"
      ]
    },
    {
      "cell_type": "markdown",
      "metadata": {
        "id": "6ZmZEzhieY9B",
        "colab_type": "text"
      },
      "source": [
        "## ホールドアウト法でモデル検証\n",
        "\n",
        "データ数が少ないのでCV法ではなくホールドアウトで検証する\n",
        "\n",
        "トレーニングデータとテストデータを8:2でわけた。その際、データのばらつきを少なくするために、各カテゴリーから１０個のデータをランダムにサンプルしてテストデータとした。"
      ]
    },
    {
      "cell_type": "code",
      "metadata": {
        "id": "FlNROkNkFQFl",
        "colab_type": "code",
        "colab": {
          "base_uri": "https://localhost:8080/",
          "height": 54
        },
        "outputId": "90b2793b-8001-4a8b-f8ab-06bd57657c29"
      },
      "source": [
        "j0 = 0\n",
        "id_test =[]\n",
        "for i in range(3):\n",
        "  j = (50*(i+1))\n",
        "  id_test.extend(df.iloc[j0:j].sample(10).index)\n",
        "  j0 = j\n",
        "print(id_test)\n",
        "X_test = np.array(df_std.iloc[id_test])\n",
        "Y_test = np.array(Y[id_test])\n",
        "rg = list(range(150))\n",
        "for i in id_test:\n",
        "  rg.remove(i)\n",
        "len(rg)\n",
        "X_train = np.array(df_std.loc[rg])\n",
        "Y_train = np.array(Y[rg])"
      ],
      "execution_count": null,
      "outputs": [
        {
          "output_type": "stream",
          "text": [
            "[28, 32, 26, 37, 21, 27, 0, 3, 23, 49, 71, 78, 55, 67, 60, 79, 92, 74, 64, 83, 119, 128, 100, 149, 136, 146, 118, 117, 120, 138]\n"
          ],
          "name": "stdout"
        }
      ]
    },
    {
      "cell_type": "code",
      "metadata": {
        "id": "YaQvLZZFPMwF",
        "colab_type": "code",
        "colab": {}
      },
      "source": [
        "#検証誤差\n",
        "def Test_Loss(Y_test, X_test,network ):\n",
        "  z =X_test.dot(network['W1'])+network['b1']\n",
        "  out = z.dot(network['W2'])+network['b2']\n",
        "  y_test = functions.softmax(out)\n",
        "  t_l = functions.cross_entropy_error(Y_test,y_test)\n",
        "  return t_l "
      ],
      "execution_count": null,
      "outputs": []
    },
    {
      "cell_type": "code",
      "metadata": {
        "id": "kb0n91WbwPel",
        "colab_type": "code",
        "colab": {}
      },
      "source": [
        "# 勾配降下法でiterativeにパラメータの最適化を図る\n",
        "\n",
        "# 各EpochでXエントロピーを収納する変数を用意\n",
        "losses = []\n",
        "test_losses = []\n",
        "\n",
        "# 学習率\n",
        "learning_rate = 0.1\n",
        "\n",
        "# パラメータの初期化\n",
        "network = init_network()\n",
        "\n",
        "for i in range(2000):\n",
        "  y, z1 = forward(network, X_train)\n",
        "  grad = backward(X_train, Y_train, z1, y)\n",
        "  # パラメータに勾配適用\n",
        "  for key in ('W1', 'W2', 'b1', 'b2'):\n",
        "    network[key] -= learning_rate * grad[key]\n",
        "  \n",
        "\n",
        "  # エラー\n",
        "  loss = functions.cross_entropy_error(Y_train,y)\n",
        "  losses.append(loss)\n",
        "  test_losses.append(Test_Loss(Y_test, X_test, network))"
      ],
      "execution_count": null,
      "outputs": []
    },
    {
      "cell_type": "code",
      "metadata": {
        "id": "LLq_k4cxSHWb",
        "colab_type": "code",
        "colab": {
          "base_uri": "https://localhost:8080/",
          "height": 282
        },
        "outputId": "bfc6f067-3b94-4fee-b72f-ffcb0f87005a"
      },
      "source": [
        "# 交差エントロピーの収束グラフ\n",
        "\n",
        "plt.plot(range(len(losses)), losses, color='b')\n",
        "plt.plot(range(len(losses)), test_losses, color='r')\n",
        "#plt.title('交差エントロピーの収束グラフ')"
      ],
      "execution_count": null,
      "outputs": [
        {
          "output_type": "execute_result",
          "data": {
            "text/plain": [
              "[<matplotlib.lines.Line2D at 0x7fe24362bbe0>]"
            ]
          },
          "metadata": {
            "tags": []
          },
          "execution_count": 947
        },
        {
          "output_type": "display_data",
          "data": {
            "image/png": "[encoded data removed]",
            "text/plain": [
              "<Figure size 432x288 with 1 Axes>"
            ]
          },
          "metadata": {
            "tags": [],
            "needs_background": "light"
          }
        }
      ]
    },
    {
      "cell_type": "code",
      "metadata": {
        "id": "PknBaJFQwc5L",
        "colab_type": "code",
        "colab": {
          "base_uri": "https://localhost:8080/",
          "height": 86
        },
        "outputId": "1626fcce-da9b-4f60-91fa-e4e3c926d610"
      },
      "source": [
        "# 学習誤差\n",
        "accuracy(Y_train, y)"
      ],
      "execution_count": null,
      "outputs": [
        {
          "output_type": "stream",
          "text": [
            "[[40  0  0]\n",
            " [ 0 39  1]\n",
            " [ 0  1 39]]\n"
          ],
          "name": "stdout"
        },
        {
          "output_type": "execute_result",
          "data": {
            "text/plain": [
              "0.016666666666666666"
            ]
          },
          "metadata": {
            "tags": []
          },
          "execution_count": 948
        }
      ]
    },
    {
      "cell_type": "markdown",
      "metadata": {
        "id": "2BOhcLX72ZIg",
        "colab_type": "text"
      },
      "source": [
        ""
      ]
    },
    {
      "cell_type": "code",
      "metadata": {
        "id": "5oJAPMUt0TI-",
        "colab_type": "code",
        "colab": {}
      },
      "source": [
        "# テスト誤差\n",
        "\n",
        "z =X_test.dot(network['W1'])+network['b1']\n",
        "out = z.dot(network['W2'])+network['b2']\n",
        "y_test = functions.softmax(out)\n",
        "y_label = np.argmax(y_test, axis=1)"
      ],
      "execution_count": null,
      "outputs": []
    },
    {
      "cell_type": "code",
      "metadata": {
        "id": "DmHNpBYWCERV",
        "colab_type": "code",
        "colab": {
          "base_uri": "https://localhost:8080/",
          "height": 86
        },
        "outputId": "d8b6ac53-ef62-4244-9b7e-f654c1dac04a"
      },
      "source": [
        "accuracy(Y_test, y_test)"
      ],
      "execution_count": null,
      "outputs": [
        {
          "output_type": "stream",
          "text": [
            "[[10  0  0]\n",
            " [ 0  9  1]\n",
            " [ 0  0 10]]\n"
          ],
          "name": "stdout"
        },
        {
          "output_type": "execute_result",
          "data": {
            "text/plain": [
              "0.03333333333333333"
            ]
          },
          "metadata": {
            "tags": []
          },
          "execution_count": 950
        }
      ]
    },
    {
      "cell_type": "markdown",
      "metadata": {
        "id": "IXonqxbS2jqF",
        "colab_type": "text"
      },
      "source": [
        "## 結果と結論\n",
        "\n",
        "サンプルサイズ120の訓練データで学習したモデルをテストデータで検証したところ、結果に非常にばらつきがあることが分かった。ランダムにサンプルされたデータではあるが、サンプルサイズが小さいので学習には限界がある。\n",
        "\n",
        "モデルの安定化を図るためにも罰則を取り入れて過学習を抑えること、早めに学習を終了させることなどが考えられる。\n",
        "\n",
        "学習率については単純なモデルと小さなサンプルサイズということもあり、固定値を微調整することで問題なかったが、学習率最適化法などを取り入れることが複雑なモデルでは必要になってくる\n",
        "\n",
        "精度を上げるために層を増やしたところ直ちに勾配消失問題が起きた。今後の課題とする"
      ]
    },
    {
      "cell_type": "code",
      "metadata": {
        "id": "7VWShi0TCGHX",
        "colab_type": "code",
        "colab": {}
      },
      "source": [
        "import matplotlib.pyplot as plt\n",
        "\n",
        "def draw_neural_net(ax, left, right, bottom, top, layer_sizes):\n",
        "    '''\n",
        "    Draw a neural network cartoon using matplotilb.\n",
        "    \n",
        "    :usage:\n",
        "        >>> fig = plt.figure(figsize=(12, 12))\n",
        "        >>> draw_neural_net(fig.gca(), .1, .9, .1, .9, [4, 7, 2])\n",
        "    \n",
        "    :parameters:\n",
        "        - ax : matplotlib.axes.AxesSubplot\n",
        "            The axes on which to plot the cartoon (get e.g. by plt.gca())\n",
        "        - left : float\n",
        "            The center of the leftmost node(s) will be placed here\n",
        "        - right : float\n",
        "            The center of the rightmost node(s) will be placed here\n",
        "        - bottom : float\n",
        "            The center of the bottommost node(s) will be placed here\n",
        "        - top : float\n",
        "            The center of the topmost node(s) will be placed here\n",
        "        - layer_sizes : list of int\n",
        "            List of layer sizes, including input and output dimensionality\n",
        "    '''\n",
        "    n_layers = len(layer_sizes)\n",
        "    v_spacing = (top - bottom)/float(max(layer_sizes))\n",
        "    h_spacing = (right - left)/float(len(layer_sizes) - 1)\n",
        "    # Nodes\n",
        "    for n, layer_size in enumerate(layer_sizes):\n",
        "        layer_top = v_spacing*(layer_size - 1)/2. + (top + bottom)/2.\n",
        "        for m in range(layer_size):\n",
        "            circle = plt.Circle((n*h_spacing + left, layer_top - m*v_spacing), v_spacing/4.,\n",
        "                                color='w', ec='k', zorder=4)\n",
        "            ax.add_artist(circle)\n",
        "    # Edges\n",
        "    for n, (layer_size_a, layer_size_b) in enumerate(zip(layer_sizes[:-1], layer_sizes[1:])):\n",
        "        layer_top_a = v_spacing*(layer_size_a - 1)/2. + (top + bottom)/2.\n",
        "        layer_top_b = v_spacing*(layer_size_b - 1)/2. + (top + bottom)/2.\n",
        "        for m in range(layer_size_a):\n",
        "            for o in range(layer_size_b):\n",
        "                line = plt.Line2D([n*h_spacing + left, (n + 1)*h_spacing + left],\n",
        "                                  [layer_top_a - m*v_spacing, layer_top_b - o*v_spacing], c='k', linewidth=0.5)\n",
        "                ax.add_artist(line)"
      ],
      "execution_count": null,
      "outputs": []
    },
    {
      "cell_type": "code",
      "metadata": {
        "id": "-2NK7dDX9y1U",
        "colab_type": "code",
        "colab": {
          "base_uri": "https://localhost:8080/",
          "height": 575
        },
        "outputId": "95e183e0-f335-447c-ebd6-3aeedfe6e14d"
      },
      "source": [
        "fig = plt.figure(figsize=(10, 10))\n",
        "ax = fig.gca()\n",
        "ax.axis('off')\n",
        "draw_neural_net(ax, .1, .9, .1, .9, [4, 5, 3])\n",
        "fig.savefig('nn.png')"
      ],
      "execution_count": null,
      "outputs": [
        {
          "output_type": "display_data",
          "data": {
            "image/png": "[encoded data removed]",
            "text/plain": [
              "<Figure size 720x720 with 1 Axes>"
            ]
          },
          "metadata": {
            "tags": [],
            "needs_background": "light"
          }
        }
      ]
    },
    {
      "cell_type": "code",
      "metadata": {
        "id": "_OdjoSKS98vV",
        "colab_type": "code",
        "colab": {}
      },
      "source": [
        ""
      ],
      "execution_count": null,
      "outputs": []
    }
  ]
}