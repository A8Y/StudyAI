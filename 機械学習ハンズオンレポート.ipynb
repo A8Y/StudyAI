{
  "nbformat": 4,
  "nbformat_minor": 0,
  "metadata": {
    "colab": {
      "name": "Untitled0.ipynb",
      "provenance": [],
      "collapsed_sections": [],
      "toc_visible": true
    },
    "kernelspec": {
      "name": "python3",
      "display_name": "Python 3"
    }
  },
  "cells": [
    {
      "cell_type": "markdown",
      "metadata": {
        "id": "N0mJOPs3r1zH",
        "colab_type": "text"
      },
      "source": [
        "# 実装演習レポート１：機械学習\n",
        "###機械学習とは：　\n",
        "\n",
        "*   タスク（T)を性能指標（P)で測定し、その性能が経験（E, i.e., データ) により改善されるとする。 このような場合、コンピュータプログラムはT及びPに関してEから学習するといわれている。\n",
        "\n",
        "*   機械学習プログラムは数学的な理論に基づいたアルゴリズムで書かれた\"学習する方法\"である\n",
        "\n",
        "\n",
        "> **説明変数**  $x$ : 入力値  m個の特徴値を持つm次元ベクトル \n",
        "\n",
        "\n",
        "> **目的変数**  $y$ : 出力値  スカラー値\n",
        "\n",
        "> **説明委変数パラメータ (重み)**　$w$ : 特徴量 $x$ が予想値 $\\hat y$に対してどのような影響を与えるかを決定する重みの集合\n",
        "\n",
        "> **データ** (X, Y)=$((x_i, y_i), i = 1,...,n))$： nはデータの個数、$x_i$はi番目の入力値\n",
        "\n",
        "> **予測値** $\\hat y$\n"
      ]
    },
    {
      "cell_type": "markdown",
      "metadata": {
        "id": "fkOoGeBOsBUc",
        "colab_type": "text"
      },
      "source": [
        "# １. 回帰問題 (Regression)\n",
        "\n",
        "> **ある入力 X(連続値、離散値）から連続値Y を予測する問題**\n",
        "\n",
        ">  データに出力値がある場合に回帰問題を解くために使われる**教師あり学習**の一つ\n"
      ]
    },
    {
      "cell_type": "markdown",
      "metadata": {
        "id": "S0Ni3nmPsfsV",
        "colab_type": "text"
      },
      "source": [
        "##  1.1. 線形回帰モデル\n",
        "\n",
        "m次元特徴値を持つの入力データ**ｘ**とパラメーター**ｗ**の線形結合（入力とパラメーターの内積）で表されるモデル\n",
        "\n",
        "### 1.1.1 パラメーターと推定方法\n",
        "\n",
        "> * 最小二乗法　:　平均二乗誤差（MSE)を最小化させるようなパラメータを探す方法\n",
        "\n",
        "> * 切片とは$x=0$のときの$y$の値　（y軸との交点）\n",
        "\n",
        "> * 平均二乗誤差（MSE）：　$y$と$\\hat{y}$の差を二乗したものの和\n",
        "\n",
        "> * 最尤法（Maximum likelihood) による回帰係数の推定\n",
        "\n",
        "> * 線形回帰の場合は最尤法と最小二乗法の回帰係数の推定は一致するが、線形回帰では最小二乗法を使って回帰係数の推定\n",
        "\n",
        "### 1.1.2 単回帰モデル\n",
        "\n",
        "> 説明変数が一次元　（ｍ＝１）\n",
        "\n",
        "> 直線で表される\n",
        "\n",
        "### 1.1.3 重回帰モデル\n",
        "\n",
        "> 説明変数が二次元以上　（ｍ＞１）\n",
        "\n",
        "> ２次元の特徴値では平面で表される"
      ]
    },
    {
      "cell_type": "markdown",
      "metadata": {
        "id": "lgA2Pn7d6xoM",
        "colab_type": "text"
      },
      "source": [
        "## 1.2 データの分割\n",
        "### 目的\n",
        "\n",
        "* **モデルの汎化性能を測る**ことによって未知のデータの予測の精度を上げる\n",
        "\n",
        "### 分割方法\n",
        "\n",
        "* 有限のデータをｋ個に分割し、そのうちの1つをテスト用(Test data)として、残りのk-1個のデータを学習用(Training data)とする \n",
        "* 学習データを使ってモデルを作り、テストデータでモデルの精度を測る\n",
        "\n"
      ]
    },
    {
      "cell_type": "markdown",
      "metadata": {
        "id": "wLAerUEaghpS",
        "colab_type": "text"
      },
      "source": [
        "## 1.3 非線形回帰分析\n",
        "\n",
        "> 非線形構造を内在する現象に対して非線形回帰モデルで表現\n",
        "\n",
        "> **基底展開法** といって、**基底関数**$\\phi$ と 呼ばれる既知の非線形関数とパラメータベクトルの線形結合を使用\n",
        "\n",
        "\n",
        "*   非線形関数ベクトル : $\\phi (x_i) = (\\phi _1 (x _1),\\phi _2 (x _i), ..., \\phi _k (x _i) )^T、k=基底関数の数$\n",
        "*   非線形関数の計画行列 :　$\\Phi ^{(train)} = (\\phi (x _1),\\phi (x _2), ..., \\phi (x _n) )^T, \\in R ^{(n \\times k)}$\n",
        "* $\\hat y_i = w_0 + \\Sigma w_j \\phi _j (x_i) + \\epsilon _i$\n",
        "\n",
        ">最小二乗法や最尤法でパラメーターを推定\n",
        "\n",
        "ベクター表記も線形回帰と同じ枠組みで\n",
        "\n",
        "### 1.3.1 よく使われる基底関数\n",
        "\n",
        "> 多項式\n",
        "\n",
        "> ガウス　：　形だけ正規分布のpdfと同じだが、pdfではないので総積は１になる必要はない\n",
        "\n",
        "> spline/B-Spline\n",
        "\n",
        "### 1.3.2 未学習(Underfitting)と過学習(overfitting)\n",
        "\n",
        "未学習:　学習データに対して十分小さな誤差が得られないモデル\n",
        ">　表現力がより高いモデルを利用 \n",
        "\n",
        "\n",
        "**過学習**:　小さな誤差はえられたが、学習誤差と検証誤差との差が大きいモデル\n",
        "\n",
        "> * 学習データの数を増やす　\n",
        "\n",
        "> * 不要な既定関数(変数）を削除して表現力を抑止　：　基底関数の数、位置、バンド幅によりモデルのコンプレキシティーが変化。適切な既定関数を用意\n",
        "\n",
        "> * **正則化法**　ペナルティを課して表現力を抑止\n"
      ]
    },
    {
      "cell_type": "markdown",
      "metadata": {
        "id": "JIPp9wGEcAty",
        "colab_type": "text"
      },
      "source": [
        "## 1.4 正則化法(Regularization)（罰則化法）\n",
        "\n",
        "モデルの複雑さに伴って、その値が大きくなる正則化項(Penalty)を課した関数を最小化\n",
        "\n",
        "### 1.4.1 正則化項(罰則項）\n",
        "\n",
        "*　Lasso L1ノルムを利用　:　スパース推定　(いくつかのパラメーターを正確に０に推定することによって、推定する段階で不要な変数やパラメータを排除できる）\n",
        "\n",
        "*　Ridge L2ノルムを利用　:　縮小推定　　（パラメーターを０に近づけるよう推定）\n",
        "\n",
        "### 1.4.2 正則化パラメータ　$\\gamma$\n",
        "\n",
        "*　**モデルの曲線の滑らかさを調節**\n",
        "\n",
        "*　$\\gamma$ 小さく　→　制約面が大きく\n",
        "\n",
        "*　$\\gamma$ 大きく　→　制約面が小さく\n",
        "\n"
      ]
    },
    {
      "cell_type": "markdown",
      "metadata": {
        "id": "m7I2IDUpyqHJ",
        "colab_type": "text"
      },
      "source": [
        "## 1.5　汎化性能\n",
        "学習誤差ではなくテスト誤差（汎化誤差）が小さいものが良い性能を持ったモデル\n",
        "\n",
        ">テスト誤差 は検証データでの性能を測ることで推定\n",
        "\n",
        "### **ホールドアウト法**:　ｋ個に分けたデータの一つをテスト用、残りを学習用に2分割\n",
        "* 学習用データを多くすれば学習制度はよくなるが性能評価の精度は悪くなる\n",
        "* テストデータを多くすれば学習の精度が悪くなる\n",
        "* 大きなデータ以外には良い性能評価を与えない\n",
        "\n",
        "### **クロスバリデーション**:\n",
        "K個に分けたデータの一つをテストデータとする。残りのデータで学習する。これをｋ回繰り返す\n",
        "\n",
        "#### **CV値**：ｋ回のモデリングで得られた精度の平均値\n",
        "\n",
        "### **グリッドサーチ**\n",
        "\n",
        "* すべてのチューニングパラメータの組みあ合わせで評価値を算出\n",
        "\n",
        "* 最も良い評価値を持つチューニングパラメータを持つ組み合わせをいいモデルのパラメータとして採用\n",
        "\n",
        "### **バイアス・バリアンス分解**\n",
        "\n",
        "> 損失関数の期待値はバリアンス、バイアスの2乗、ノイズに分解できる。\n",
        "\n",
        "$E_D [L(y(x;D),t)]$\n",
        "\n",
        "$=E_D [((y(x;D)−E_D[y(x;D))] ^2] $  (バリアンス)\n",
        "\n",
        "$+E_D [{E_D|y(x;D)]−E[t|x;D]}^2]$　(バイアスの（二乗）)\n",
        "\n",
        "$+E_D[(E[t|x;D]−t)^2]$　(ノイズ)\n",
        "\n",
        "に分解できる。損失関数を０として最小化するとき、以下のことが生じる。\n",
        "\n",
        "#### **バリアンス**：\n",
        "\n",
        "* モデル$y(x;D)$ による予測が、訓練データ集合によって変動する度合いの期待値を表しており、**訓練データに依存しすぎることで新しいデータへの予測が悪化する度合い**を表している\n",
        "\n",
        "#### **バイアス**：　\n",
        "\n",
        "* 損失の期待値を最小化する$E[t|x;D]$からずれる度合いの期待値を表しており、**モデルが単純であるあまりに学習がうまくいかない度合い**を表している\n",
        "\n",
        "#### **バイアスとバリアンスのトレードオフ**\n",
        "\n",
        "> バイアスとバリアンスはトレードオフの関係にあり、正則化によって過学習制御をおこなった場合の関係はバリアンスが下がるとバイアスが大きくなる。以下。\n",
        "\n",
        ">  *　過学習制御を小さくしておけば、訓練データに対してはフィットするためのバイアスは小さくなる。一方でデータに依存しすぎたあまりに生じるバリアンスは大きくなる\n",
        "\n",
        ">  *　過学習制御を大きくすれば、訓練データへの依存度であるバリアンスは小さくなるが、訓練データにすらフィッティングできなくなりバイアスが上昇する\n",
        "\n",
        "**損失の期待値を最小化するには、バリアンスとバイアスが両方共なるべく低い位置で正則化を決めることで。新規データに対する誤差も小さくなりうる**"
      ]
    },
    {
      "cell_type": "markdown",
      "metadata": {
        "id": "ADStf5Q4mqqS",
        "colab_type": "text"
      },
      "source": [
        "# 2．分類問題　(Classification)\n",
        "\n",
        "ある入力からクラスに分類する問題で教師あり学習の一つ\n",
        "\n",
        "\n",
        "\n"
      ]
    },
    {
      "cell_type": "markdown",
      "metadata": {
        "id": "T86Yp1KvYod2",
        "colab_type": "text"
      },
      "source": [
        "##2.1 　ロジスティクス回帰モデル\n",
        "\n",
        "*　実数の値を持つ入力値$x$とm次元のパラメータの線形結合をシグモイド関数に入力\n",
        "\n",
        "モデルは下記の数式で表される：\n",
        "\n",
        "$$P(Y=1|x) = \\sigma(w_0 + w_1 x_1 + w_2 x_2+...+w_m x_m)$$\n",
        "\n",
        "For ith obs $x_i$ \n",
        "\n",
        "$$p_i = \\sigma (w_0 + w_1 x_{i1} + w_2 X_{i2} + ... + w_m x_{im})$$\n",
        "\n",
        "where $i=1,...,n$\n",
        "\n",
        "\n",
        "$\\sigma (h)$ は　シグモイド関数：\n",
        "　\n",
        "$\\sigma (h) = \\frac{1}{1+exp(-h)}$　\n",
        "\n",
        "*　出力は$y=1$になる0～1の間の確率の値になるので、0.5以上ならばY=1、未満なら０と予測\n"
      ]
    },
    {
      "cell_type": "markdown",
      "metadata": {
        "id": "hsS1aOtoYwQd",
        "colab_type": "text"
      },
      "source": [
        "## 2.2　シグモイド関数の性質\n",
        "\n",
        "* シグモイド関数の微分はシグモイド関数地震で表現可能であり、尤度関数の微分でパラメーターの最適化を図るとき計算が用意 \n",
        "\n",
        "\n",
        "シグモイド関数の特徴としてどのような値を入れても出力は０～１の間になる\n",
        "\n"
      ]
    },
    {
      "cell_type": "markdown",
      "metadata": {
        "id": "cXSJnDk2YzEO",
        "colab_type": "text"
      },
      "source": [
        "\n",
        "## 2.3 ロジスティクス回帰の最尤推定法\n",
        "\n",
        "* $Y$ が１か０を取る確率はベルヌーイ分布によってあらわせれるので、ロジスティクス回帰モデルはベルヌーイ分布を取ると考えられる。　よって、最尤法で既存のデータが最もよく現れる確率を与えるパラメーターを推定することができる。\n",
        "\n",
        "* 便宜上、尤度関数でlogをとり、マイナスをかけたものを最小化する点、すなわち０の点を見つける。\n"
      ]
    },
    {
      "cell_type": "markdown",
      "metadata": {
        "id": "JT2yfAt7Y2LA",
        "colab_type": "text"
      },
      "source": [
        "## 2.4 勾配降下法で最尤推定法のimplementation:　\n",
        "実際はロジスティクス回帰モデルにおいて、解析的にこの値を求めることは困難なのであるので、**勾配降下法**で推定する。　勾配降下法とはより小さな傾きを見つけながら傾き０を探していくという反復学習法である。\n",
        "\n",
        "目的関数をそれぞれのパラメータで偏微分して学習率$\\eta$とかけたものをそれぞれのパラメーターから引いて、パラメータの更新をする。\n",
        "\n",
        "$$w^{k+1} = w^k - \\eta \\frac{\\partial E(w)}{\\partial w}$$"
      ]
    },
    {
      "cell_type": "markdown",
      "metadata": {
        "id": "u26IyFwGY4XY",
        "colab_type": "text"
      },
      "source": [
        "### 色々な勾配降下法\n",
        "\n",
        "1.   標準勾配降下法　\n",
        "\n",
        "ロジスティック回帰の標準降下法によるパラメータ更新の式は：\n",
        "$w^{(k+1)} = w^{(k)} + \\eta \\Sigma_{i=1}^n (y_i - p_i) x_i$\n",
        "\n",
        "> Pros: 絶対に収束する\n",
        "\n",
        "> Cons: パラメータ更新にN個すべてのデータを使うことによりNが巨大になった時に計算時間が膨大になり膨大なメモリが必要\n",
        "\n",
        "2.   確率的勾配降下法　（SGD)\n",
        "\n",
        "ロジスティック回帰の確率勾配降下法によるパラメータの更新式:　\n",
        "$w^{(k+1)} = w^{(k)} + \\eta　(y_i - p_i) x_i$\n",
        "\n",
        "> データをひとつずつランダムに選んでパラメータを更新\n",
        "\n",
        "> データが大きい時には非常に便利\n",
        "\n"
      ]
    },
    {
      "cell_type": "markdown",
      "metadata": {
        "id": "BEkAxi-aY6Zu",
        "colab_type": "text"
      },
      "source": [
        "## 2.5 分類モデルの評価方法\n",
        "\n",
        "コロナのPCR検査の例\n",
        "\n",
        "Confusion Matrix\n",
        "\n",
        "TP = True Postitive (PCR陽性、実際はコロナにかかっている）\n",
        "\n",
        "FP = False Positive (PCR陽性、実際はコロナにかかっていない)\n",
        "\n",
        "TN = True Negative (PCR陰性、実際はコロナにかかっていない)\n",
        "\n",
        "FN = False Negative (PCR陰性、実際はコロナにかかっている)\n",
        "\n",
        "**正解率**：　$\\frac{TP＋TN}{TP+FP+TN+FN}$\n",
        "\n",
        "問題点：　分類したいクラスには偏りがある場合、単純な正解率はあまり意味をなさない\n",
        "\n",
        "\n",
        "**再現率　Recall**:  $\\frac{TP}{TP+ FN}$　本当にPositive の物の中からPositiveと予測できる割合 \n",
        "\n",
        "偽陽性が多少多くても抜け漏れは少ない予測をしたい場合に利用　（コロナの検査）\n",
        "\n",
        "**適合性　Precision**:　$\\frac{TP}{TP+FP}$ モデルがポジティブとした物のなかで本当にPositiveである割合。見逃し（FN)が多くてもより正確な予測をしたい際に利用\n",
        "\n",
        "**F-score**： RecallとPrecisionのはトレードオフの関係にあり、これらのバランスを示しているのがF-score。高ければ高いほどRecallとPrecisionがともに高くなる\n"
      ]
    },
    {
      "cell_type": "markdown",
      "metadata": {
        "id": "zlr4vils9qNv",
        "colab_type": "text"
      },
      "source": [
        "## 2.6 KNN\n",
        "\n",
        "分類のための教師あり学習\n",
        "\n",
        "$x_i$から最も近いｋ個データを取ってきて、多数決Votingでもっとも多くのクラスラベルに$x_i$を分類\n",
        "\n",
        "* ｋの値で結果も変わる\n",
        "\n",
        "* ｋを大きくすると決定境界は滑らかになる\n",
        "\n"
      ]
    },
    {
      "cell_type": "markdown",
      "metadata": {
        "id": "xf6JGke4EUUG",
        "colab_type": "text"
      },
      "source": [
        "## 2.7 SVM\n",
        "\n"
      ]
    },
    {
      "cell_type": "markdown",
      "metadata": {
        "id": "QZ5VGDD5-FVN",
        "colab_type": "text"
      },
      "source": [
        "# 3. K-means\n",
        "\n",
        "クラスタリング\n",
        "\n",
        "教師無し学習の一つ\n",
        "\n",
        "データをｋ個のクラスタに特徴のにているもの同士のクラスタに分類する方法\n",
        "\n",
        "1. ｋをとりあえず決定\n",
        "\n",
        "2. 各クラスの初期値を設定\n",
        "\n",
        "3. 各データ点に対して、各クラスタ中心との距離を計算し最も近いクラスタを割り当てる\n",
        "\n",
        "4. 各クラスタの平均ベクトルを計算し、更新する\n",
        "\n",
        "5. 収束するまで（動かなくなるまで）３，４を繰り返す\n",
        "\n",
        "問題点：　初期値を変えると結果も変わりうる\n",
        "収束点が最適とはわからない\n",
        "クラスタの数ｋを決めるのが結構大変\n",
        "\n"
      ]
    },
    {
      "cell_type": "markdown",
      "metadata": {
        "id": "caTwd_-vbBCl",
        "colab_type": "text"
      },
      "source": [
        "# 4. 主成分分析　（Principal component analysis)\n",
        "\n",
        "（変換したときに情報の損失がないように圧縮）\n",
        "\n",
        "**多変量データの次元を減らし小数個の指標に圧縮**\n",
        "\n",
        "* 次元を減らすことに伴う情報量の損失はなるべく小さくしたい\n",
        "\n",
        "* 少数変数をりようした分析や可視化が実現可能\n",
        "\n",
        "* 情報の量を分散の大きさと捉える\n",
        "\n",
        "* 線形変換後の変数の分散が最大となる射影軸を探索\n",
        "\n"
      ]
    },
    {
      "cell_type": "markdown",
      "metadata": {
        "id": "DaX2-B-3-fD0",
        "colab_type": "text"
      },
      "source": [
        "## 4.1 主成分の求め方\n",
        "データ行列: X¯=(x1−x¯,...,xn−x¯)T∈Rn×m \n",
        "\n",
        "線形変換後のベクトル:　 sj=(s1j,...,snj)T=X¯aj,   aj∈Rm , and j=jth pC\n",
        "\n",
        "線形変換後の分散:　 Var(sj)=1nsTjsj=1n(X¯aj)T(X¯aj)=1najX¯X¯aj=aTjVar(X¯)aj \n",
        "\n",
        "ノルムが１となる制約を入れて無限解を避けながら最適化問題を解く\n",
        "\n",
        "目的関数： argmaxaaTjVar(X¯)aj,   a∈Rm \n",
        "\n",
        "制約条件： aTjaj=1 \n",
        "\n",
        "制約付き最適化問題の解き方\n",
        "\n",
        "-> ラグランジュ関数を最大にする係数ベクトルを探索(微分して０になる点）\n",
        "\n",
        "ラグランジュ関数：　 E(aj)=aTjVar(X¯)aj−λ(aTjaj−1) \n",
        "\n",
        "∂E(aj)∂aj)=2Var(X¯)aj−2λaj=0 \n",
        "\n",
        "Var(X¯)aj=λaj \n",
        "\n",
        "これは固有値を固有ベクトルを求めるときと同じ形\n",
        "\n",
        "よって、係数 aj は X¯ の固有ベクトルと同じであり、 λ はそれに対応する固有値である"
      ]
    },
    {
      "cell_type": "markdown",
      "metadata": {
        "id": "N_X0utPU5C9S",
        "colab_type": "text"
      },
      "source": [
        "## 4.2寄与率\n",
        "\n",
        "次元削減により失った情報量\n",
        "\n",
        "m次元のデータをm次元の主成分で表皮したとき、固有値の和と元のデータの分散が一致: $V _{total} = {\\sum _{i=1} ^m \\lambda _i }$\n",
        "\n",
        "第ｋ主成分の分散は主成分に対応する固有値: $\\lambda _k$\n",
        "\n",
        "**寄与率**：　$c_k = \\frac{\\lambda _k}{\\sum _{i=1} ^m \\lambda _i }$\n",
        "全体のなかでｋ次元軸が持っている情報量\n",
        "\n",
        "**累積寄与率**: $r_k = \\frac{\\sum _{j=1} ^{k} \\lambda _k}{\\sum _{i=1} ^m \\lambda _i }$\n",
        "上記のｋだけでつかうことはない。１からｋまでの軸をすべて使うことになるので、累積寄与率が大切\n",
        "\n",
        "１～ｋ次元軸でどれぐらいの情報量が含まれているか考えることが大切\n",
        "\n",
        "\n"
      ]
    },
    {
      "cell_type": "markdown",
      "metadata": {
        "id": "bfxYaEWo-fRE",
        "colab_type": "text"
      },
      "source": [
        "# 5. ハンズオン"
      ]
    },
    {
      "cell_type": "markdown",
      "metadata": {
        "id": "fKF5cG4f-y7A",
        "colab_type": "text"
      },
      "source": [
        "## 5.1 線形回帰モデル\n",
        "\n",
        "住宅価格予測　Boston Hausing Data"
      ]
    },
    {
      "cell_type": "code",
      "metadata": {
        "id": "i9Nb4UR_-mcp",
        "colab_type": "code",
        "colab": {}
      },
      "source": [
        "from sklearn.datasets import load_boston\n",
        "from pandas import DataFrame\n",
        "import numpy as np"
      ],
      "execution_count": 85,
      "outputs": []
    },
    {
      "cell_type": "code",
      "metadata": {
        "id": "Uw5OBWTsCXUy",
        "colab_type": "code",
        "colab": {}
      },
      "source": [
        "# load data into boston\n",
        "boston = load_boston()"
      ],
      "execution_count": 86,
      "outputs": []
    },
    {
      "cell_type": "code",
      "metadata": {
        "id": "Crr_ap_ECy75",
        "colab_type": "code",
        "colab": {
          "base_uri": "https://localhost:8080/",
          "height": 1000
        },
        "outputId": "ee9b05f6-66e1-437c-ec88-efa2a179fb29"
      },
      "source": [
        "# check data\n",
        "print(boston)"
      ],
      "execution_count": 87,
      "outputs": [
        {
          "output_type": "stream",
          "text": [
            "{'data': array([[6.3200e-03, 1.8000e+01, 2.3100e+00, ..., 1.5300e+01, 3.9690e+02,\n",
            "        4.9800e+00],\n",
            "       [2.7310e-02, 0.0000e+00, 7.0700e+00, ..., 1.7800e+01, 3.9690e+02,\n",
            "        9.1400e+00],\n",
            "       [2.7290e-02, 0.0000e+00, 7.0700e+00, ..., 1.7800e+01, 3.9283e+02,\n",
            "        4.0300e+00],\n",
            "       ...,\n",
            "       [6.0760e-02, 0.0000e+00, 1.1930e+01, ..., 2.1000e+01, 3.9690e+02,\n",
            "        5.6400e+00],\n",
            "       [1.0959e-01, 0.0000e+00, 1.1930e+01, ..., 2.1000e+01, 3.9345e+02,\n",
            "        6.4800e+00],\n",
            "       [4.7410e-02, 0.0000e+00, 1.1930e+01, ..., 2.1000e+01, 3.9690e+02,\n",
            "        7.8800e+00]]), 'target': array([24. , 21.6, 34.7, 33.4, 36.2, 28.7, 22.9, 27.1, 16.5, 18.9, 15. ,\n",
            "       18.9, 21.7, 20.4, 18.2, 19.9, 23.1, 17.5, 20.2, 18.2, 13.6, 19.6,\n",
            "       15.2, 14.5, 15.6, 13.9, 16.6, 14.8, 18.4, 21. , 12.7, 14.5, 13.2,\n",
            "       13.1, 13.5, 18.9, 20. , 21. , 24.7, 30.8, 34.9, 26.6, 25.3, 24.7,\n",
            "       21.2, 19.3, 20. , 16.6, 14.4, 19.4, 19.7, 20.5, 25. , 23.4, 18.9,\n",
            "       35.4, 24.7, 31.6, 23.3, 19.6, 18.7, 16. , 22.2, 25. , 33. , 23.5,\n",
            "       19.4, 22. , 17.4, 20.9, 24.2, 21.7, 22.8, 23.4, 24.1, 21.4, 20. ,\n",
            "       20.8, 21.2, 20.3, 28. , 23.9, 24.8, 22.9, 23.9, 26.6, 22.5, 22.2,\n",
            "       23.6, 28.7, 22.6, 22. , 22.9, 25. , 20.6, 28.4, 21.4, 38.7, 43.8,\n",
            "       33.2, 27.5, 26.5, 18.6, 19.3, 20.1, 19.5, 19.5, 20.4, 19.8, 19.4,\n",
            "       21.7, 22.8, 18.8, 18.7, 18.5, 18.3, 21.2, 19.2, 20.4, 19.3, 22. ,\n",
            "       20.3, 20.5, 17.3, 18.8, 21.4, 15.7, 16.2, 18. , 14.3, 19.2, 19.6,\n",
            "       23. , 18.4, 15.6, 18.1, 17.4, 17.1, 13.3, 17.8, 14. , 14.4, 13.4,\n",
            "       15.6, 11.8, 13.8, 15.6, 14.6, 17.8, 15.4, 21.5, 19.6, 15.3, 19.4,\n",
            "       17. , 15.6, 13.1, 41.3, 24.3, 23.3, 27. , 50. , 50. , 50. , 22.7,\n",
            "       25. , 50. , 23.8, 23.8, 22.3, 17.4, 19.1, 23.1, 23.6, 22.6, 29.4,\n",
            "       23.2, 24.6, 29.9, 37.2, 39.8, 36.2, 37.9, 32.5, 26.4, 29.6, 50. ,\n",
            "       32. , 29.8, 34.9, 37. , 30.5, 36.4, 31.1, 29.1, 50. , 33.3, 30.3,\n",
            "       34.6, 34.9, 32.9, 24.1, 42.3, 48.5, 50. , 22.6, 24.4, 22.5, 24.4,\n",
            "       20. , 21.7, 19.3, 22.4, 28.1, 23.7, 25. , 23.3, 28.7, 21.5, 23. ,\n",
            "       26.7, 21.7, 27.5, 30.1, 44.8, 50. , 37.6, 31.6, 46.7, 31.5, 24.3,\n",
            "       31.7, 41.7, 48.3, 29. , 24. , 25.1, 31.5, 23.7, 23.3, 22. , 20.1,\n",
            "       22.2, 23.7, 17.6, 18.5, 24.3, 20.5, 24.5, 26.2, 24.4, 24.8, 29.6,\n",
            "       42.8, 21.9, 20.9, 44. , 50. , 36. , 30.1, 33.8, 43.1, 48.8, 31. ,\n",
            "       36.5, 22.8, 30.7, 50. , 43.5, 20.7, 21.1, 25.2, 24.4, 35.2, 32.4,\n",
            "       32. , 33.2, 33.1, 29.1, 35.1, 45.4, 35.4, 46. , 50. , 32.2, 22. ,\n",
            "       20.1, 23.2, 22.3, 24.8, 28.5, 37.3, 27.9, 23.9, 21.7, 28.6, 27.1,\n",
            "       20.3, 22.5, 29. , 24.8, 22. , 26.4, 33.1, 36.1, 28.4, 33.4, 28.2,\n",
            "       22.8, 20.3, 16.1, 22.1, 19.4, 21.6, 23.8, 16.2, 17.8, 19.8, 23.1,\n",
            "       21. , 23.8, 23.1, 20.4, 18.5, 25. , 24.6, 23. , 22.2, 19.3, 22.6,\n",
            "       19.8, 17.1, 19.4, 22.2, 20.7, 21.1, 19.5, 18.5, 20.6, 19. , 18.7,\n",
            "       32.7, 16.5, 23.9, 31.2, 17.5, 17.2, 23.1, 24.5, 26.6, 22.9, 24.1,\n",
            "       18.6, 30.1, 18.2, 20.6, 17.8, 21.7, 22.7, 22.6, 25. , 19.9, 20.8,\n",
            "       16.8, 21.9, 27.5, 21.9, 23.1, 50. , 50. , 50. , 50. , 50. , 13.8,\n",
            "       13.8, 15. , 13.9, 13.3, 13.1, 10.2, 10.4, 10.9, 11.3, 12.3,  8.8,\n",
            "        7.2, 10.5,  7.4, 10.2, 11.5, 15.1, 23.2,  9.7, 13.8, 12.7, 13.1,\n",
            "       12.5,  8.5,  5. ,  6.3,  5.6,  7.2, 12.1,  8.3,  8.5,  5. , 11.9,\n",
            "       27.9, 17.2, 27.5, 15. , 17.2, 17.9, 16.3,  7. ,  7.2,  7.5, 10.4,\n",
            "        8.8,  8.4, 16.7, 14.2, 20.8, 13.4, 11.7,  8.3, 10.2, 10.9, 11. ,\n",
            "        9.5, 14.5, 14.1, 16.1, 14.3, 11.7, 13.4,  9.6,  8.7,  8.4, 12.8,\n",
            "       10.5, 17.1, 18.4, 15.4, 10.8, 11.8, 14.9, 12.6, 14.1, 13. , 13.4,\n",
            "       15.2, 16.1, 17.8, 14.9, 14.1, 12.7, 13.5, 14.9, 20. , 16.4, 17.7,\n",
            "       19.5, 20.2, 21.4, 19.9, 19. , 19.1, 19.1, 20.1, 19.9, 19.6, 23.2,\n",
            "       29.8, 13.8, 13.3, 16.7, 12. , 14.6, 21.4, 23. , 23.7, 25. , 21.8,\n",
            "       20.6, 21.2, 19.1, 20.6, 15.2,  7. ,  8.1, 13.6, 20.1, 21.8, 24.5,\n",
            "       23.1, 19.7, 18.3, 21.2, 17.5, 16.8, 22.4, 20.6, 23.9, 22. , 11.9]), 'feature_names': array(['CRIM', 'ZN', 'INDUS', 'CHAS', 'NOX', 'RM', 'AGE', 'DIS', 'RAD',\n",
            "       'TAX', 'PTRATIO', 'B', 'LSTAT'], dtype='<U7'), 'DESCR': \".. _boston_dataset:\\n\\nBoston house prices dataset\\n---------------------------\\n\\n**Data Set Characteristics:**  \\n\\n    :Number of Instances: 506 \\n\\n    :Number of Attributes: 13 numeric/categorical predictive. Median Value (attribute 14) is usually the target.\\n\\n    :Attribute Information (in order):\\n        - CRIM     per capita crime rate by town\\n        - ZN       proportion of residential land zoned for lots over 25,000 sq.ft.\\n        - INDUS    proportion of non-retail business acres per town\\n        - CHAS     Charles River dummy variable (= 1 if tract bounds river; 0 otherwise)\\n        - NOX      nitric oxides concentration (parts per 10 million)\\n        - RM       average number of rooms per dwelling\\n        - AGE      proportion of owner-occupied units built prior to 1940\\n        - DIS      weighted distances to five Boston employment centres\\n        - RAD      index of accessibility to radial highways\\n        - TAX      full-value property-tax rate per $10,000\\n        - PTRATIO  pupil-teacher ratio by town\\n        - B        1000(Bk - 0.63)^2 where Bk is the proportion of blacks by town\\n        - LSTAT    % lower status of the population\\n        - MEDV     Median value of owner-occupied homes in $1000's\\n\\n    :Missing Attribute Values: None\\n\\n    :Creator: Harrison, D. and Rubinfeld, D.L.\\n\\nThis is a copy of UCI ML housing dataset.\\nhttps://archive.ics.uci.edu/ml/machine-learning-databases/housing/\\n\\n\\nThis dataset was taken from the StatLib library which is maintained at Carnegie Mellon University.\\n\\nThe Boston house-price data of Harrison, D. and Rubinfeld, D.L. 'Hedonic\\nprices and the demand for clean air', J. Environ. Economics & Management,\\nvol.5, 81-102, 1978.   Used in Belsley, Kuh & Welsch, 'Regression diagnostics\\n...', Wiley, 1980.   N.B. Various transformations are used in the table on\\npages 244-261 of the latter.\\n\\nThe Boston house-price data has been used in many machine learning papers that address regression\\nproblems.   \\n     \\n.. topic:: References\\n\\n   - Belsley, Kuh & Welsch, 'Regression diagnostics: Identifying Influential Data and Sources of Collinearity', Wiley, 1980. 244-261.\\n   - Quinlan,R. (1993). Combining Instance-Based and Model-Based Learning. In Proceedings on the Tenth International Conference of Machine Learning, 236-243, University of Massachusetts, Amherst. Morgan Kaufmann.\\n\", 'filename': '/usr/local/lib/python3.6/dist-packages/sklearn/datasets/data/boston_house_prices.csv'}\n"
          ],
          "name": "stdout"
        }
      ]
    },
    {
      "cell_type": "code",
      "metadata": {
        "id": "jM49sIaBC4yh",
        "colab_type": "code",
        "colab": {
          "base_uri": "https://localhost:8080/",
          "height": 904
        },
        "outputId": "12c3b94f-0b4d-48ea-b649-437e8ad018d3"
      },
      "source": [
        "# full description of boston data\n",
        "print(boston['DESCR'])"
      ],
      "execution_count": 88,
      "outputs": [
        {
          "output_type": "stream",
          "text": [
            ".. _boston_dataset:\n",
            "\n",
            "Boston house prices dataset\n",
            "---------------------------\n",
            "\n",
            "**Data Set Characteristics:**  \n",
            "\n",
            "    :Number of Instances: 506 \n",
            "\n",
            "    :Number of Attributes: 13 numeric/categorical predictive. Median Value (attribute 14) is usually the target.\n",
            "\n",
            "    :Attribute Information (in order):\n",
            "        - CRIM     per capita crime rate by town\n",
            "        - ZN       proportion of residential land zoned for lots over 25,000 sq.ft.\n",
            "        - INDUS    proportion of non-retail business acres per town\n",
            "        - CHAS     Charles River dummy variable (= 1 if tract bounds river; 0 otherwise)\n",
            "        - NOX      nitric oxides concentration (parts per 10 million)\n",
            "        - RM       average number of rooms per dwelling\n",
            "        - AGE      proportion of owner-occupied units built prior to 1940\n",
            "        - DIS      weighted distances to five Boston employment centres\n",
            "        - RAD      index of accessibility to radial highways\n",
            "        - TAX      full-value property-tax rate per $10,000\n",
            "        - PTRATIO  pupil-teacher ratio by town\n",
            "        - B        1000(Bk - 0.63)^2 where Bk is the proportion of blacks by town\n",
            "        - LSTAT    % lower status of the population\n",
            "        - MEDV     Median value of owner-occupied homes in $1000's\n",
            "\n",
            "    :Missing Attribute Values: None\n",
            "\n",
            "    :Creator: Harrison, D. and Rubinfeld, D.L.\n",
            "\n",
            "This is a copy of UCI ML housing dataset.\n",
            "https://archive.ics.uci.edu/ml/machine-learning-databases/housing/\n",
            "\n",
            "\n",
            "This dataset was taken from the StatLib library which is maintained at Carnegie Mellon University.\n",
            "\n",
            "The Boston house-price data of Harrison, D. and Rubinfeld, D.L. 'Hedonic\n",
            "prices and the demand for clean air', J. Environ. Economics & Management,\n",
            "vol.5, 81-102, 1978.   Used in Belsley, Kuh & Welsch, 'Regression diagnostics\n",
            "...', Wiley, 1980.   N.B. Various transformations are used in the table on\n",
            "pages 244-261 of the latter.\n",
            "\n",
            "The Boston house-price data has been used in many machine learning papers that address regression\n",
            "problems.   \n",
            "     \n",
            ".. topic:: References\n",
            "\n",
            "   - Belsley, Kuh & Welsch, 'Regression diagnostics: Identifying Influential Data and Sources of Collinearity', Wiley, 1980. 244-261.\n",
            "   - Quinlan,R. (1993). Combining Instance-Based and Model-Based Learning. In Proceedings on the Tenth International Conference of Machine Learning, 236-243, University of Massachusetts, Amherst. Morgan Kaufmann.\n",
            "\n"
          ],
          "name": "stdout"
        }
      ]
    },
    {
      "cell_type": "code",
      "metadata": {
        "id": "6Q_RUELXEjB9",
        "colab_type": "code",
        "colab": {
          "base_uri": "https://localhost:8080/",
          "height": 51
        },
        "outputId": "ed91f535-aa32-42da-d953-668b2d12e1d5"
      },
      "source": [
        "# check column names\n",
        "print(boston[\"feature_names\"])"
      ],
      "execution_count": 89,
      "outputs": [
        {
          "output_type": "stream",
          "text": [
            "['CRIM' 'ZN' 'INDUS' 'CHAS' 'NOX' 'RM' 'AGE' 'DIS' 'RAD' 'TAX' 'PTRATIO'\n",
            " 'B' 'LSTAT']\n"
          ],
          "name": "stdout"
        }
      ]
    },
    {
      "cell_type": "code",
      "metadata": {
        "id": "ADX47J8DE89I",
        "colab_type": "code",
        "colab": {
          "base_uri": "https://localhost:8080/",
          "height": 136
        },
        "outputId": "54682a40-8a76-4a92-f5d9-a3093ef9e9e5"
      },
      "source": [
        "# data変数（説明変数）\n",
        "print(boston['data'])"
      ],
      "execution_count": 90,
      "outputs": [
        {
          "output_type": "stream",
          "text": [
            "[[6.3200e-03 1.8000e+01 2.3100e+00 ... 1.5300e+01 3.9690e+02 4.9800e+00]\n",
            " [2.7310e-02 0.0000e+00 7.0700e+00 ... 1.7800e+01 3.9690e+02 9.1400e+00]\n",
            " [2.7290e-02 0.0000e+00 7.0700e+00 ... 1.7800e+01 3.9283e+02 4.0300e+00]\n",
            " ...\n",
            " [6.0760e-02 0.0000e+00 1.1930e+01 ... 2.1000e+01 3.9690e+02 5.6400e+00]\n",
            " [1.0959e-01 0.0000e+00 1.1930e+01 ... 2.1000e+01 3.9345e+02 6.4800e+00]\n",
            " [4.7410e-02 0.0000e+00 1.1930e+01 ... 2.1000e+01 3.9690e+02 7.8800e+00]]\n"
          ],
          "name": "stdout"
        }
      ]
    },
    {
      "cell_type": "code",
      "metadata": {
        "id": "0IQpnRplFDpI",
        "colab_type": "code",
        "colab": {
          "base_uri": "https://localhost:8080/",
          "height": 646
        },
        "outputId": "8578ca45-de57-4179-dd39-69717928ad0c"
      },
      "source": [
        "# target変数（目的変数）\n",
        "print(boston['target'])"
      ],
      "execution_count": 91,
      "outputs": [
        {
          "output_type": "stream",
          "text": [
            "[24.  21.6 34.7 33.4 36.2 28.7 22.9 27.1 16.5 18.9 15.  18.9 21.7 20.4\n",
            " 18.2 19.9 23.1 17.5 20.2 18.2 13.6 19.6 15.2 14.5 15.6 13.9 16.6 14.8\n",
            " 18.4 21.  12.7 14.5 13.2 13.1 13.5 18.9 20.  21.  24.7 30.8 34.9 26.6\n",
            " 25.3 24.7 21.2 19.3 20.  16.6 14.4 19.4 19.7 20.5 25.  23.4 18.9 35.4\n",
            " 24.7 31.6 23.3 19.6 18.7 16.  22.2 25.  33.  23.5 19.4 22.  17.4 20.9\n",
            " 24.2 21.7 22.8 23.4 24.1 21.4 20.  20.8 21.2 20.3 28.  23.9 24.8 22.9\n",
            " 23.9 26.6 22.5 22.2 23.6 28.7 22.6 22.  22.9 25.  20.6 28.4 21.4 38.7\n",
            " 43.8 33.2 27.5 26.5 18.6 19.3 20.1 19.5 19.5 20.4 19.8 19.4 21.7 22.8\n",
            " 18.8 18.7 18.5 18.3 21.2 19.2 20.4 19.3 22.  20.3 20.5 17.3 18.8 21.4\n",
            " 15.7 16.2 18.  14.3 19.2 19.6 23.  18.4 15.6 18.1 17.4 17.1 13.3 17.8\n",
            " 14.  14.4 13.4 15.6 11.8 13.8 15.6 14.6 17.8 15.4 21.5 19.6 15.3 19.4\n",
            " 17.  15.6 13.1 41.3 24.3 23.3 27.  50.  50.  50.  22.7 25.  50.  23.8\n",
            " 23.8 22.3 17.4 19.1 23.1 23.6 22.6 29.4 23.2 24.6 29.9 37.2 39.8 36.2\n",
            " 37.9 32.5 26.4 29.6 50.  32.  29.8 34.9 37.  30.5 36.4 31.1 29.1 50.\n",
            " 33.3 30.3 34.6 34.9 32.9 24.1 42.3 48.5 50.  22.6 24.4 22.5 24.4 20.\n",
            " 21.7 19.3 22.4 28.1 23.7 25.  23.3 28.7 21.5 23.  26.7 21.7 27.5 30.1\n",
            " 44.8 50.  37.6 31.6 46.7 31.5 24.3 31.7 41.7 48.3 29.  24.  25.1 31.5\n",
            " 23.7 23.3 22.  20.1 22.2 23.7 17.6 18.5 24.3 20.5 24.5 26.2 24.4 24.8\n",
            " 29.6 42.8 21.9 20.9 44.  50.  36.  30.1 33.8 43.1 48.8 31.  36.5 22.8\n",
            " 30.7 50.  43.5 20.7 21.1 25.2 24.4 35.2 32.4 32.  33.2 33.1 29.1 35.1\n",
            " 45.4 35.4 46.  50.  32.2 22.  20.1 23.2 22.3 24.8 28.5 37.3 27.9 23.9\n",
            " 21.7 28.6 27.1 20.3 22.5 29.  24.8 22.  26.4 33.1 36.1 28.4 33.4 28.2\n",
            " 22.8 20.3 16.1 22.1 19.4 21.6 23.8 16.2 17.8 19.8 23.1 21.  23.8 23.1\n",
            " 20.4 18.5 25.  24.6 23.  22.2 19.3 22.6 19.8 17.1 19.4 22.2 20.7 21.1\n",
            " 19.5 18.5 20.6 19.  18.7 32.7 16.5 23.9 31.2 17.5 17.2 23.1 24.5 26.6\n",
            " 22.9 24.1 18.6 30.1 18.2 20.6 17.8 21.7 22.7 22.6 25.  19.9 20.8 16.8\n",
            " 21.9 27.5 21.9 23.1 50.  50.  50.  50.  50.  13.8 13.8 15.  13.9 13.3\n",
            " 13.1 10.2 10.4 10.9 11.3 12.3  8.8  7.2 10.5  7.4 10.2 11.5 15.1 23.2\n",
            "  9.7 13.8 12.7 13.1 12.5  8.5  5.   6.3  5.6  7.2 12.1  8.3  8.5  5.\n",
            " 11.9 27.9 17.2 27.5 15.  17.2 17.9 16.3  7.   7.2  7.5 10.4  8.8  8.4\n",
            " 16.7 14.2 20.8 13.4 11.7  8.3 10.2 10.9 11.   9.5 14.5 14.1 16.1 14.3\n",
            " 11.7 13.4  9.6  8.7  8.4 12.8 10.5 17.1 18.4 15.4 10.8 11.8 14.9 12.6\n",
            " 14.1 13.  13.4 15.2 16.1 17.8 14.9 14.1 12.7 13.5 14.9 20.  16.4 17.7\n",
            " 19.5 20.2 21.4 19.9 19.  19.1 19.1 20.1 19.9 19.6 23.2 29.8 13.8 13.3\n",
            " 16.7 12.  14.6 21.4 23.  23.7 25.  21.8 20.6 21.2 19.1 20.6 15.2  7.\n",
            "  8.1 13.6 20.1 21.8 24.5 23.1 19.7 18.3 21.2 17.5 16.8 22.4 20.6 23.9\n",
            " 22.  11.9]\n"
          ],
          "name": "stdout"
        }
      ]
    },
    {
      "cell_type": "markdown",
      "metadata": {
        "id": "0C4cR-YzGH-c",
        "colab_type": "text"
      },
      "source": [
        "Pandasでデータフレームの作成\n"
      ]
    },
    {
      "cell_type": "code",
      "metadata": {
        "id": "uJ-15LUxFplv",
        "colab_type": "code",
        "colab": {}
      },
      "source": [
        "# transforming feature data into data frame\n",
        "df = DataFrame( data = boston.data, columns = boston.feature_names)"
      ],
      "execution_count": 92,
      "outputs": []
    },
    {
      "cell_type": "code",
      "metadata": {
        "id": "FMMLQpDQGneX",
        "colab_type": "code",
        "colab": {}
      },
      "source": [
        "# adding target to the df\n",
        "df['Price'] = np.array(boston.target)"
      ],
      "execution_count": 93,
      "outputs": []
    },
    {
      "cell_type": "code",
      "metadata": {
        "id": "Ig7K3w2JGxmX",
        "colab_type": "code",
        "colab": {
          "base_uri": "https://localhost:8080/",
          "height": 204
        },
        "outputId": "92d7c374-6f62-4248-a9b0-2f04e80c8cae"
      },
      "source": [
        "# showing the first 5 lines of df\n",
        "df.head(5)"
      ],
      "execution_count": 94,
      "outputs": [
        {
          "output_type": "execute_result",
          "data": {
            "text/html": [
              "<div>\n",
              "<style scoped>\n",
              "    .dataframe tbody tr th:only-of-type {\n",
              "        vertical-align: middle;\n",
              "    }\n",
              "\n",
              "    .dataframe tbody tr th {\n",
              "        vertical-align: top;\n",
              "    }\n",
              "\n",
              "    .dataframe thead th {\n",
              "        text-align: right;\n",
              "    }\n",
              "</style>\n",
              "<table border=\"1\" class=\"dataframe\">\n",
              "  <thead>\n",
              "    <tr style=\"text-align: right;\">\n",
              "      <th></th>\n",
              "      <th>CRIM</th>\n",
              "      <th>ZN</th>\n",
              "      <th>INDUS</th>\n",
              "      <th>CHAS</th>\n",
              "      <th>NOX</th>\n",
              "      <th>RM</th>\n",
              "      <th>AGE</th>\n",
              "      <th>DIS</th>\n",
              "      <th>RAD</th>\n",
              "      <th>TAX</th>\n",
              "      <th>PTRATIO</th>\n",
              "      <th>B</th>\n",
              "      <th>LSTAT</th>\n",
              "      <th>Price</th>\n",
              "    </tr>\n",
              "  </thead>\n",
              "  <tbody>\n",
              "    <tr>\n",
              "      <th>0</th>\n",
              "      <td>0.00632</td>\n",
              "      <td>18.0</td>\n",
              "      <td>2.31</td>\n",
              "      <td>0.0</td>\n",
              "      <td>0.538</td>\n",
              "      <td>6.575</td>\n",
              "      <td>65.2</td>\n",
              "      <td>4.0900</td>\n",
              "      <td>1.0</td>\n",
              "      <td>296.0</td>\n",
              "      <td>15.3</td>\n",
              "      <td>396.90</td>\n",
              "      <td>4.98</td>\n",
              "      <td>24.0</td>\n",
              "    </tr>\n",
              "    <tr>\n",
              "      <th>1</th>\n",
              "      <td>0.02731</td>\n",
              "      <td>0.0</td>\n",
              "      <td>7.07</td>\n",
              "      <td>0.0</td>\n",
              "      <td>0.469</td>\n",
              "      <td>6.421</td>\n",
              "      <td>78.9</td>\n",
              "      <td>4.9671</td>\n",
              "      <td>2.0</td>\n",
              "      <td>242.0</td>\n",
              "      <td>17.8</td>\n",
              "      <td>396.90</td>\n",
              "      <td>9.14</td>\n",
              "      <td>21.6</td>\n",
              "    </tr>\n",
              "    <tr>\n",
              "      <th>2</th>\n",
              "      <td>0.02729</td>\n",
              "      <td>0.0</td>\n",
              "      <td>7.07</td>\n",
              "      <td>0.0</td>\n",
              "      <td>0.469</td>\n",
              "      <td>7.185</td>\n",
              "      <td>61.1</td>\n",
              "      <td>4.9671</td>\n",
              "      <td>2.0</td>\n",
              "      <td>242.0</td>\n",
              "      <td>17.8</td>\n",
              "      <td>392.83</td>\n",
              "      <td>4.03</td>\n",
              "      <td>34.7</td>\n",
              "    </tr>\n",
              "    <tr>\n",
              "      <th>3</th>\n",
              "      <td>0.03237</td>\n",
              "      <td>0.0</td>\n",
              "      <td>2.18</td>\n",
              "      <td>0.0</td>\n",
              "      <td>0.458</td>\n",
              "      <td>6.998</td>\n",
              "      <td>45.8</td>\n",
              "      <td>6.0622</td>\n",
              "      <td>3.0</td>\n",
              "      <td>222.0</td>\n",
              "      <td>18.7</td>\n",
              "      <td>394.63</td>\n",
              "      <td>2.94</td>\n",
              "      <td>33.4</td>\n",
              "    </tr>\n",
              "    <tr>\n",
              "      <th>4</th>\n",
              "      <td>0.06905</td>\n",
              "      <td>0.0</td>\n",
              "      <td>2.18</td>\n",
              "      <td>0.0</td>\n",
              "      <td>0.458</td>\n",
              "      <td>7.147</td>\n",
              "      <td>54.2</td>\n",
              "      <td>6.0622</td>\n",
              "      <td>3.0</td>\n",
              "      <td>222.0</td>\n",
              "      <td>18.7</td>\n",
              "      <td>396.90</td>\n",
              "      <td>5.33</td>\n",
              "      <td>36.2</td>\n",
              "    </tr>\n",
              "  </tbody>\n",
              "</table>\n",
              "</div>"
            ],
            "text/plain": [
              "      CRIM    ZN  INDUS  CHAS    NOX  ...    TAX  PTRATIO       B  LSTAT  Price\n",
              "0  0.00632  18.0   2.31   0.0  0.538  ...  296.0     15.3  396.90   4.98   24.0\n",
              "1  0.02731   0.0   7.07   0.0  0.469  ...  242.0     17.8  396.90   9.14   21.6\n",
              "2  0.02729   0.0   7.07   0.0  0.469  ...  242.0     17.8  392.83   4.03   34.7\n",
              "3  0.03237   0.0   2.18   0.0  0.458  ...  222.0     18.7  394.63   2.94   33.4\n",
              "4  0.06905   0.0   2.18   0.0  0.458  ...  222.0     18.7  396.90   5.33   36.2\n",
              "\n",
              "[5 rows x 14 columns]"
            ]
          },
          "metadata": {
            "tags": []
          },
          "execution_count": 94
        }
      ]
    },
    {
      "cell_type": "markdown",
      "metadata": {
        "id": "MowBY2yjIEGX",
        "colab_type": "text"
      },
      "source": [
        "### 線形単回帰モデル"
      ]
    },
    {
      "cell_type": "code",
      "metadata": {
        "id": "XdSW2dMIG0M5",
        "colab_type": "code",
        "colab": {
          "base_uri": "https://localhost:8080/",
          "height": 173
        },
        "outputId": "0c2cea9f-90e0-4937-acef-c4e2697a885d"
      },
      "source": [
        "# カラムを指定してデータを表示\n",
        "df[['RM']].head(4)"
      ],
      "execution_count": 95,
      "outputs": [
        {
          "output_type": "execute_result",
          "data": {
            "text/html": [
              "<div>\n",
              "<style scoped>\n",
              "    .dataframe tbody tr th:only-of-type {\n",
              "        vertical-align: middle;\n",
              "    }\n",
              "\n",
              "    .dataframe tbody tr th {\n",
              "        vertical-align: top;\n",
              "    }\n",
              "\n",
              "    .dataframe thead th {\n",
              "        text-align: right;\n",
              "    }\n",
              "</style>\n",
              "<table border=\"1\" class=\"dataframe\">\n",
              "  <thead>\n",
              "    <tr style=\"text-align: right;\">\n",
              "      <th></th>\n",
              "      <th>RM</th>\n",
              "    </tr>\n",
              "  </thead>\n",
              "  <tbody>\n",
              "    <tr>\n",
              "      <th>0</th>\n",
              "      <td>6.575</td>\n",
              "    </tr>\n",
              "    <tr>\n",
              "      <th>1</th>\n",
              "      <td>6.421</td>\n",
              "    </tr>\n",
              "    <tr>\n",
              "      <th>2</th>\n",
              "      <td>7.185</td>\n",
              "    </tr>\n",
              "    <tr>\n",
              "      <th>3</th>\n",
              "      <td>6.998</td>\n",
              "    </tr>\n",
              "  </tbody>\n",
              "</table>\n",
              "</div>"
            ],
            "text/plain": [
              "      RM\n",
              "0  6.575\n",
              "1  6.421\n",
              "2  7.185\n",
              "3  6.998"
            ]
          },
          "metadata": {
            "tags": []
          },
          "execution_count": 95
        }
      ]
    },
    {
      "cell_type": "code",
      "metadata": {
        "id": "voPxB75fIh4x",
        "colab_type": "code",
        "colab": {
          "base_uri": "https://localhost:8080/",
          "height": 102
        },
        "outputId": "a0a514a2-0c9e-49c0-c1a0-c12d07e82195"
      },
      "source": [
        "# ＲＭを説明変数として使用するためにデータフレームからスライシングしてdataという名前のリストに数値だけ入れる\n",
        "data = df.loc[:,['RM']].values\n",
        "data[0:5]"
      ],
      "execution_count": 96,
      "outputs": [
        {
          "output_type": "execute_result",
          "data": {
            "text/plain": [
              "array([[6.575],\n",
              "       [6.421],\n",
              "       [7.185],\n",
              "       [6.998],\n",
              "       [7.147]])"
            ]
          },
          "metadata": {
            "tags": []
          },
          "execution_count": 96
        }
      ]
    },
    {
      "cell_type": "code",
      "metadata": {
        "id": "rtHAQUgIJRL_",
        "colab_type": "code",
        "colab": {
          "base_uri": "https://localhost:8080/",
          "height": 34
        },
        "outputId": "65aa45bd-5a31-4818-e942-78f7d0108e10"
      },
      "source": [
        "# 目的変数\n",
        "target = df.loc[:,'Price'].values\n",
        "target[1:5]"
      ],
      "execution_count": 97,
      "outputs": [
        {
          "output_type": "execute_result",
          "data": {
            "text/plain": [
              "array([21.6, 34.7, 33.4, 36.2])"
            ]
          },
          "metadata": {
            "tags": []
          },
          "execution_count": 97
        }
      ]
    },
    {
      "cell_type": "code",
      "metadata": {
        "id": "yD8hhPIhJ8YW",
        "colab_type": "code",
        "colab": {}
      },
      "source": [
        "# sklearnモジュールからLinearRegressionをインポート\n",
        "from sklearn.linear_model import LinearRegression"
      ],
      "execution_count": 98,
      "outputs": []
    },
    {
      "cell_type": "code",
      "metadata": {
        "id": "BzL5ulQnKE33",
        "colab_type": "code",
        "colab": {}
      },
      "source": [
        "# オブジェクト生成\n",
        "model = LinearRegression()"
      ],
      "execution_count": 99,
      "outputs": []
    },
    {
      "cell_type": "code",
      "metadata": {
        "id": "xKUsAW2lKwQ-",
        "colab_type": "code",
        "colab": {
          "base_uri": "https://localhost:8080/",
          "height": 34
        },
        "outputId": "204b0d1c-ce52-47c8-ca50-74e6466ccc24"
      },
      "source": [
        "# learn parameter with fit\n",
        "model.fit(data, target)"
      ],
      "execution_count": 100,
      "outputs": [
        {
          "output_type": "execute_result",
          "data": {
            "text/plain": [
              "LinearRegression(copy_X=True, fit_intercept=True, n_jobs=None, normalize=False)"
            ]
          },
          "metadata": {
            "tags": []
          },
          "execution_count": 100
        }
      ]
    },
    {
      "cell_type": "code",
      "metadata": {
        "id": "jH4XkioSK8su",
        "colab_type": "code",
        "colab": {
          "base_uri": "https://localhost:8080/",
          "height": 34
        },
        "outputId": "91850602-30fb-4003-d7b0-c36c4ac9f986"
      },
      "source": [
        "# predicted price for RM = 7\n",
        "model.predict([[7]])"
      ],
      "execution_count": 101,
      "outputs": [
        {
          "output_type": "execute_result",
          "data": {
            "text/plain": [
              "array([29.04414209])"
            ]
          },
          "metadata": {
            "tags": []
          },
          "execution_count": 101
        }
      ]
    },
    {
      "cell_type": "code",
      "metadata": {
        "id": "i_AkUxy2LBS2",
        "colab_type": "code",
        "colab": {
          "base_uri": "https://localhost:8080/",
          "height": 34
        },
        "outputId": "9f08bacf-6545-43af-d793-8a7d91c01939"
      },
      "source": [
        "# estimated parameters\n",
        "print(model.coef_, model.intercept_)"
      ],
      "execution_count": 102,
      "outputs": [
        {
          "output_type": "stream",
          "text": [
            "[9.10210898] -34.67062077643857\n"
          ],
          "name": "stdout"
        }
      ]
    },
    {
      "cell_type": "markdown",
      "metadata": {
        "id": "fP-8M9ZVQx71",
        "colab_type": "text"
      },
      "source": [
        "### 重回帰モデル　（2変数）"
      ]
    },
    {
      "cell_type": "code",
      "metadata": {
        "id": "fFAI5NMVQan1",
        "colab_type": "code",
        "colab": {
          "base_uri": "https://localhost:8080/",
          "height": 255
        },
        "outputId": "3ba315bb-c408-43e8-95af-c77730b490b7"
      },
      "source": [
        "# show columns 'CRIM' and 'RM'\n",
        "df[['CRIM','RM']].head"
      ],
      "execution_count": 103,
      "outputs": [
        {
          "output_type": "execute_result",
          "data": {
            "text/plain": [
              "<bound method NDFrame.head of         CRIM     RM\n",
              "0    0.00632  6.575\n",
              "1    0.02731  6.421\n",
              "2    0.02729  7.185\n",
              "3    0.03237  6.998\n",
              "4    0.06905  7.147\n",
              "..       ...    ...\n",
              "501  0.06263  6.593\n",
              "502  0.04527  6.120\n",
              "503  0.06076  6.976\n",
              "504  0.10959  6.794\n",
              "505  0.04741  6.030\n",
              "\n",
              "[506 rows x 2 columns]>"
            ]
          },
          "metadata": {
            "tags": []
          },
          "execution_count": 103
        }
      ]
    },
    {
      "cell_type": "code",
      "metadata": {
        "id": "kzGmncgCQ8nu",
        "colab_type": "code",
        "colab": {}
      },
      "source": [
        "# feature vectors\n",
        "data2 = df.loc[:,['CRIM','RM']].values\n",
        "# target vector\n",
        "target2 = df.loc[:, 'Price'].values"
      ],
      "execution_count": 104,
      "outputs": []
    },
    {
      "cell_type": "code",
      "metadata": {
        "id": "qcfXhlAWR4ON",
        "colab_type": "code",
        "colab": {}
      },
      "source": [
        "# オブジェクト生成\n",
        "model2 = LinearRegression()"
      ],
      "execution_count": 105,
      "outputs": []
    },
    {
      "cell_type": "code",
      "metadata": {
        "id": "BmXdF9WhSxt_",
        "colab_type": "code",
        "colab": {
          "base_uri": "https://localhost:8080/",
          "height": 34
        },
        "outputId": "165c4eef-d8f3-4b60-bd82-287538a31db8"
      },
      "source": [
        "# parameter estimation with fit\n",
        "model2.fit(data2, target2)"
      ],
      "execution_count": 106,
      "outputs": [
        {
          "output_type": "execute_result",
          "data": {
            "text/plain": [
              "LinearRegression(copy_X=True, fit_intercept=True, n_jobs=None, normalize=False)"
            ]
          },
          "metadata": {
            "tags": []
          },
          "execution_count": 106
        }
      ]
    },
    {
      "cell_type": "code",
      "metadata": {
        "id": "aT_ZzNQ4S5nV",
        "colab_type": "code",
        "colab": {
          "base_uri": "https://localhost:8080/",
          "height": 34
        },
        "outputId": "560485fc-4202-4f40-cf66-f92a525d630b"
      },
      "source": [
        "# predict Y for CRIM = 0.2 and RM = 7\n",
        "model2.predict([[0.2, 7]])"
      ],
      "execution_count": 107,
      "outputs": [
        {
          "output_type": "execute_result",
          "data": {
            "text/plain": [
              "array([29.43977562])"
            ]
          },
          "metadata": {
            "tags": []
          },
          "execution_count": 107
        }
      ]
    },
    {
      "cell_type": "markdown",
      "metadata": {
        "id": "xLv9wzkdTev-",
        "colab_type": "text"
      },
      "source": [
        "回帰係数と切片の値を確認"
      ]
    },
    {
      "cell_type": "code",
      "metadata": {
        "id": "5muMQrE_TCfM",
        "colab_type": "code",
        "colab": {
          "base_uri": "https://localhost:8080/",
          "height": 34
        },
        "outputId": "d6f43edb-ca63-4d31-a28c-ebea307f78ad"
      },
      "source": [
        "# 単回帰の回帰係数と切片を出力\n",
        "print('推定された回帰係数: %.3f, 推定された切片: %.3f' % (model.coef_, model.intercept_))"
      ],
      "execution_count": 108,
      "outputs": [
        {
          "output_type": "stream",
          "text": [
            "推定された回帰係数: 9.102, 推定された切片: -34.671\n"
          ],
          "name": "stdout"
        }
      ]
    },
    {
      "cell_type": "markdown",
      "metadata": {
        "id": "1ugfa_icHNbV",
        "colab_type": "text"
      },
      "source": [
        "単回帰モデルの推定回帰係数は部屋の数にかかる重みで、推定直線の傾きである。正の傾きなので、部屋の数が増えるほど価格も上がるといえる"
      ]
    },
    {
      "cell_type": "code",
      "metadata": {
        "id": "3_6QBun7VTMN",
        "colab_type": "code",
        "colab": {
          "base_uri": "https://localhost:8080/",
          "height": 51
        },
        "outputId": "db8e2c56-32b3-463e-c2a3-4932e1c869fb"
      },
      "source": [
        "# 重回帰の回帰係数と切片を出力\n",
        "print(model2.coef_)\n",
        "print(model2.intercept_)"
      ],
      "execution_count": 109,
      "outputs": [
        {
          "output_type": "stream",
          "text": [
            "[-0.26491325  8.39106825]\n",
            "-29.24471945192992\n"
          ],
          "name": "stdout"
        }
      ]
    },
    {
      "cell_type": "markdown",
      "metadata": {
        "id": "kTRgMm8YHv2N",
        "colab_type": "text"
      },
      "source": [
        "重回帰モデルの特徴値１は犯罪率で特徴値２が部屋数であるので、推定されたそれぞれの係数（重み）をみると、犯罪率係数は負で部屋数係数が正であるのがわかる。よって、犯罪率が増えれば価格は下がり、部屋数が増えれば価格が上がることがわかる。"
      ]
    },
    {
      "cell_type": "markdown",
      "metadata": {
        "id": "OTEeUqBTWGUx",
        "colab_type": "text"
      },
      "source": [
        "### モデルの検証\n",
        "\n",
        "ホールドアウト法で単回帰モデルの検証\n",
        "\n",
        "1．決定係数"
      ]
    },
    {
      "cell_type": "code",
      "metadata": {
        "id": "qam59I9pVZTk",
        "colab_type": "code",
        "colab": {
          "base_uri": "https://localhost:8080/",
          "height": 34
        },
        "outputId": "6cb3df45-ea33-4d7b-c7bf-ac88f36f0cbf"
      },
      "source": [
        "print('単回帰決定係数: %.3f, 重回帰決定係数: %.3f' % (model.score(data,target), model2.score(data2, target2)))"
      ],
      "execution_count": 110,
      "outputs": [
        {
          "output_type": "stream",
          "text": [
            "単回帰決定係数: 0.484, 重回帰決定係数: 0.542\n"
          ],
          "name": "stdout"
        }
      ]
    },
    {
      "cell_type": "code",
      "metadata": {
        "id": "LQtrshXhNKeZ",
        "colab_type": "code",
        "colab": {}
      },
      "source": [
        "def testingModel(data, target, test_size=0.3, modelname=model):\n",
        "  \n",
        "  from sklearn.model_selection import train_test_split\n",
        "  \n",
        "  X_train, X_test, y_train, y_test = train_test_split(data, target, test_size = test_size, random_state = 666)\n",
        "  # learning model with train data\n",
        "  modelname.fit(X_train, y_train)\n",
        "  # predict with test data\n",
        "  y_train_pred = modelname.predict(X_train)\n",
        "  y_test_pred = modelname.predict(X_test)\n",
        "  \n",
        "  # matplotlib をインポート\n",
        "  import matplotlib.pyplot as plt\n",
        "  plt.scatter(y_train_pred, y_train_pred - y_train, c = 'blue', marker = 'o', label = 'Train Data')\n",
        "  plt.scatter(y_test_pred, y_test_pred - y_test, c = 'lightgreen', marker= 's', label = 'Test Data')\n",
        "  plt.xlabel('Predicted Values')\n",
        "  plt.ylabel('Residuals')\n",
        "\n",
        "  # 凡例を右下に表示\n",
        "  plt.legend(loc = 'lower right')\n",
        "\n",
        "  # y=0 に直線を引く\n",
        "  plt.hlines( y = 0, xmin = -10, xmax = 50, lw = 2, color = 'red')\n",
        "  plt.xlim({10,50})\n",
        "  plt.show()\n",
        "\n",
        "  # MSEを評価するためのメソッドを呼び出す\n",
        "  from sklearn.metrics import mean_squared_error\n",
        "  # Train and Test データに関してMSEを出力\n",
        "  print('MSE Train: %.3f, Test : %.3f' % (mean_squared_error(y_train, y_train_pred), mean_squared_error(y_test, y_test_pred)))\n",
        "\n",
        "  # Train and Test データに関してR^2を出力\n",
        "  if data.shape[1]==1:\n",
        "    print('R^2 Train: %.3f, Test: %.3f' % (model.score(X_train, y_train), model.score(X_test, y_test)))\n"
      ],
      "execution_count": 111,
      "outputs": []
    },
    {
      "cell_type": "code",
      "metadata": {
        "id": "yL-Z7zIVNOa0",
        "colab_type": "code",
        "colab": {
          "base_uri": "https://localhost:8080/",
          "height": 314
        },
        "outputId": "f86cc45d-fa87-459f-cf11-71d70d1f728c"
      },
      "source": [
        "testingModel(data, target, 0.2, model)"
      ],
      "execution_count": 112,
      "outputs": [
        {
          "output_type": "display_data",
          "data": {
            "image/png": "[encoded data removed]",
            "text/plain": [
              "<Figure size 432x288 with 1 Axes>"
            ]
          },
          "metadata": {
            "tags": [],
            "needs_background": "light"
          }
        },
        {
          "output_type": "stream",
          "text": [
            "MSE Train: 43.325, Test : 44.766\n",
            "R^2 Train: 0.502, Test: 0.397\n"
          ],
          "name": "stdout"
        }
      ]
    },
    {
      "cell_type": "markdown",
      "metadata": {
        "id": "SPF64m0dcMf_",
        "colab_type": "text"
      },
      "source": [
        "部屋数と価格の間に低い相関関係がみられ、エラー値も高い\n"
      ]
    },
    {
      "cell_type": "markdown",
      "metadata": {
        "id": "QXse1dC-GH--",
        "colab_type": "text"
      },
      "source": [
        "## ホールドアウト法で重回帰モデルの検証\n"
      ]
    },
    {
      "cell_type": "code",
      "metadata": {
        "id": "fTdrUX6NINoQ",
        "colab_type": "code",
        "colab": {
          "base_uri": "https://localhost:8080/",
          "height": 297
        },
        "outputId": "1df15ed0-cc55-46cb-c77a-4ba08e59ad49"
      },
      "source": [
        "testingModel(data2, target2, 0.2, model2)"
      ],
      "execution_count": 113,
      "outputs": [
        {
          "output_type": "display_data",
          "data": {
            "image/png": "[encoded data removed]",
            "text/plain": [
              "<Figure size 432x288 with 1 Axes>"
            ]
          },
          "metadata": {
            "tags": [],
            "needs_background": "light"
          }
        },
        {
          "output_type": "stream",
          "text": [
            "MSE Train: 38.686, Test : 38.706\n"
          ],
          "name": "stdout"
        }
      ]
    },
    {
      "cell_type": "markdown",
      "metadata": {
        "id": "7-00_-KaNhJs",
        "colab_type": "text"
      },
      "source": [
        "単回帰に比べ若干MSEが下がったが、十分低いとは言えない水準"
      ]
    },
    {
      "cell_type": "markdown",
      "metadata": {
        "id": "ytP4BMI2wf6j",
        "colab_type": "text"
      },
      "source": [
        "## 5.2 非線形回帰モデル"
      ]
    },
    {
      "cell_type": "code",
      "metadata": {
        "id": "F4DA4Tusb2-a",
        "colab_type": "code",
        "colab": {}
      },
      "source": [
        "import numpy as np\n",
        "import matplotlib.pyplot as plt\n",
        "import seaborn as sns"
      ],
      "execution_count": 114,
      "outputs": []
    },
    {
      "cell_type": "code",
      "metadata": {
        "id": "J2m8XHz60SUz",
        "colab_type": "code",
        "colab": {}
      },
      "source": [
        "# setting seaborn\n",
        "sns.set()\n",
        "# change background\n",
        "sns.set_style(\"darkgrid\",{'grid.linestyle': '--'})\n",
        "# change scale\n",
        "sns.set_context(\"paper\")"
      ],
      "execution_count": 115,
      "outputs": []
    },
    {
      "cell_type": "code",
      "metadata": {
        "id": "2hUmaBrsK_bk",
        "colab_type": "code",
        "colab": {}
      },
      "source": [
        "n = 100\n",
        "\n",
        "#真の関数\n",
        "def true_func(x):\n",
        "  return 1 - 48 * x + 218 * x**2 - 315 * x**3 + 145 * x**4\n",
        "\n",
        "def linear_func(x):\n",
        "  return x\n"
      ],
      "execution_count": 116,
      "outputs": []
    },
    {
      "cell_type": "code",
      "metadata": {
        "id": "gryek9EjLr1H",
        "colab_type": "code",
        "colab": {}
      },
      "source": [
        "# 真の関数からノイズを伴うデータを生成\n",
        "\n",
        "# 真の関数からデータ生成\n",
        "data = np.random.rand(n).astype(np.float32)\n",
        "data = np.sort(data)\n",
        "target = true_func(data)\n",
        "\n",
        "# Add noise\n",
        "noise = 0.5 * np.random.randn(n)\n",
        "target = target + noise\n"
      ],
      "execution_count": 117,
      "outputs": []
    },
    {
      "cell_type": "code",
      "metadata": {
        "id": "fxWXFFNeX3xV",
        "colab_type": "code",
        "colab": {
          "base_uri": "https://localhost:8080/",
          "height": 314
        },
        "outputId": "937c0fee-b0f2-489c-aa5a-1a3dc04eae74"
      },
      "source": [
        "# Plot data with noise\n",
        "plt.scatter(data, target)\n",
        "plt.title('Nonlinear Regression')\n",
        "plt.legend(loc = 2)"
      ],
      "execution_count": 118,
      "outputs": [
        {
          "output_type": "stream",
          "text": [
            "No handles with labels found to put in legend.\n"
          ],
          "name": "stderr"
        },
        {
          "output_type": "execute_result",
          "data": {
            "text/plain": [
              "<matplotlib.legend.Legend at 0x7f82d1f73d68>"
            ]
          },
          "metadata": {
            "tags": []
          },
          "execution_count": 118
        },
        {
          "output_type": "display_data",
          "data": {
            "image/png": "[encoded data removed]",
            "text/plain": [
              "<Figure size 432x288 with 1 Axes>"
            ]
          },
          "metadata": {
            "tags": []
          }
        }
      ]
    },
    {
      "cell_type": "markdown",
      "metadata": {
        "id": "h8dXBC18aOSt",
        "colab_type": "text"
      },
      "source": [
        "### 単回帰モデルで推定"
      ]
    },
    {
      "cell_type": "code",
      "metadata": {
        "id": "ZqvDGro2MLP3",
        "colab_type": "code",
        "colab": {}
      },
      "source": [
        "from sklearn.linear_model import LinearRegression\n",
        "\n",
        "clf = LinearRegression()\n",
        "data = data.reshape(-1,1)\n",
        "target = target.reshape(-1,1)\n",
        "#　1次線形回帰モデル作成\n",
        "clf.fit(data, target)\n",
        "# このモデルパラメータを使ってYハットを計算\n",
        "p_lin = clf.predict(data)"
      ],
      "execution_count": 119,
      "outputs": []
    },
    {
      "cell_type": "code",
      "metadata": {
        "id": "4w87VJMOX-K8",
        "colab_type": "code",
        "colab": {
          "base_uri": "https://localhost:8080/",
          "height": 283
        },
        "outputId": "aa3ac244-2636-4148-e656-0ff8e1631db5"
      },
      "source": [
        "# データにYの推定値をPlot\n",
        "plt.scatter(data, target, label = 'data')\n",
        "plt.plot(data, p_lin, color = 'darkorange', marker = '', linestyle = '-', linewidth = 1, markersize=6, label='Linear Regression')\n",
        "plt.legend()\n",
        "print(clf.score(data, target))"
      ],
      "execution_count": 120,
      "outputs": [
        {
          "output_type": "stream",
          "text": [
            "0.20714280627555806\n"
          ],
          "name": "stdout"
        },
        {
          "output_type": "display_data",
          "data": {
            "image/png": "[encoded data removed]",
            "text/plain": [
              "<Figure size 432x288 with 1 Axes>"
            ]
          },
          "metadata": {
            "tags": []
          }
        }
      ]
    },
    {
      "cell_type": "markdown",
      "metadata": {
        "id": "fedQ7Q5UYaHd",
        "colab_type": "text"
      },
      "source": [
        "一次線形回帰モデルでは多項式で作ったデータは推定しにくいことがわかる\n",
        "\n",
        "$R^2$ は0.32と若干の相関関係を示しているのは、おそらく緩やかな上昇傾向を反映しているものとおもわれる。　"
      ]
    },
    {
      "cell_type": "markdown",
      "metadata": {
        "id": "NEOQMAkkOcs1",
        "colab_type": "text"
      },
      "source": [
        "### 基底関数ガウスを使って非線形回帰モデリング"
      ]
    },
    {
      "cell_type": "code",
      "metadata": {
        "id": "R7J4AOGWN_9R",
        "colab_type": "code",
        "colab": {}
      },
      "source": [
        "from sklearn.kernel_ridge import KernelRidge"
      ],
      "execution_count": 121,
      "outputs": []
    },
    {
      "cell_type": "code",
      "metadata": {
        "id": "L_HkOB7bOSkn",
        "colab_type": "code",
        "colab": {}
      },
      "source": [
        "clf = KernelRidge(alpha=.0001, kernel='rbf')\n",
        "# パラメーター推定\n",
        "clf.fit(data, target)\n",
        "# 出力推定\n",
        "p_kridge = clf.predict(data)"
      ],
      "execution_count": 122,
      "outputs": []
    },
    {
      "cell_type": "code",
      "metadata": {
        "id": "czdSCGdSOio2",
        "colab_type": "code",
        "colab": {
          "base_uri": "https://localhost:8080/",
          "height": 266
        },
        "outputId": "de625be1-e2d1-4c3a-a19d-4023afc13080"
      },
      "source": [
        "#　出力描写\n",
        "plt.scatter(data, target, color='blue', label = 'data')\n",
        "plt.plot(data, p_kridge, color='orange', linestyle='-', linewidth=3, markersize=6, label='kernel ridge')\n",
        "plt.legend()\n",
        "\n",
        "R2 = target-p_kridge"
      ],
      "execution_count": 123,
      "outputs": [
        {
          "output_type": "display_data",
          "data": {
            "image/png": "[encoded data removed]",
            "text/plain": [
              "<Figure size 432x288 with 1 Axes>"
            ]
          },
          "metadata": {
            "tags": []
          }
        }
      ]
    },
    {
      "cell_type": "code",
      "metadata": {
        "id": "KFER4bDmTgV8",
        "colab_type": "code",
        "colab": {
          "base_uri": "https://localhost:8080/",
          "height": 34
        },
        "outputId": "a2635d43-620d-4691-e095-c3e23c321f54"
      },
      "source": [
        "MSE = np.sqrt((target-p_kridge).T.dot((target-p_kridge)))\n",
        "print(MSE)"
      ],
      "execution_count": 124,
      "outputs": [
        {
          "output_type": "stream",
          "text": [
            "[[4.33872337]]\n"
          ],
          "name": "stdout"
        }
      ]
    },
    {
      "cell_type": "markdown",
      "metadata": {
        "id": "O_nEUIr7b9ui",
        "colab_type": "text"
      },
      "source": [
        "考察:　正則化パラメータ（alpha)の値はディフォルトで１に設定されているが、それでは強すぎてモデルのコンプレキシティーがほぼ消されてしまってこの問題がうまく表現できなかった。反対に０に近づくほど過学習問題がほぼ改善されない状態になるので、その間を何度か試してみた。\n"
      ]
    },
    {
      "cell_type": "markdown",
      "metadata": {
        "id": "qmy4xC1eahT-",
        "colab_type": "text"
      },
      "source": [
        "### 基底関数にガウスをつかって、Ridge 正則化法で過学習をコントロールするモデルで推定\n",
        "\n",
        "* Overfittingをコントロールするためのペナルティーをかす"
      ]
    },
    {
      "cell_type": "code",
      "metadata": {
        "id": "mTao2_Y1c8J9",
        "colab_type": "code",
        "colab": {
          "base_uri": "https://localhost:8080/",
          "height": 51
        },
        "outputId": "857431fc-a838-4de3-d59f-5f15eff700b1"
      },
      "source": [
        "# Ridge\n",
        "\n",
        "from sklearn.metrics.pairwise import rbf_kernel\n",
        "from sklearn.linear_model import Ridge\n",
        "\n",
        "# 基底関数で入力値を変換　バンド幅10\n",
        "kx = rbf_kernel(X=data, Y=data, gamma=10)\n",
        "\n",
        "# オブジェクト作成 正則化係数0.01\n",
        "clf = Ridge(alpha=0.01)\n",
        "# モデルを学習\n",
        "clf.fit(kx, target)"
      ],
      "execution_count": 125,
      "outputs": [
        {
          "output_type": "execute_result",
          "data": {
            "text/plain": [
              "Ridge(alpha=0.01, copy_X=True, fit_intercept=True, max_iter=None,\n",
              "      normalize=False, random_state=None, solver='auto', tol=0.001)"
            ]
          },
          "metadata": {
            "tags": []
          },
          "execution_count": 125
        }
      ]
    },
    {
      "cell_type": "code",
      "metadata": {
        "id": "sSKIHkRlc8Yi",
        "colab_type": "code",
        "colab": {}
      },
      "source": [
        "# 学習したモデルで出力を推定\n",
        "p_ridge = clf.predict(kx)"
      ],
      "execution_count": 126,
      "outputs": []
    },
    {
      "cell_type": "code",
      "metadata": {
        "id": "4djTMsRrc8dS",
        "colab_type": "code",
        "colab": {
          "base_uri": "https://localhost:8080/",
          "height": 297
        },
        "outputId": "c7c3f540-c664-49e4-8460-16d481a79e73"
      },
      "source": [
        "plt.scatter(data, target, color='blue', label='data')\n",
        "for i in range(len(kx)):\n",
        "  plt.plot(data, kx[i], color='black', linestyle='-', linewidth=1, markersize=3, label='rbf', alpha=0.2)\n",
        "\n",
        "plt.plot(data, p_ridge, color='orange', linestyle='-', linewidth= 1.5, markersize=3, label='Ridge Regression')\n",
        "plt.title('Ridge')\n",
        "print(clf.score(kx, target))"
      ],
      "execution_count": 127,
      "outputs": [
        {
          "output_type": "stream",
          "text": [
            "0.8804647809760602\n"
          ],
          "name": "stdout"
        },
        {
          "output_type": "display_data",
          "data": {
            "image/png": "[encoded data removed]",
            "text/plain": [
              "<Figure size 432x288 with 1 Axes>"
            ]
          },
          "metadata": {
            "tags": []
          }
        }
      ]
    },
    {
      "cell_type": "markdown",
      "metadata": {
        "id": "YcAQc9HMcNSU",
        "colab_type": "text"
      },
      "source": [
        "### 基底関数にガウスをつかって、Lasso 正則化法で過学習をコントロールするモデルで推定\n"
      ]
    },
    {
      "cell_type": "code",
      "metadata": {
        "id": "5pJTZCPMcZyG",
        "colab_type": "code",
        "colab": {
          "base_uri": "https://localhost:8080/",
          "height": 71
        },
        "outputId": "961b00df-b880-4a3d-886e-60582c1f5c48"
      },
      "source": [
        "# Lasso\n",
        "\n",
        "from sklearn.metrics.pairwise import rbf_kernel\n",
        "from sklearn.linear_model import Lasso\n",
        "\n",
        "#モジュール生成　正則化係数0.01\n",
        "lasso_clf = Lasso(alpha=0.01, max_iter=1000)\n",
        "lasso_clf.fit(kx, target)\n",
        "\n",
        "p_lasso = lasso_clf.predict(kx)\n",
        "\n"
      ],
      "execution_count": 128,
      "outputs": [
        {
          "output_type": "stream",
          "text": [
            "/usr/local/lib/python3.6/dist-packages/sklearn/linear_model/_coordinate_descent.py:476: ConvergenceWarning: Objective did not converge. You might want to increase the number of iterations. Duality gap: 0.10090827941894531, tolerance: 0.015484344214200974\n",
            "  positive)\n"
          ],
          "name": "stderr"
        }
      ]
    },
    {
      "cell_type": "code",
      "metadata": {
        "id": "gRCw03LWf0Db",
        "colab_type": "code",
        "colab": {
          "base_uri": "https://localhost:8080/",
          "height": 297
        },
        "outputId": "ac53275b-44a9-4ffc-d777-d06bd1c0acb9"
      },
      "source": [
        "plt.scatter(data, target, color='blue', label='data')\n",
        "for i in range(len(kx)):\n",
        "  plt.plot(data, kx[i], color='black', linestyle='-', linewidth=1, markersize=3, label='rbf', alpha=0.2)\n",
        "\n",
        "plt.plot(data, p_lasso, color='orange', linestyle='-', linewidth=3, markersize=3)\n",
        "plt.title('Lasso')\n",
        "\n",
        "print(lasso_clf.score(kx, target))"
      ],
      "execution_count": 129,
      "outputs": [
        {
          "output_type": "stream",
          "text": [
            "0.8252256128777367\n"
          ],
          "name": "stdout"
        },
        {
          "output_type": "display_data",
          "data": {
            "image/png": "[encoded data removed]",
            "text/plain": [
              "<Figure size 432x288 with 1 Axes>"
            ]
          },
          "metadata": {
            "tags": []
          }
        }
      ]
    },
    {
      "cell_type": "markdown",
      "metadata": {
        "id": "vLBh1842S324",
        "colab_type": "text"
      },
      "source": [
        "### 多項式回帰の次元を変えてモデリング"
      ]
    },
    {
      "cell_type": "code",
      "metadata": {
        "id": "du6NcXKdc8hO",
        "colab_type": "code",
        "colab": {}
      },
      "source": [
        "from sklearn.preprocessing import PolynomialFeatures\n",
        "from sklearn.pipeline import Pipeline"
      ],
      "execution_count": 130,
      "outputs": []
    },
    {
      "cell_type": "code",
      "metadata": {
        "id": "19r9m_Cgc8ux",
        "colab_type": "code",
        "colab": {
          "base_uri": "https://localhost:8080/",
          "height": 266
        },
        "outputId": "5924a25a-fb53-467a-a4e3-62a048fda658"
      },
      "source": [
        "#PolynomialFeatures(degree=1)\n",
        "\n",
        "# 1次元から10次元まで\n",
        "deg = [1,2,3,4,5,6,7,8,9,10]\n",
        "for d in deg:\n",
        "    regr = Pipeline([\n",
        "        ('poly', PolynomialFeatures(degree=d)),\n",
        "        ('linear', LinearRegression())\n",
        "    ])\n",
        "    regr.fit(data, target)\n",
        "    # make predictions\n",
        "    p_poly = regr.predict(data)\n",
        "    # plot regression result\n",
        "    plt.scatter(data, target, label='data', color='blue')\n",
        "    plt.plot(data, p_poly, label='polynomial of degree %d' % (d))"
      ],
      "execution_count": 131,
      "outputs": [
        {
          "output_type": "display_data",
          "data": {
            "image/png": "[encoded data removed]",
            "text/plain": [
              "<Figure size 432x288 with 1 Axes>"
            ]
          },
          "metadata": {
            "tags": []
          }
        }
      ]
    },
    {
      "cell_type": "markdown",
      "metadata": {
        "id": "IsW-57qZgpUa",
        "colab_type": "text"
      },
      "source": [
        "### SVR"
      ]
    },
    {
      "cell_type": "code",
      "metadata": {
        "id": "TPy7hweCi15G",
        "colab_type": "code",
        "colab": {
          "base_uri": "https://localhost:8080/",
          "height": 354
        },
        "outputId": "b380e6da-7daf-4c2b-df88-49519ad1bf23"
      },
      "source": [
        "from sklearn import model_selection, preprocessing, linear_model, svm\n",
        "\n",
        "#モジュール生成　SVR-rbf\n",
        "clf_svr = svm.SVR(kernel='rbf', C=1e3, gamma=10, epsilon=0.1)\n",
        "clf_svr.fit(data, target)\n",
        "y_rbf = clf_svr.fit(data, target).predict(data)\n",
        " \n",
        "# plot\n",
        "\n",
        "plt.scatter(data, target, color='blue', label='data')\n",
        "plt.plot(data, y_rbf, color='orange', label='Support Vector Regression (RBF)')\n",
        "plt.legend()\n",
        "plt.show()\n"
      ],
      "execution_count": 132,
      "outputs": [
        {
          "output_type": "stream",
          "text": [
            "/usr/local/lib/python3.6/dist-packages/sklearn/utils/validation.py:760: DataConversionWarning: A column-vector y was passed when a 1d array was expected. Please change the shape of y to (n_samples, ), for example using ravel().\n",
            "  y = column_or_1d(y, warn=True)\n",
            "/usr/local/lib/python3.6/dist-packages/sklearn/utils/validation.py:760: DataConversionWarning: A column-vector y was passed when a 1d array was expected. Please change the shape of y to (n_samples, ), for example using ravel().\n",
            "  y = column_or_1d(y, warn=True)\n"
          ],
          "name": "stderr"
        },
        {
          "output_type": "display_data",
          "data": {
            "image/png": "[encoded data removed]",
            "text/plain": [
              "<Figure size 432x288 with 1 Axes>"
            ]
          },
          "metadata": {
            "tags": []
          }
        }
      ]
    },
    {
      "cell_type": "markdown",
      "metadata": {
        "id": "jUMpohchoy9T",
        "colab_type": "text"
      },
      "source": [
        "## 5.3 ロジスティクス回帰\n"
      ]
    },
    {
      "cell_type": "markdown",
      "metadata": {
        "id": "mTcLGunS3VwH",
        "colab_type": "text"
      },
      "source": [
        "## データ下処理、欠損値補填と性別カテゴリーを数値化"
      ]
    },
    {
      "cell_type": "code",
      "metadata": {
        "id": "ZKLUwc8jozJl",
        "colab_type": "code",
        "colab": {}
      },
      "source": [
        "import pandas as pd\n",
        "from pandas import DataFrame\n",
        "import numpy as np\n",
        "import matplotlib.pyplot as plt\n",
        "import seaborn as sns\n",
        "\n",
        "%matplotlib inline"
      ],
      "execution_count": 133,
      "outputs": []
    },
    {
      "cell_type": "code",
      "metadata": {
        "id": "ew_fe2DqozNe",
        "colab_type": "code",
        "colab": {}
      },
      "source": [
        "titanic_df = pd.read_csv('/content/drive/My Drive/Pythonライブラリ基礎講座/study_ai_ml/data/titanic_train.csv')\n",
        "col_names = list(titanic_df.columns)"
      ],
      "execution_count": 290,
      "outputs": []
    },
    {
      "cell_type": "code",
      "metadata": {
        "id": "H3bn5-fsozRb",
        "colab_type": "code",
        "colab": {
          "base_uri": "https://localhost:8080/",
          "height": 204
        },
        "outputId": "b3d946dc-1fd9-41bc-d8c1-acdeb6c76845"
      },
      "source": [
        "titanic_df.head()"
      ],
      "execution_count": 135,
      "outputs": [
        {
          "output_type": "execute_result",
          "data": {
            "text/html": [
              "<div>\n",
              "<style scoped>\n",
              "    .dataframe tbody tr th:only-of-type {\n",
              "        vertical-align: middle;\n",
              "    }\n",
              "\n",
              "    .dataframe tbody tr th {\n",
              "        vertical-align: top;\n",
              "    }\n",
              "\n",
              "    .dataframe thead th {\n",
              "        text-align: right;\n",
              "    }\n",
              "</style>\n",
              "<table border=\"1\" class=\"dataframe\">\n",
              "  <thead>\n",
              "    <tr style=\"text-align: right;\">\n",
              "      <th></th>\n",
              "      <th>PassengerId</th>\n",
              "      <th>Survived</th>\n",
              "      <th>Pclass</th>\n",
              "      <th>Name</th>\n",
              "      <th>Sex</th>\n",
              "      <th>Age</th>\n",
              "      <th>SibSp</th>\n",
              "      <th>Parch</th>\n",
              "      <th>Ticket</th>\n",
              "      <th>Fare</th>\n",
              "      <th>Cabin</th>\n",
              "      <th>Embarked</th>\n",
              "    </tr>\n",
              "  </thead>\n",
              "  <tbody>\n",
              "    <tr>\n",
              "      <th>0</th>\n",
              "      <td>1</td>\n",
              "      <td>0</td>\n",
              "      <td>3</td>\n",
              "      <td>Braund, Mr. Owen Harris</td>\n",
              "      <td>male</td>\n",
              "      <td>22.0</td>\n",
              "      <td>1</td>\n",
              "      <td>0</td>\n",
              "      <td>A/5 21171</td>\n",
              "      <td>7.2500</td>\n",
              "      <td>NaN</td>\n",
              "      <td>S</td>\n",
              "    </tr>\n",
              "    <tr>\n",
              "      <th>1</th>\n",
              "      <td>2</td>\n",
              "      <td>1</td>\n",
              "      <td>1</td>\n",
              "      <td>Cumings, Mrs. John Bradley (Florence Briggs Th...</td>\n",
              "      <td>female</td>\n",
              "      <td>38.0</td>\n",
              "      <td>1</td>\n",
              "      <td>0</td>\n",
              "      <td>PC 17599</td>\n",
              "      <td>71.2833</td>\n",
              "      <td>C85</td>\n",
              "      <td>C</td>\n",
              "    </tr>\n",
              "    <tr>\n",
              "      <th>2</th>\n",
              "      <td>3</td>\n",
              "      <td>1</td>\n",
              "      <td>3</td>\n",
              "      <td>Heikkinen, Miss. Laina</td>\n",
              "      <td>female</td>\n",
              "      <td>26.0</td>\n",
              "      <td>0</td>\n",
              "      <td>0</td>\n",
              "      <td>STON/O2. 3101282</td>\n",
              "      <td>7.9250</td>\n",
              "      <td>NaN</td>\n",
              "      <td>S</td>\n",
              "    </tr>\n",
              "    <tr>\n",
              "      <th>3</th>\n",
              "      <td>4</td>\n",
              "      <td>1</td>\n",
              "      <td>1</td>\n",
              "      <td>Futrelle, Mrs. Jacques Heath (Lily May Peel)</td>\n",
              "      <td>female</td>\n",
              "      <td>35.0</td>\n",
              "      <td>1</td>\n",
              "      <td>0</td>\n",
              "      <td>113803</td>\n",
              "      <td>53.1000</td>\n",
              "      <td>C123</td>\n",
              "      <td>S</td>\n",
              "    </tr>\n",
              "    <tr>\n",
              "      <th>4</th>\n",
              "      <td>5</td>\n",
              "      <td>0</td>\n",
              "      <td>3</td>\n",
              "      <td>Allen, Mr. William Henry</td>\n",
              "      <td>male</td>\n",
              "      <td>35.0</td>\n",
              "      <td>0</td>\n",
              "      <td>0</td>\n",
              "      <td>373450</td>\n",
              "      <td>8.0500</td>\n",
              "      <td>NaN</td>\n",
              "      <td>S</td>\n",
              "    </tr>\n",
              "  </tbody>\n",
              "</table>\n",
              "</div>"
            ],
            "text/plain": [
              "   PassengerId  Survived  Pclass  ...     Fare Cabin  Embarked\n",
              "0            1         0       3  ...   7.2500   NaN         S\n",
              "1            2         1       1  ...  71.2833   C85         C\n",
              "2            3         1       3  ...   7.9250   NaN         S\n",
              "3            4         1       1  ...  53.1000  C123         S\n",
              "4            5         0       3  ...   8.0500   NaN         S\n",
              "\n",
              "[5 rows x 12 columns]"
            ]
          },
          "metadata": {
            "tags": []
          },
          "execution_count": 135
        }
      ]
    },
    {
      "cell_type": "code",
      "metadata": {
        "id": "EvkHYneTozUy",
        "colab_type": "code",
        "colab": {}
      },
      "source": [
        "#　今回使わない特徴値を削除\n",
        "titanic_df.drop(['PassengerId', 'Name', 'Ticket', 'Cabin'], axis=1, inplace=True)"
      ],
      "execution_count": 291,
      "outputs": []
    },
    {
      "cell_type": "code",
      "metadata": {
        "id": "_z2KhhgGvj7a",
        "colab_type": "code",
        "colab": {
          "base_uri": "https://localhost:8080/",
          "height": 328
        },
        "outputId": "f2b06de1-620c-4a64-f7b9-f501412ba14a"
      },
      "source": [
        "titanic_df.head(9)"
      ],
      "execution_count": 137,
      "outputs": [
        {
          "output_type": "execute_result",
          "data": {
            "text/html": [
              "<div>\n",
              "<style scoped>\n",
              "    .dataframe tbody tr th:only-of-type {\n",
              "        vertical-align: middle;\n",
              "    }\n",
              "\n",
              "    .dataframe tbody tr th {\n",
              "        vertical-align: top;\n",
              "    }\n",
              "\n",
              "    .dataframe thead th {\n",
              "        text-align: right;\n",
              "    }\n",
              "</style>\n",
              "<table border=\"1\" class=\"dataframe\">\n",
              "  <thead>\n",
              "    <tr style=\"text-align: right;\">\n",
              "      <th></th>\n",
              "      <th>Survived</th>\n",
              "      <th>Pclass</th>\n",
              "      <th>Sex</th>\n",
              "      <th>Age</th>\n",
              "      <th>SibSp</th>\n",
              "      <th>Parch</th>\n",
              "      <th>Fare</th>\n",
              "      <th>Embarked</th>\n",
              "    </tr>\n",
              "  </thead>\n",
              "  <tbody>\n",
              "    <tr>\n",
              "      <th>0</th>\n",
              "      <td>0</td>\n",
              "      <td>3</td>\n",
              "      <td>male</td>\n",
              "      <td>22.0</td>\n",
              "      <td>1</td>\n",
              "      <td>0</td>\n",
              "      <td>7.2500</td>\n",
              "      <td>S</td>\n",
              "    </tr>\n",
              "    <tr>\n",
              "      <th>1</th>\n",
              "      <td>1</td>\n",
              "      <td>1</td>\n",
              "      <td>female</td>\n",
              "      <td>38.0</td>\n",
              "      <td>1</td>\n",
              "      <td>0</td>\n",
              "      <td>71.2833</td>\n",
              "      <td>C</td>\n",
              "    </tr>\n",
              "    <tr>\n",
              "      <th>2</th>\n",
              "      <td>1</td>\n",
              "      <td>3</td>\n",
              "      <td>female</td>\n",
              "      <td>26.0</td>\n",
              "      <td>0</td>\n",
              "      <td>0</td>\n",
              "      <td>7.9250</td>\n",
              "      <td>S</td>\n",
              "    </tr>\n",
              "    <tr>\n",
              "      <th>3</th>\n",
              "      <td>1</td>\n",
              "      <td>1</td>\n",
              "      <td>female</td>\n",
              "      <td>35.0</td>\n",
              "      <td>1</td>\n",
              "      <td>0</td>\n",
              "      <td>53.1000</td>\n",
              "      <td>S</td>\n",
              "    </tr>\n",
              "    <tr>\n",
              "      <th>4</th>\n",
              "      <td>0</td>\n",
              "      <td>3</td>\n",
              "      <td>male</td>\n",
              "      <td>35.0</td>\n",
              "      <td>0</td>\n",
              "      <td>0</td>\n",
              "      <td>8.0500</td>\n",
              "      <td>S</td>\n",
              "    </tr>\n",
              "    <tr>\n",
              "      <th>5</th>\n",
              "      <td>0</td>\n",
              "      <td>3</td>\n",
              "      <td>male</td>\n",
              "      <td>NaN</td>\n",
              "      <td>0</td>\n",
              "      <td>0</td>\n",
              "      <td>8.4583</td>\n",
              "      <td>Q</td>\n",
              "    </tr>\n",
              "    <tr>\n",
              "      <th>6</th>\n",
              "      <td>0</td>\n",
              "      <td>1</td>\n",
              "      <td>male</td>\n",
              "      <td>54.0</td>\n",
              "      <td>0</td>\n",
              "      <td>0</td>\n",
              "      <td>51.8625</td>\n",
              "      <td>S</td>\n",
              "    </tr>\n",
              "    <tr>\n",
              "      <th>7</th>\n",
              "      <td>0</td>\n",
              "      <td>3</td>\n",
              "      <td>male</td>\n",
              "      <td>2.0</td>\n",
              "      <td>3</td>\n",
              "      <td>1</td>\n",
              "      <td>21.0750</td>\n",
              "      <td>S</td>\n",
              "    </tr>\n",
              "    <tr>\n",
              "      <th>8</th>\n",
              "      <td>1</td>\n",
              "      <td>3</td>\n",
              "      <td>female</td>\n",
              "      <td>27.0</td>\n",
              "      <td>0</td>\n",
              "      <td>2</td>\n",
              "      <td>11.1333</td>\n",
              "      <td>S</td>\n",
              "    </tr>\n",
              "  </tbody>\n",
              "</table>\n",
              "</div>"
            ],
            "text/plain": [
              "   Survived  Pclass     Sex   Age  SibSp  Parch     Fare Embarked\n",
              "0         0       3    male  22.0      1      0   7.2500        S\n",
              "1         1       1  female  38.0      1      0  71.2833        C\n",
              "2         1       3  female  26.0      0      0   7.9250        S\n",
              "3         1       1  female  35.0      1      0  53.1000        S\n",
              "4         0       3    male  35.0      0      0   8.0500        S\n",
              "5         0       3    male   NaN      0      0   8.4583        Q\n",
              "6         0       1    male  54.0      0      0  51.8625        S\n",
              "7         0       3    male   2.0      3      1  21.0750        S\n",
              "8         1       3  female  27.0      0      2  11.1333        S"
            ]
          },
          "metadata": {
            "tags": []
          },
          "execution_count": 137
        }
      ]
    },
    {
      "cell_type": "code",
      "metadata": {
        "id": "-SZeFs02q-co",
        "colab_type": "code",
        "colab": {
          "base_uri": "https://localhost:8080/",
          "height": 359
        },
        "outputId": "62dbabd4-0ba6-4ee6-cba9-e08ecb0bcebd"
      },
      "source": [
        "titanic_df[titanic_df.isnull().any(1)].head(10)"
      ],
      "execution_count": 245,
      "outputs": [
        {
          "output_type": "execute_result",
          "data": {
            "text/html": [
              "<div>\n",
              "<style scoped>\n",
              "    .dataframe tbody tr th:only-of-type {\n",
              "        vertical-align: middle;\n",
              "    }\n",
              "\n",
              "    .dataframe tbody tr th {\n",
              "        vertical-align: top;\n",
              "    }\n",
              "\n",
              "    .dataframe thead th {\n",
              "        text-align: right;\n",
              "    }\n",
              "</style>\n",
              "<table border=\"1\" class=\"dataframe\">\n",
              "  <thead>\n",
              "    <tr style=\"text-align: right;\">\n",
              "      <th></th>\n",
              "      <th>Survived</th>\n",
              "      <th>Pclass</th>\n",
              "      <th>Sex</th>\n",
              "      <th>Age</th>\n",
              "      <th>SibSp</th>\n",
              "      <th>Parch</th>\n",
              "      <th>Fare</th>\n",
              "      <th>Embarked</th>\n",
              "      <th>Agefill</th>\n",
              "      <th>Gender</th>\n",
              "    </tr>\n",
              "  </thead>\n",
              "  <tbody>\n",
              "    <tr>\n",
              "      <th>5</th>\n",
              "      <td>0</td>\n",
              "      <td>3</td>\n",
              "      <td>male</td>\n",
              "      <td>NaN</td>\n",
              "      <td>0</td>\n",
              "      <td>0</td>\n",
              "      <td>8.4583</td>\n",
              "      <td>Q</td>\n",
              "      <td>26.507589</td>\n",
              "      <td>1</td>\n",
              "    </tr>\n",
              "    <tr>\n",
              "      <th>17</th>\n",
              "      <td>1</td>\n",
              "      <td>2</td>\n",
              "      <td>male</td>\n",
              "      <td>NaN</td>\n",
              "      <td>0</td>\n",
              "      <td>0</td>\n",
              "      <td>13.0000</td>\n",
              "      <td>S</td>\n",
              "      <td>30.740707</td>\n",
              "      <td>1</td>\n",
              "    </tr>\n",
              "    <tr>\n",
              "      <th>19</th>\n",
              "      <td>1</td>\n",
              "      <td>3</td>\n",
              "      <td>female</td>\n",
              "      <td>NaN</td>\n",
              "      <td>0</td>\n",
              "      <td>0</td>\n",
              "      <td>7.2250</td>\n",
              "      <td>C</td>\n",
              "      <td>21.750000</td>\n",
              "      <td>0</td>\n",
              "    </tr>\n",
              "    <tr>\n",
              "      <th>26</th>\n",
              "      <td>0</td>\n",
              "      <td>3</td>\n",
              "      <td>male</td>\n",
              "      <td>NaN</td>\n",
              "      <td>0</td>\n",
              "      <td>0</td>\n",
              "      <td>7.2250</td>\n",
              "      <td>C</td>\n",
              "      <td>26.507589</td>\n",
              "      <td>1</td>\n",
              "    </tr>\n",
              "    <tr>\n",
              "      <th>28</th>\n",
              "      <td>1</td>\n",
              "      <td>3</td>\n",
              "      <td>female</td>\n",
              "      <td>NaN</td>\n",
              "      <td>0</td>\n",
              "      <td>0</td>\n",
              "      <td>7.8792</td>\n",
              "      <td>Q</td>\n",
              "      <td>21.750000</td>\n",
              "      <td>0</td>\n",
              "    </tr>\n",
              "    <tr>\n",
              "      <th>29</th>\n",
              "      <td>0</td>\n",
              "      <td>3</td>\n",
              "      <td>male</td>\n",
              "      <td>NaN</td>\n",
              "      <td>0</td>\n",
              "      <td>0</td>\n",
              "      <td>7.8958</td>\n",
              "      <td>S</td>\n",
              "      <td>26.507589</td>\n",
              "      <td>1</td>\n",
              "    </tr>\n",
              "    <tr>\n",
              "      <th>31</th>\n",
              "      <td>1</td>\n",
              "      <td>1</td>\n",
              "      <td>female</td>\n",
              "      <td>NaN</td>\n",
              "      <td>1</td>\n",
              "      <td>0</td>\n",
              "      <td>146.5208</td>\n",
              "      <td>C</td>\n",
              "      <td>34.611765</td>\n",
              "      <td>0</td>\n",
              "    </tr>\n",
              "    <tr>\n",
              "      <th>32</th>\n",
              "      <td>1</td>\n",
              "      <td>3</td>\n",
              "      <td>female</td>\n",
              "      <td>NaN</td>\n",
              "      <td>0</td>\n",
              "      <td>0</td>\n",
              "      <td>7.7500</td>\n",
              "      <td>Q</td>\n",
              "      <td>21.750000</td>\n",
              "      <td>0</td>\n",
              "    </tr>\n",
              "    <tr>\n",
              "      <th>36</th>\n",
              "      <td>1</td>\n",
              "      <td>3</td>\n",
              "      <td>male</td>\n",
              "      <td>NaN</td>\n",
              "      <td>0</td>\n",
              "      <td>0</td>\n",
              "      <td>7.2292</td>\n",
              "      <td>C</td>\n",
              "      <td>26.507589</td>\n",
              "      <td>1</td>\n",
              "    </tr>\n",
              "    <tr>\n",
              "      <th>42</th>\n",
              "      <td>0</td>\n",
              "      <td>3</td>\n",
              "      <td>male</td>\n",
              "      <td>NaN</td>\n",
              "      <td>0</td>\n",
              "      <td>0</td>\n",
              "      <td>7.8958</td>\n",
              "      <td>C</td>\n",
              "      <td>26.507589</td>\n",
              "      <td>1</td>\n",
              "    </tr>\n",
              "  </tbody>\n",
              "</table>\n",
              "</div>"
            ],
            "text/plain": [
              "    Survived  Pclass     Sex  Age  ...      Fare  Embarked    Agefill Gender\n",
              "5          0       3    male  NaN  ...    8.4583         Q  26.507589      1\n",
              "17         1       2    male  NaN  ...   13.0000         S  30.740707      1\n",
              "19         1       3  female  NaN  ...    7.2250         C  21.750000      0\n",
              "26         0       3    male  NaN  ...    7.2250         C  26.507589      1\n",
              "28         1       3  female  NaN  ...    7.8792         Q  21.750000      0\n",
              "29         0       3    male  NaN  ...    7.8958         S  26.507589      1\n",
              "31         1       1  female  NaN  ...  146.5208         C  34.611765      0\n",
              "32         1       3  female  NaN  ...    7.7500         Q  21.750000      0\n",
              "36         1       3    male  NaN  ...    7.2292         C  26.507589      1\n",
              "42         0       3    male  NaN  ...    7.8958         C  26.507589      1\n",
              "\n",
              "[10 rows x 10 columns]"
            ]
          },
          "metadata": {
            "tags": []
          },
          "execution_count": 245
        }
      ]
    },
    {
      "cell_type": "code",
      "metadata": {
        "id": "F16bzcaSyxr1",
        "colab_type": "code",
        "colab": {}
      },
      "source": [
        "titanic_df['Gender'] = titanic_df['Sex'].map({'female': 0, 'male': 1}).astype(int)"
      ],
      "execution_count": 292,
      "outputs": []
    },
    {
      "cell_type": "code",
      "metadata": {
        "id": "HNjN9fsllxCl",
        "colab_type": "code",
        "colab": {
          "base_uri": "https://localhost:8080/",
          "height": 204
        },
        "outputId": "7949a905-8dee-4c90-a906-a89fb2fca533"
      },
      "source": [
        "# 各カラムに欠損値がいくつあるかチェック\n",
        "titanic_df.isna().sum()"
      ],
      "execution_count": 207,
      "outputs": [
        {
          "output_type": "execute_result",
          "data": {
            "text/plain": [
              "Survived      0\n",
              "Pclass        0\n",
              "Sex           0\n",
              "Age         177\n",
              "SibSp         0\n",
              "Parch         0\n",
              "Fare          0\n",
              "Embarked      2\n",
              "Agefill     177\n",
              "Gender        0\n",
              "dtype: int64"
            ]
          },
          "metadata": {
            "tags": []
          },
          "execution_count": 207
        }
      ]
    },
    {
      "cell_type": "code",
      "metadata": {
        "id": "RGRUn1Lj5O7q",
        "colab_type": "code",
        "colab": {}
      },
      "source": [
        "cls_gender_age = titanic_df.pivot_table(values='Age', index = 'Pclass', columns='Gender', aggfunc=np.mean)"
      ],
      "execution_count": 234,
      "outputs": []
    },
    {
      "cell_type": "code",
      "metadata": {
        "id": "bybiOqj25PAY",
        "colab_type": "code",
        "colab": {
          "base_uri": "https://localhost:8080/",
          "height": 119
        },
        "outputId": "cde3bc13-7884-4de2-adf2-79e4572af1df"
      },
      "source": [
        "cls_gender_age[0]\n",
        "print(cls_gender_age)\n",
        "print(cls_gender_age[1][2])\n"
      ],
      "execution_count": 236,
      "outputs": [
        {
          "output_type": "stream",
          "text": [
            "Gender          0          1\n",
            "Pclass                      \n",
            "1       34.611765  41.281386\n",
            "2       28.722973  30.740707\n",
            "3       21.750000  26.507589\n",
            "30.74070707070707\n"
          ],
          "name": "stdout"
        }
      ]
    },
    {
      "cell_type": "code",
      "metadata": {
        "id": "XfEQ8JdXxRfE",
        "colab_type": "code",
        "colab": {}
      },
      "source": [
        "age_missing_id = titanic_df[titanic_df['Age'].isna()].index.values\n",
        "titanic_df['Agefill'] = titanic_df['Age']"
      ],
      "execution_count": 293,
      "outputs": []
    },
    {
      "cell_type": "code",
      "metadata": {
        "id": "VzrwybYz5PJs",
        "colab_type": "code",
        "colab": {
          "base_uri": "https://localhost:8080/",
          "height": 102
        },
        "outputId": "b3fcb50c-e96e-4704-d0f0-92a88be94e55"
      },
      "source": [
        "for index_age in age_missing_id:\n",
        "  pclass = int(titanic_df.Pclass[[index_age]])\n",
        "  sex = int(titanic_df.Gender[[index_age]])\n",
        "  titanic_df.Agefill[[index_age]] = cls_gender_age[sex][pclass]\n",
        "  #print(pclass, '   ', sex)"
      ],
      "execution_count": 294,
      "outputs": [
        {
          "output_type": "stream",
          "text": [
            "/usr/local/lib/python3.6/dist-packages/ipykernel_launcher.py:4: SettingWithCopyWarning: \n",
            "A value is trying to be set on a copy of a slice from a DataFrame\n",
            "\n",
            "See the caveats in the documentation: https://pandas.pydata.org/pandas-docs/stable/user_guide/indexing.html#returning-a-view-versus-a-copy\n",
            "  after removing the cwd from sys.path.\n"
          ],
          "name": "stderr"
        }
      ]
    },
    {
      "cell_type": "markdown",
      "metadata": {
        "id": "E4hAgxDn3PgO",
        "colab_type": "text"
      },
      "source": [
        "## ロジスティック回帰実装 1：\n",
        "#### チケット価格から生死を判別\n"
      ]
    },
    {
      "cell_type": "code",
      "metadata": {
        "id": "47i36Akbvjmg",
        "colab_type": "code",
        "colab": {}
      },
      "source": [
        "# 説明変数として使う運賃だけのリストを作成\n",
        "data1 = titanic_df.loc[:, ['Fare']].values"
      ],
      "execution_count": 246,
      "outputs": []
    },
    {
      "cell_type": "code",
      "metadata": {
        "id": "WLQGOo0G4Nch",
        "colab_type": "code",
        "colab": {}
      },
      "source": [
        "# 目的変数（ターゲット）として使う生死フラグのみのリストを作成\n",
        "label1 = titanic_df.loc[:, ['Survived']].values"
      ],
      "execution_count": 250,
      "outputs": []
    },
    {
      "cell_type": "code",
      "metadata": {
        "id": "WzyBOwCe4r0t",
        "colab_type": "code",
        "colab": {}
      },
      "source": [
        "from sklearn.linear_model import LogisticRegression"
      ],
      "execution_count": 251,
      "outputs": []
    },
    {
      "cell_type": "code",
      "metadata": {
        "id": "tZs1czXg-bYT",
        "colab_type": "code",
        "colab": {}
      },
      "source": [
        "# ロジスティクス回帰モデルモジュール生成 \n",
        "model = LogisticRegression()"
      ],
      "execution_count": 255,
      "outputs": []
    },
    {
      "cell_type": "code",
      "metadata": {
        "id": "mvGUM5Lc-ek3",
        "colab_type": "code",
        "colab": {
          "base_uri": "https://localhost:8080/",
          "height": 156
        },
        "outputId": "8475ad33-3a03-4a51-ac79-53c62b8b61c1"
      },
      "source": [
        "# モデル学習\n",
        "model.fit(data1, label1)"
      ],
      "execution_count": 256,
      "outputs": [
        {
          "output_type": "stream",
          "text": [
            "/usr/local/lib/python3.6/dist-packages/sklearn/utils/validation.py:760: DataConversionWarning: A column-vector y was passed when a 1d array was expected. Please change the shape of y to (n_samples, ), for example using ravel().\n",
            "  y = column_or_1d(y, warn=True)\n"
          ],
          "name": "stderr"
        },
        {
          "output_type": "execute_result",
          "data": {
            "text/plain": [
              "LogisticRegression(C=1.0, class_weight=None, dual=False, fit_intercept=True,\n",
              "                   intercept_scaling=1, l1_ratio=None, max_iter=100,\n",
              "                   multi_class='auto', n_jobs=None, penalty='l2',\n",
              "                   random_state=None, solver='lbfgs', tol=0.0001, verbose=0,\n",
              "                   warm_start=False)"
            ]
          },
          "metadata": {
            "tags": []
          },
          "execution_count": 256
        }
      ]
    },
    {
      "cell_type": "code",
      "metadata": {
        "id": "mP8yd9PN-h9H",
        "colab_type": "code",
        "colab": {
          "base_uri": "https://localhost:8080/",
          "height": 34
        },
        "outputId": "4e0e9988-0a21-47b8-b11c-864ec57144fe"
      },
      "source": [
        "# チケット価格100ポンドでの生死推定： [y=0 死亡の確率、y=1 生存の確率]\n",
        "# 　生存判定\n",
        "model.predict_proba([[100]])"
      ],
      "execution_count": 258,
      "outputs": [
        {
          "output_type": "execute_result",
          "data": {
            "text/plain": [
              "array([[0.35931275, 0.64068725]])"
            ]
          },
          "metadata": {
            "tags": []
          },
          "execution_count": 258
        }
      ]
    },
    {
      "cell_type": "code",
      "metadata": {
        "id": "BOnxoQGiBNm0",
        "colab_type": "code",
        "colab": {}
      },
      "source": [
        "def sigmoid(x):\n",
        "  return 1/(1+np.exp(-x))"
      ],
      "execution_count": 268,
      "outputs": []
    },
    {
      "cell_type": "code",
      "metadata": {
        "id": "KI5UEXov-sYn",
        "colab_type": "code",
        "colab": {}
      },
      "source": [
        "X_test_value = model.decision_function(data1)\n",
        "X_test_prob = sigmoid(X_test_value)"
      ],
      "execution_count": 269,
      "outputs": []
    },
    {
      "cell_type": "code",
      "metadata": {
        "id": "SxiI6GliBRMI",
        "colab_type": "code",
        "colab": {
          "base_uri": "https://localhost:8080/",
          "height": 51
        },
        "outputId": "23e51ec1-56bf-49d8-a025-bd2f31d97f3b"
      },
      "source": [
        "print(model.intercept_)\n",
        "print(model.coef_)"
      ],
      "execution_count": 272,
      "outputs": [
        {
          "output_type": "stream",
          "text": [
            "[-0.94131796]\n",
            "[[0.01519666]]\n"
          ],
          "name": "stdout"
        }
      ]
    },
    {
      "cell_type": "code",
      "metadata": {
        "id": "DqI1zZprC0-5",
        "colab_type": "code",
        "colab": {
          "base_uri": "https://localhost:8080/",
          "height": 368
        },
        "outputId": "13d12b5b-ac54-4c69-8c6d-e88d29fa6104"
      },
      "source": [
        "w_0 = model.intercept_[0]\n",
        "w_1 = model.coef_[0,0]\n",
        "\n",
        "def sigmoid(x):\n",
        "    return 1 / (1+np.exp(-(w_1*x+w_0)))\n",
        "\n",
        "x_range = np.linspace(-1, 500, 3000)\n",
        "\n",
        "plt.figure(figsize = (9, 5))\n",
        "plt.legend()\n",
        "\n",
        "plt.plot(data1, np.zeros(len(data1)), 'o')\n",
        "plt.plot(data1, model.predict_proba(data1), 'o')\n",
        "plt.plot(x_range, sigmoid(x_range), '-')\n",
        "\n",
        "plt.xlabel('Fare')\n",
        "plt.ylabel('Prob of Survival')"
      ],
      "execution_count": 282,
      "outputs": [
        {
          "output_type": "stream",
          "text": [
            "No handles with labels found to put in legend.\n"
          ],
          "name": "stderr"
        },
        {
          "output_type": "execute_result",
          "data": {
            "text/plain": [
              "Text(0, 0.5, 'Prob of Survival')"
            ]
          },
          "metadata": {
            "tags": []
          },
          "execution_count": 282
        },
        {
          "output_type": "display_data",
          "data": {
            "image/png": "[encoded data removed]",
            "text/plain": [
              "<Figure size 648x360 with 1 Axes>"
            ]
          },
          "metadata": {
            "tags": [],
            "needs_background": "light"
          }
        }
      ]
    },
    {
      "cell_type": "markdown",
      "metadata": {
        "id": "mGLLcZ_wFKYn",
        "colab_type": "text"
      },
      "source": [
        "## ロジスティック回帰実装 2:　\n",
        "\n",
        "2変数性別とクラスで生死判別"
      ]
    },
    {
      "cell_type": "code",
      "metadata": {
        "id": "83Y9gCygHJhN",
        "colab_type": "code",
        "colab": {
          "base_uri": "https://localhost:8080/",
          "height": 102
        },
        "outputId": "747c16ef-f044-470d-9be3-48f6afc3354e"
      },
      "source": [
        "titanic_df = pd.read_csv('/content/drive/My Drive/Pythonライブラリ基礎講座/study_ai_ml/data/titanic_train.csv')\n",
        "col_names = list(titanic_df.columns)\n",
        "#　今回使わない特徴値を削除\n",
        "titanic_df.drop(['PassengerId', 'Name', 'Ticket', 'Cabin'], axis=1, inplace=True)\n",
        "titanic_df['Gender'] = titanic_df['Sex'].map({'female': 0, 'male': 1}).astype(int)\n",
        "cls_gender_age = titanic_df.pivot_table(values='Age', index = 'Pclass', columns='Gender', aggfunc=np.mean)\n",
        "\n",
        "age_missing_id = titanic_df[titanic_df['Age'].isna()].index.values\n",
        "titanic_df['AgeFill'] = titanic_df['Age']\n",
        "\n",
        "for index_age in age_missing_id:\n",
        "  pclass = int(titanic_df.Pclass[[index_age]])\n",
        "  sex = int(titanic_df.Gender[[index_age]])\n",
        "  titanic_df.AgeFill[[index_age]] = cls_gender_age[sex][pclass]\n",
        "  #print(pclass, '   ', sex)"
      ],
      "execution_count": 299,
      "outputs": [
        {
          "output_type": "stream",
          "text": [
            "/usr/local/lib/python3.6/dist-packages/ipykernel_launcher.py:14: SettingWithCopyWarning: \n",
            "A value is trying to be set on a copy of a slice from a DataFrame\n",
            "\n",
            "See the caveats in the documentation: https://pandas.pydata.org/pandas-docs/stable/user_guide/indexing.html#returning-a-view-versus-a-copy\n",
            "  \n"
          ],
          "name": "stderr"
        }
      ]
    },
    {
      "cell_type": "code",
      "metadata": {
        "id": "G35I_tLlD3pL",
        "colab_type": "code",
        "colab": {
          "base_uri": "https://localhost:8080/",
          "height": 142
        },
        "outputId": "96dc3112-5238-440a-e2ea-ec1eb4f60eb5"
      },
      "source": [
        "titanic_df.head(3)"
      ],
      "execution_count": 300,
      "outputs": [
        {
          "output_type": "execute_result",
          "data": {
            "text/html": [
              "<div>\n",
              "<style scoped>\n",
              "    .dataframe tbody tr th:only-of-type {\n",
              "        vertical-align: middle;\n",
              "    }\n",
              "\n",
              "    .dataframe tbody tr th {\n",
              "        vertical-align: top;\n",
              "    }\n",
              "\n",
              "    .dataframe thead th {\n",
              "        text-align: right;\n",
              "    }\n",
              "</style>\n",
              "<table border=\"1\" class=\"dataframe\">\n",
              "  <thead>\n",
              "    <tr style=\"text-align: right;\">\n",
              "      <th></th>\n",
              "      <th>Survived</th>\n",
              "      <th>Pclass</th>\n",
              "      <th>Sex</th>\n",
              "      <th>Age</th>\n",
              "      <th>SibSp</th>\n",
              "      <th>Parch</th>\n",
              "      <th>Fare</th>\n",
              "      <th>Embarked</th>\n",
              "      <th>Gender</th>\n",
              "      <th>AgeFill</th>\n",
              "    </tr>\n",
              "  </thead>\n",
              "  <tbody>\n",
              "    <tr>\n",
              "      <th>0</th>\n",
              "      <td>0</td>\n",
              "      <td>3</td>\n",
              "      <td>male</td>\n",
              "      <td>22.0</td>\n",
              "      <td>1</td>\n",
              "      <td>0</td>\n",
              "      <td>7.2500</td>\n",
              "      <td>S</td>\n",
              "      <td>1</td>\n",
              "      <td>22.0</td>\n",
              "    </tr>\n",
              "    <tr>\n",
              "      <th>1</th>\n",
              "      <td>1</td>\n",
              "      <td>1</td>\n",
              "      <td>female</td>\n",
              "      <td>38.0</td>\n",
              "      <td>1</td>\n",
              "      <td>0</td>\n",
              "      <td>71.2833</td>\n",
              "      <td>C</td>\n",
              "      <td>0</td>\n",
              "      <td>38.0</td>\n",
              "    </tr>\n",
              "    <tr>\n",
              "      <th>2</th>\n",
              "      <td>1</td>\n",
              "      <td>3</td>\n",
              "      <td>female</td>\n",
              "      <td>26.0</td>\n",
              "      <td>0</td>\n",
              "      <td>0</td>\n",
              "      <td>7.9250</td>\n",
              "      <td>S</td>\n",
              "      <td>0</td>\n",
              "      <td>26.0</td>\n",
              "    </tr>\n",
              "  </tbody>\n",
              "</table>\n",
              "</div>"
            ],
            "text/plain": [
              "   Survived  Pclass     Sex   Age  ...     Fare  Embarked  Gender AgeFill\n",
              "0         0       3    male  22.0  ...   7.2500         S       1    22.0\n",
              "1         1       1  female  38.0  ...  71.2833         C       0    38.0\n",
              "2         1       3  female  26.0  ...   7.9250         S       0    26.0\n",
              "\n",
              "[3 rows x 10 columns]"
            ]
          },
          "metadata": {
            "tags": []
          },
          "execution_count": 300
        }
      ]
    },
    {
      "cell_type": "code",
      "metadata": {
        "id": "6Xzf8cf3F4u9",
        "colab_type": "code",
        "colab": {}
      },
      "source": [
        "titanic_df['Pclass_Gender'] = titanic_df['Pclass'] + titanic_df['Gender']"
      ],
      "execution_count": 301,
      "outputs": []
    },
    {
      "cell_type": "code",
      "metadata": {
        "id": "i3kjqQcqGHG3",
        "colab_type": "code",
        "colab": {
          "base_uri": "https://localhost:8080/",
          "height": 204
        },
        "outputId": "9af0a2ab-da13-4ddb-c09e-1396766c2cfa"
      },
      "source": [
        "titanic_df.head()"
      ],
      "execution_count": 302,
      "outputs": [
        {
          "output_type": "execute_result",
          "data": {
            "text/html": [
              "<div>\n",
              "<style scoped>\n",
              "    .dataframe tbody tr th:only-of-type {\n",
              "        vertical-align: middle;\n",
              "    }\n",
              "\n",
              "    .dataframe tbody tr th {\n",
              "        vertical-align: top;\n",
              "    }\n",
              "\n",
              "    .dataframe thead th {\n",
              "        text-align: right;\n",
              "    }\n",
              "</style>\n",
              "<table border=\"1\" class=\"dataframe\">\n",
              "  <thead>\n",
              "    <tr style=\"text-align: right;\">\n",
              "      <th></th>\n",
              "      <th>Survived</th>\n",
              "      <th>Pclass</th>\n",
              "      <th>Sex</th>\n",
              "      <th>Age</th>\n",
              "      <th>SibSp</th>\n",
              "      <th>Parch</th>\n",
              "      <th>Fare</th>\n",
              "      <th>Embarked</th>\n",
              "      <th>Gender</th>\n",
              "      <th>AgeFill</th>\n",
              "      <th>Pclass_Gender</th>\n",
              "    </tr>\n",
              "  </thead>\n",
              "  <tbody>\n",
              "    <tr>\n",
              "      <th>0</th>\n",
              "      <td>0</td>\n",
              "      <td>3</td>\n",
              "      <td>male</td>\n",
              "      <td>22.0</td>\n",
              "      <td>1</td>\n",
              "      <td>0</td>\n",
              "      <td>7.2500</td>\n",
              "      <td>S</td>\n",
              "      <td>1</td>\n",
              "      <td>22.0</td>\n",
              "      <td>4</td>\n",
              "    </tr>\n",
              "    <tr>\n",
              "      <th>1</th>\n",
              "      <td>1</td>\n",
              "      <td>1</td>\n",
              "      <td>female</td>\n",
              "      <td>38.0</td>\n",
              "      <td>1</td>\n",
              "      <td>0</td>\n",
              "      <td>71.2833</td>\n",
              "      <td>C</td>\n",
              "      <td>0</td>\n",
              "      <td>38.0</td>\n",
              "      <td>1</td>\n",
              "    </tr>\n",
              "    <tr>\n",
              "      <th>2</th>\n",
              "      <td>1</td>\n",
              "      <td>3</td>\n",
              "      <td>female</td>\n",
              "      <td>26.0</td>\n",
              "      <td>0</td>\n",
              "      <td>0</td>\n",
              "      <td>7.9250</td>\n",
              "      <td>S</td>\n",
              "      <td>0</td>\n",
              "      <td>26.0</td>\n",
              "      <td>3</td>\n",
              "    </tr>\n",
              "    <tr>\n",
              "      <th>3</th>\n",
              "      <td>1</td>\n",
              "      <td>1</td>\n",
              "      <td>female</td>\n",
              "      <td>35.0</td>\n",
              "      <td>1</td>\n",
              "      <td>0</td>\n",
              "      <td>53.1000</td>\n",
              "      <td>S</td>\n",
              "      <td>0</td>\n",
              "      <td>35.0</td>\n",
              "      <td>1</td>\n",
              "    </tr>\n",
              "    <tr>\n",
              "      <th>4</th>\n",
              "      <td>0</td>\n",
              "      <td>3</td>\n",
              "      <td>male</td>\n",
              "      <td>35.0</td>\n",
              "      <td>0</td>\n",
              "      <td>0</td>\n",
              "      <td>8.0500</td>\n",
              "      <td>S</td>\n",
              "      <td>1</td>\n",
              "      <td>35.0</td>\n",
              "      <td>4</td>\n",
              "    </tr>\n",
              "  </tbody>\n",
              "</table>\n",
              "</div>"
            ],
            "text/plain": [
              "   Survived  Pclass     Sex   Age  ...  Embarked  Gender  AgeFill Pclass_Gender\n",
              "0         0       3    male  22.0  ...         S       1     22.0             4\n",
              "1         1       1  female  38.0  ...         C       0     38.0             1\n",
              "2         1       3  female  26.0  ...         S       0     26.0             3\n",
              "3         1       1  female  35.0  ...         S       0     35.0             1\n",
              "4         0       3    male  35.0  ...         S       1     35.0             4\n",
              "\n",
              "[5 rows x 11 columns]"
            ]
          },
          "metadata": {
            "tags": []
          },
          "execution_count": 302
        }
      ]
    },
    {
      "cell_type": "code",
      "metadata": {
        "id": "qC37QcODGI_Q",
        "colab_type": "code",
        "colab": {}
      },
      "source": [
        "titanic_df = titanic_df.drop(['Pclass','Sex', 'Gender','Age'], axis = 1)"
      ],
      "execution_count": 303,
      "outputs": []
    },
    {
      "cell_type": "code",
      "metadata": {
        "id": "2XEYuJEbGc95",
        "colab_type": "code",
        "colab": {
          "base_uri": "https://localhost:8080/",
          "height": 204
        },
        "outputId": "d32f6484-7094-42b7-a04a-8f9cef2120d3"
      },
      "source": [
        "titanic_df.head()"
      ],
      "execution_count": 304,
      "outputs": [
        {
          "output_type": "execute_result",
          "data": {
            "text/html": [
              "<div>\n",
              "<style scoped>\n",
              "    .dataframe tbody tr th:only-of-type {\n",
              "        vertical-align: middle;\n",
              "    }\n",
              "\n",
              "    .dataframe tbody tr th {\n",
              "        vertical-align: top;\n",
              "    }\n",
              "\n",
              "    .dataframe thead th {\n",
              "        text-align: right;\n",
              "    }\n",
              "</style>\n",
              "<table border=\"1\" class=\"dataframe\">\n",
              "  <thead>\n",
              "    <tr style=\"text-align: right;\">\n",
              "      <th></th>\n",
              "      <th>Survived</th>\n",
              "      <th>Age</th>\n",
              "      <th>SibSp</th>\n",
              "      <th>Parch</th>\n",
              "      <th>Fare</th>\n",
              "      <th>Embarked</th>\n",
              "      <th>AgeFill</th>\n",
              "      <th>Pclass_Gender</th>\n",
              "    </tr>\n",
              "  </thead>\n",
              "  <tbody>\n",
              "    <tr>\n",
              "      <th>0</th>\n",
              "      <td>0</td>\n",
              "      <td>22.0</td>\n",
              "      <td>1</td>\n",
              "      <td>0</td>\n",
              "      <td>7.2500</td>\n",
              "      <td>S</td>\n",
              "      <td>22.0</td>\n",
              "      <td>4</td>\n",
              "    </tr>\n",
              "    <tr>\n",
              "      <th>1</th>\n",
              "      <td>1</td>\n",
              "      <td>38.0</td>\n",
              "      <td>1</td>\n",
              "      <td>0</td>\n",
              "      <td>71.2833</td>\n",
              "      <td>C</td>\n",
              "      <td>38.0</td>\n",
              "      <td>1</td>\n",
              "    </tr>\n",
              "    <tr>\n",
              "      <th>2</th>\n",
              "      <td>1</td>\n",
              "      <td>26.0</td>\n",
              "      <td>0</td>\n",
              "      <td>0</td>\n",
              "      <td>7.9250</td>\n",
              "      <td>S</td>\n",
              "      <td>26.0</td>\n",
              "      <td>3</td>\n",
              "    </tr>\n",
              "    <tr>\n",
              "      <th>3</th>\n",
              "      <td>1</td>\n",
              "      <td>35.0</td>\n",
              "      <td>1</td>\n",
              "      <td>0</td>\n",
              "      <td>53.1000</td>\n",
              "      <td>S</td>\n",
              "      <td>35.0</td>\n",
              "      <td>1</td>\n",
              "    </tr>\n",
              "    <tr>\n",
              "      <th>4</th>\n",
              "      <td>0</td>\n",
              "      <td>35.0</td>\n",
              "      <td>0</td>\n",
              "      <td>0</td>\n",
              "      <td>8.0500</td>\n",
              "      <td>S</td>\n",
              "      <td>35.0</td>\n",
              "      <td>4</td>\n",
              "    </tr>\n",
              "  </tbody>\n",
              "</table>\n",
              "</div>"
            ],
            "text/plain": [
              "   Survived   Age  SibSp  Parch     Fare Embarked  AgeFill  Pclass_Gender\n",
              "0         0  22.0      1      0   7.2500        S     22.0              4\n",
              "1         1  38.0      1      0  71.2833        C     38.0              1\n",
              "2         1  26.0      0      0   7.9250        S     26.0              3\n",
              "3         1  35.0      1      0  53.1000        S     35.0              1\n",
              "4         0  35.0      0      0   8.0500        S     35.0              4"
            ]
          },
          "metadata": {
            "tags": []
          },
          "execution_count": 304
        }
      ]
    },
    {
      "cell_type": "code",
      "metadata": {
        "id": "byC60gJuGj1o",
        "colab_type": "code",
        "colab": {}
      },
      "source": [
        "# 重要\n",
        "# 境界線の式\n",
        "#   w_1・x + w_2・y + w_0 = 0\n",
        "#   ⇒ y = (-w_1・x - w_0) / w_2\n",
        "\n",
        "# 境界線プロット\n",
        "# plt.plot([-2,2], map(lambda x: (-w_1 *x -w_0)/w_2, [-2,2]))\n",
        "\n",
        "\n",
        "# # データを重ねる\n",
        "# plt.scatter(X_train_std[y_train==0, 0], X_train_std[y_train==0, 1], c='red', marker='x', label='train 0')\n",
        "# plt.scatter(X_train_std[y_train==1, 0], X_train_std[y_train==1, 1], c='blue', marker='x', label='train 1')\n",
        "# plt.scatter(X_test_std[y_test==0, 0], X_test_std[y_test==0, 1], c='red', marker='o', s=60, label='test 0')\n",
        "# plt.scatter(X_test_std[y_test==1, 0], X_test_std[y_test==1, 1], c='blue', marker='o', s=60, label='test 1')"
      ],
      "execution_count": null,
      "outputs": []
    },
    {
      "cell_type": "code",
      "metadata": {
        "id": "inwiDdluINdX",
        "colab_type": "code",
        "colab": {
          "base_uri": "https://localhost:8080/",
          "height": 300
        },
        "outputId": "9f577a98-a1ca-496b-ad38-69ad682f9ef2"
      },
      "source": [
        "np.random.seed = 0\n",
        "\n",
        "xmin, xmax = -5, 85\n",
        "ymin, ymax = 0.5, 4.5\n",
        "\n",
        "index_survived = titanic_df[titanic_df[\"Survived\"]==0].index\n",
        "index_notsurvived = titanic_df[titanic_df[\"Survived\"]==1].index\n",
        "\n",
        "from matplotlib.colors import ListedColormap\n",
        "fig, ax = plt.subplots()\n",
        "cm = plt.cm.RdBu\n",
        "cm_bright = ListedColormap(['#FF0000', '#0000FF'])\n",
        "sc = ax.scatter(titanic_df.loc[index_survived, 'AgeFill'],\n",
        "                titanic_df.loc[index_survived, 'Pclass_Gender']+(np.random.rand(len(index_survived))-0.5)*0.1,\n",
        "                color='r', label='Not Survived', alpha=0.3)\n",
        "sc = ax.scatter(titanic_df.loc[index_notsurvived, 'AgeFill'],\n",
        "                titanic_df.loc[index_notsurvived, 'Pclass_Gender']+(np.random.rand(len(index_notsurvived))-0.5)*0.1,\n",
        "                color='b', label='Survived', alpha=0.3)\n",
        "ax.set_xlabel('AgeFill')\n",
        "ax.set_ylabel('Pclass_Gender')\n",
        "ax.set_xlim(xmin, xmax)\n",
        "ax.set_ylim(ymin, ymax)\n",
        "ax.legend(bbox_to_anchor=(1.4, 1.03))"
      ],
      "execution_count": 315,
      "outputs": [
        {
          "output_type": "execute_result",
          "data": {
            "text/plain": [
              "<matplotlib.legend.Legend at 0x7f82d024d7f0>"
            ]
          },
          "metadata": {
            "tags": []
          },
          "execution_count": 315
        },
        {
          "output_type": "display_data",
          "data": {
            "image/png": "[encoded data removed]",
            "text/plain": [
              "<Figure size 432x288 with 1 Axes>"
            ]
          },
          "metadata": {
            "tags": [],
            "needs_background": "light"
          }
        }
      ]
    },
    {
      "cell_type": "code",
      "metadata": {
        "id": "9igQ6C4tKbFr",
        "colab_type": "code",
        "colab": {}
      },
      "source": [
        "#　説明変数を抽出、リスト作成\n",
        "data2 = titanic_df.loc[:, ['AgeFill', 'Pclass_Gender']].values"
      ],
      "execution_count": 316,
      "outputs": []
    },
    {
      "cell_type": "code",
      "metadata": {
        "id": "Us3cdcP-LOyJ",
        "colab_type": "code",
        "colab": {
          "base_uri": "https://localhost:8080/",
          "height": 136
        },
        "outputId": "122b3454-7362-41a9-bdb0-a45810f4239b"
      },
      "source": [
        "data2"
      ],
      "execution_count": 317,
      "outputs": [
        {
          "output_type": "execute_result",
          "data": {
            "text/plain": [
              "array([[22.  ,  4.  ],\n",
              "       [38.  ,  1.  ],\n",
              "       [26.  ,  3.  ],\n",
              "       ...,\n",
              "       [21.75,  3.  ],\n",
              "       [26.  ,  2.  ],\n",
              "       [32.  ,  4.  ]])"
            ]
          },
          "metadata": {
            "tags": []
          },
          "execution_count": 317
        }
      ]
    },
    {
      "cell_type": "code",
      "metadata": {
        "id": "wO1Q4ENjLPzJ",
        "colab_type": "code",
        "colab": {}
      },
      "source": [
        "label2 = titanic_df.loc[:,['Survived']].values"
      ],
      "execution_count": 319,
      "outputs": []
    },
    {
      "cell_type": "code",
      "metadata": {
        "id": "tAslnTcPLmzx",
        "colab_type": "code",
        "colab": {}
      },
      "source": [
        "model2 =LogisticRegression()"
      ],
      "execution_count": 320,
      "outputs": []
    },
    {
      "cell_type": "code",
      "metadata": {
        "id": "rAcir2t8Ls7Z",
        "colab_type": "code",
        "colab": {
          "base_uri": "https://localhost:8080/",
          "height": 156
        },
        "outputId": "e70d1332-b2a3-4e4d-bce8-5ec2884689da"
      },
      "source": [
        "model2.fit(data2, label2)"
      ],
      "execution_count": 321,
      "outputs": [
        {
          "output_type": "stream",
          "text": [
            "/usr/local/lib/python3.6/dist-packages/sklearn/utils/validation.py:760: DataConversionWarning: A column-vector y was passed when a 1d array was expected. Please change the shape of y to (n_samples, ), for example using ravel().\n",
            "  y = column_or_1d(y, warn=True)\n"
          ],
          "name": "stderr"
        },
        {
          "output_type": "execute_result",
          "data": {
            "text/plain": [
              "LogisticRegression(C=1.0, class_weight=None, dual=False, fit_intercept=True,\n",
              "                   intercept_scaling=1, l1_ratio=None, max_iter=100,\n",
              "                   multi_class='auto', n_jobs=None, penalty='l2',\n",
              "                   random_state=None, solver='lbfgs', tol=0.0001, verbose=0,\n",
              "                   warm_start=False)"
            ]
          },
          "metadata": {
            "tags": []
          },
          "execution_count": 321
        }
      ]
    },
    {
      "cell_type": "code",
      "metadata": {
        "id": "Bh5haCD8LwQh",
        "colab_type": "code",
        "colab": {
          "base_uri": "https://localhost:8080/",
          "height": 34
        },
        "outputId": "6e93fae2-8aed-40d8-d1ab-3938927e13cf"
      },
      "source": [
        "model2.predict([[10,1]])"
      ],
      "execution_count": 322,
      "outputs": [
        {
          "output_type": "execute_result",
          "data": {
            "text/plain": [
              "array([1])"
            ]
          },
          "metadata": {
            "tags": []
          },
          "execution_count": 322
        }
      ]
    },
    {
      "cell_type": "code",
      "metadata": {
        "id": "Yj0Gl-D1L0X5",
        "colab_type": "code",
        "colab": {
          "base_uri": "https://localhost:8080/",
          "height": 34
        },
        "outputId": "047337aa-7663-41ec-ed90-df1da69326f1"
      },
      "source": [
        "model2.predict_proba([[10,1]])"
      ],
      "execution_count": 323,
      "outputs": [
        {
          "output_type": "execute_result",
          "data": {
            "text/plain": [
              "array([[0.02738008, 0.97261992]])"
            ]
          },
          "metadata": {
            "tags": []
          },
          "execution_count": 323
        }
      ]
    },
    {
      "cell_type": "code",
      "metadata": {
        "id": "qWhSwaWlL5Gh",
        "colab_type": "code",
        "colab": {
          "base_uri": "https://localhost:8080/",
          "height": 142
        },
        "outputId": "05b70b24-cae3-4c3b-d494-90e4e1155480"
      },
      "source": [
        "titanic_df.head(3)"
      ],
      "execution_count": 325,
      "outputs": [
        {
          "output_type": "execute_result",
          "data": {
            "text/html": [
              "<div>\n",
              "<style scoped>\n",
              "    .dataframe tbody tr th:only-of-type {\n",
              "        vertical-align: middle;\n",
              "    }\n",
              "\n",
              "    .dataframe tbody tr th {\n",
              "        vertical-align: top;\n",
              "    }\n",
              "\n",
              "    .dataframe thead th {\n",
              "        text-align: right;\n",
              "    }\n",
              "</style>\n",
              "<table border=\"1\" class=\"dataframe\">\n",
              "  <thead>\n",
              "    <tr style=\"text-align: right;\">\n",
              "      <th></th>\n",
              "      <th>Survived</th>\n",
              "      <th>Age</th>\n",
              "      <th>SibSp</th>\n",
              "      <th>Parch</th>\n",
              "      <th>Fare</th>\n",
              "      <th>Embarked</th>\n",
              "      <th>AgeFill</th>\n",
              "      <th>Pclass_Gender</th>\n",
              "    </tr>\n",
              "  </thead>\n",
              "  <tbody>\n",
              "    <tr>\n",
              "      <th>0</th>\n",
              "      <td>0</td>\n",
              "      <td>22.0</td>\n",
              "      <td>1</td>\n",
              "      <td>0</td>\n",
              "      <td>7.2500</td>\n",
              "      <td>S</td>\n",
              "      <td>22.0</td>\n",
              "      <td>4</td>\n",
              "    </tr>\n",
              "    <tr>\n",
              "      <th>1</th>\n",
              "      <td>1</td>\n",
              "      <td>38.0</td>\n",
              "      <td>1</td>\n",
              "      <td>0</td>\n",
              "      <td>71.2833</td>\n",
              "      <td>C</td>\n",
              "      <td>38.0</td>\n",
              "      <td>1</td>\n",
              "    </tr>\n",
              "    <tr>\n",
              "      <th>2</th>\n",
              "      <td>1</td>\n",
              "      <td>26.0</td>\n",
              "      <td>0</td>\n",
              "      <td>0</td>\n",
              "      <td>7.9250</td>\n",
              "      <td>S</td>\n",
              "      <td>26.0</td>\n",
              "      <td>3</td>\n",
              "    </tr>\n",
              "  </tbody>\n",
              "</table>\n",
              "</div>"
            ],
            "text/plain": [
              "   Survived   Age  SibSp  Parch     Fare Embarked  AgeFill  Pclass_Gender\n",
              "0         0  22.0      1      0   7.2500        S     22.0              4\n",
              "1         1  38.0      1      0  71.2833        C     38.0              1\n",
              "2         1  26.0      0      0   7.9250        S     26.0              3"
            ]
          },
          "metadata": {
            "tags": []
          },
          "execution_count": 325
        }
      ]
    },
    {
      "cell_type": "code",
      "metadata": {
        "id": "L5aOIX_mMAUq",
        "colab_type": "code",
        "colab": {
          "base_uri": "https://localhost:8080/",
          "height": 300
        },
        "outputId": "89463070-87c3-4383-8051-368e40a74e1a"
      },
      "source": [
        "h = 0.02\n",
        "xmin, xmax = -5, 85\n",
        "ymin, ymax = 0.5, 4.5\n",
        "xx, yy = np.meshgrid(np.arange(xmin, xmax, h), np.arange(ymin, ymax, h))\n",
        "Z = model2.predict_proba(np.c_[xx.ravel(), yy.ravel()])[:, 1]\n",
        "Z = Z.reshape(xx.shape)\n",
        "\n",
        "fig, ax = plt.subplots()\n",
        "levels = np.linspace(0, 1.0)\n",
        "cm = plt.cm.RdBu\n",
        "cm_bright = ListedColormap(['#FF0000', '#0000FF'])\n",
        "#contour = ax.contourf(xx, yy, Z, cmap=cm, levels=levels, alpha=0.5)\n",
        "\n",
        "sc = ax.scatter(titanic_df.loc[index_survived, 'AgeFill'],\n",
        "                titanic_df.loc[index_survived, 'Pclass_Gender']+(np.random.rand(len(index_survived))-0.5)*0.1,\n",
        "                color='r', label='Not Survived', alpha=0.3)\n",
        "sc = ax.scatter(titanic_df.loc[index_notsurvived, 'AgeFill'],\n",
        "                titanic_df.loc[index_notsurvived, 'Pclass_Gender']+(np.random.rand(len(index_notsurvived))-0.5)*0.1,\n",
        "                color='b', label='Survived', alpha=0.3)\n",
        "\n",
        "ax.set_xlabel('AgeFill')\n",
        "ax.set_ylabel('Pclass_Gender')\n",
        "ax.set_xlim(xmin, xmax)\n",
        "ax.set_ylim(ymin, ymax)\n",
        "#fig.colorbar(contour)\n",
        "\n",
        "x1 = xmin\n",
        "x2 = xmax\n",
        "y1 = -1*(model2.intercept_[0]+model2.coef_[0][0]*xmin)/model2.coef_[0][1]\n",
        "y2 = -1*(model2.intercept_[0]+model2.coef_[0][0]*xmax)/model2.coef_[0][1]\n",
        "ax.plot([x1, x2] ,[y1, y2], 'k--')"
      ],
      "execution_count": 327,
      "outputs": [
        {
          "output_type": "execute_result",
          "data": {
            "text/plain": [
              "[<matplotlib.lines.Line2D at 0x7f82d2059d68>]"
            ]
          },
          "metadata": {
            "tags": []
          },
          "execution_count": 327
        },
        {
          "output_type": "display_data",
          "data": {
            "image/png": "[encoded data removed]",
            "text/plain": [
              "<Figure size 432x288 with 1 Axes>"
            ]
          },
          "metadata": {
            "tags": [],
            "needs_background": "light"
          }
        }
      ]
    },
    {
      "cell_type": "markdown",
      "metadata": {
        "id": "DKwL0BvgM2oo",
        "colab_type": "text"
      },
      "source": [
        "## モデル評価"
      ]
    },
    {
      "cell_type": "code",
      "metadata": {
        "id": "j-AIS-iQMJqg",
        "colab_type": "code",
        "colab": {}
      },
      "source": [
        "from sklearn.model_selection import train_test_split"
      ],
      "execution_count": 328,
      "outputs": []
    },
    {
      "cell_type": "code",
      "metadata": {
        "id": "HwAcfgNLM36A",
        "colab_type": "code",
        "colab": {}
      },
      "source": [
        "traindata1, testdata1, trainlabel1, testlabel1 = train_test_split(data1, label1, train_size=0.2)\n",
        "traindata2, testdata2, trainlabel2, testlabel2 = train_test_split(data2, label2, train_size=0.2)"
      ],
      "execution_count": 329,
      "outputs": []
    },
    {
      "cell_type": "code",
      "metadata": {
        "id": "Dkf0MePMM39Y",
        "colab_type": "code",
        "colab": {
          "base_uri": "https://localhost:8080/",
          "height": 51
        },
        "outputId": "292162c3-b989-4cde-ff32-ab50b56feea3"
      },
      "source": [
        "data = titanic_df.loc[:, ].values\n",
        "label =  titanic_df.loc[:,[\"Survived\"]].values\n",
        "traindata, testdata, trainlabel, testlabel = train_test_split(data, label, test_size=0.2)\n",
        "print(traindata.shape)\n",
        "print(trainlabel.shape)"
      ],
      "execution_count": 331,
      "outputs": [
        {
          "output_type": "stream",
          "text": [
            "(712, 8)\n",
            "(712, 1)\n"
          ],
          "name": "stdout"
        }
      ]
    },
    {
      "cell_type": "code",
      "metadata": {
        "id": "bDsTn6mRM4Av",
        "colab_type": "code",
        "colab": {}
      },
      "source": [
        "eval_model1 = LogisticRegression()\n",
        "eval_model2 = LogisticRegression()\n"
      ],
      "execution_count": 332,
      "outputs": []
    },
    {
      "cell_type": "code",
      "metadata": {
        "id": "YJ_TS3yLM4D0",
        "colab_type": "code",
        "colab": {
          "base_uri": "https://localhost:8080/",
          "height": 105
        },
        "outputId": "78948fd4-0154-4259-e9fb-38175555c89f"
      },
      "source": [
        "predictor_eval1 = eval_model1.fit(traindata1, trainlabel1).predict(testdata1)\n",
        "predictor_eval2 = eval_model2.fit(traindata2, trainlabel2).predict(testdata2)"
      ],
      "execution_count": 334,
      "outputs": [
        {
          "output_type": "stream",
          "text": [
            "/usr/local/lib/python3.6/dist-packages/sklearn/utils/validation.py:760: DataConversionWarning: A column-vector y was passed when a 1d array was expected. Please change the shape of y to (n_samples, ), for example using ravel().\n",
            "  y = column_or_1d(y, warn=True)\n",
            "/usr/local/lib/python3.6/dist-packages/sklearn/utils/validation.py:760: DataConversionWarning: A column-vector y was passed when a 1d array was expected. Please change the shape of y to (n_samples, ), for example using ravel().\n",
            "  y = column_or_1d(y, warn=True)\n"
          ],
          "name": "stderr"
        }
      ]
    },
    {
      "cell_type": "code",
      "metadata": {
        "id": "4nik5yLhOLWU",
        "colab_type": "code",
        "colab": {
          "base_uri": "https://localhost:8080/",
          "height": 34
        },
        "outputId": "9e0ed086-1ea9-4461-92c9-c6cec2f2ef07"
      },
      "source": [
        "eval_model1.score(traindata1, trainlabel1)"
      ],
      "execution_count": 335,
      "outputs": [
        {
          "output_type": "execute_result",
          "data": {
            "text/plain": [
              "0.6292134831460674"
            ]
          },
          "metadata": {
            "tags": []
          },
          "execution_count": 335
        }
      ]
    },
    {
      "cell_type": "code",
      "metadata": {
        "id": "bb_OquihOWnB",
        "colab_type": "code",
        "colab": {
          "base_uri": "https://localhost:8080/",
          "height": 34
        },
        "outputId": "ee12a016-37f9-49cd-d19b-60a36ba9d36b"
      },
      "source": [
        "eval_model1.score(testdata1, testlabel1)"
      ],
      "execution_count": 337,
      "outputs": [
        {
          "output_type": "execute_result",
          "data": {
            "text/plain": [
              "0.6718092566619915"
            ]
          },
          "metadata": {
            "tags": []
          },
          "execution_count": 337
        }
      ]
    },
    {
      "cell_type": "code",
      "metadata": {
        "id": "3WgOvjYxOfNK",
        "colab_type": "code",
        "colab": {
          "base_uri": "https://localhost:8080/",
          "height": 34
        },
        "outputId": "7e794b39-8c96-4611-a09f-ca6c9bd86a26"
      },
      "source": [
        "eval_model2.score(traindata2, trainlabel2)"
      ],
      "execution_count": 339,
      "outputs": [
        {
          "output_type": "execute_result",
          "data": {
            "text/plain": [
              "0.7640449438202247"
            ]
          },
          "metadata": {
            "tags": []
          },
          "execution_count": 339
        }
      ]
    },
    {
      "cell_type": "code",
      "metadata": {
        "id": "1t6b7bwNQgin",
        "colab_type": "code",
        "colab": {
          "base_uri": "https://localhost:8080/",
          "height": 34
        },
        "outputId": "cd8e0908-273e-449b-99fb-d3fd382ccad6"
      },
      "source": [
        "eval_model2.score(testdata2,testlabel2)"
      ],
      "execution_count": 340,
      "outputs": [
        {
          "output_type": "execute_result",
          "data": {
            "text/plain": [
              "0.7840112201963534"
            ]
          },
          "metadata": {
            "tags": []
          },
          "execution_count": 340
        }
      ]
    },
    {
      "cell_type": "code",
      "metadata": {
        "id": "II3p__GxQ1PK",
        "colab_type": "code",
        "colab": {
          "base_uri": "https://localhost:8080/",
          "height": 323
        },
        "outputId": "cb09f771-ba9b-4f9c-d83d-f952ee20af6c"
      },
      "source": [
        "from sklearn import metrics\n",
        "print(metrics.classification_report(testlabel1, predictor_eval1))\n",
        "print(metrics.classification_report(testlabel2, predictor_eval2))"
      ],
      "execution_count": 342,
      "outputs": [
        {
          "output_type": "stream",
          "text": [
            "              precision    recall  f1-score   support\n",
            "\n",
            "           0       0.66      0.97      0.79       442\n",
            "           1       0.78      0.19      0.30       271\n",
            "\n",
            "    accuracy                           0.67       713\n",
            "   macro avg       0.72      0.58      0.54       713\n",
            "weighted avg       0.71      0.67      0.60       713\n",
            "\n",
            "              precision    recall  f1-score   support\n",
            "\n",
            "           0       0.79      0.89      0.84       445\n",
            "           1       0.77      0.60      0.68       268\n",
            "\n",
            "    accuracy                           0.78       713\n",
            "   macro avg       0.78      0.75      0.76       713\n",
            "weighted avg       0.78      0.78      0.78       713\n",
            "\n"
          ],
          "name": "stdout"
        }
      ]
    },
    {
      "cell_type": "code",
      "metadata": {
        "id": "auNomn8iREAk",
        "colab_type": "code",
        "colab": {}
      },
      "source": [
        "from sklearn.metrics import confusion_matrix\n",
        "confusion_matrix1 = confusion_matrix(testlabel1, predictor_eval1)\n",
        "confusion_matrix2 = confusion_matrix(testlabel2, predictor_eval2)"
      ],
      "execution_count": 343,
      "outputs": []
    },
    {
      "cell_type": "code",
      "metadata": {
        "id": "M7_hEqlTRz3_",
        "colab_type": "code",
        "colab": {
          "base_uri": "https://localhost:8080/",
          "height": 51
        },
        "outputId": "91a13f73-284b-46e2-a047-942a4df8d743"
      },
      "source": [
        "confusion_matrix1"
      ],
      "execution_count": 344,
      "outputs": [
        {
          "output_type": "execute_result",
          "data": {
            "text/plain": [
              "array([[428,  14],\n",
              "       [220,  51]])"
            ]
          },
          "metadata": {
            "tags": []
          },
          "execution_count": 344
        }
      ]
    },
    {
      "cell_type": "code",
      "metadata": {
        "id": "UULjUgWKR187",
        "colab_type": "code",
        "colab": {
          "base_uri": "https://localhost:8080/",
          "height": 51
        },
        "outputId": "9c4a45b6-8536-40c0-eccb-2f44a5234d56"
      },
      "source": [
        "confusion_matrix2"
      ],
      "execution_count": 345,
      "outputs": [
        {
          "output_type": "execute_result",
          "data": {
            "text/plain": [
              "array([[397,  48],\n",
              "       [106, 162]])"
            ]
          },
          "metadata": {
            "tags": []
          },
          "execution_count": 345
        }
      ]
    },
    {
      "cell_type": "code",
      "metadata": {
        "id": "NeHaTW9TR3JK",
        "colab_type": "code",
        "colab": {
          "base_uri": "https://localhost:8080/",
          "height": 428
        },
        "outputId": "9093cb31-c785-49a1-9798-654f250a2107"
      },
      "source": [
        "fig = plt.figure(figsize = (7,7))\n",
        "#plt.title(title)\n",
        "sns.heatmap(\n",
        "    confusion_matrix1,\n",
        "    vmin=None,\n",
        "    vmax=None,\n",
        "    cmap=\"Blues\",\n",
        "    center=None,\n",
        "    robust=False,\n",
        "    annot=True, fmt='.2g',\n",
        "    annot_kws=None,\n",
        "    linewidths=0,\n",
        "    linecolor='white',\n",
        "    cbar=True,\n",
        "    cbar_kws=None,\n",
        "    cbar_ax=None,\n",
        "    square=True, ax=None, \n",
        "    #xticklabels=columns,\n",
        "    #yticklabels=columns,\n",
        "    mask=None)"
      ],
      "execution_count": 346,
      "outputs": [
        {
          "output_type": "execute_result",
          "data": {
            "text/plain": [
              "<matplotlib.axes._subplots.AxesSubplot at 0x7f82d028e400>"
            ]
          },
          "metadata": {
            "tags": []
          },
          "execution_count": 346
        },
        {
          "output_type": "display_data",
          "data": {
            "image/png": "[encoded data removed]",
            "text/plain": [
              "<Figure size 504x504 with 2 Axes>"
            ]
          },
          "metadata": {
            "tags": [],
            "needs_background": "light"
          }
        }
      ]
    },
    {
      "cell_type": "code",
      "metadata": {
        "id": "7Dqvx0FTSGrE",
        "colab_type": "code",
        "colab": {
          "base_uri": "https://localhost:8080/",
          "height": 432
        },
        "outputId": "98f39fa1-60c7-40b2-9c83-18444bc20369"
      },
      "source": [
        "fig = plt.figure(figsize = (7,7))\n",
        "#plt.title(title)\n",
        "sns.heatmap(\n",
        "    confusion_matrix2,\n",
        "    vmin=None,\n",
        "    vmax=None,\n",
        "    cmap=\"Blues\",\n",
        "    center=None,\n",
        "    robust=False,\n",
        "    annot=True, fmt='.2g',\n",
        "    annot_kws=None,\n",
        "    linewidths=0,\n",
        "    linecolor='white',\n",
        "    cbar=True,\n",
        "    cbar_kws=None,\n",
        "    cbar_ax=None,\n",
        "    square=True, ax=None, \n",
        "    #xticklabels=columns,\n",
        "    #yticklabels=columns,\n",
        "    mask=None)"
      ],
      "execution_count": 347,
      "outputs": [
        {
          "output_type": "execute_result",
          "data": {
            "text/plain": [
              "<matplotlib.axes._subplots.AxesSubplot at 0x7f82d41f7a90>"
            ]
          },
          "metadata": {
            "tags": []
          },
          "execution_count": 347
        },
        {
          "output_type": "display_data",
          "data": {
            "image/png": "[encoded data removed]",
            "text/plain": [
              "<Figure size 504x504 with 2 Axes>"
            ]
          },
          "metadata": {
            "tags": [],
            "needs_background": "light"
          }
        }
      ]
    },
    {
      "cell_type": "code",
      "metadata": {
        "id": "14i-CkUrSITm",
        "colab_type": "code",
        "colab": {
          "base_uri": "https://localhost:8080/",
          "height": 391
        },
        "outputId": "043ffdcd-afc5-4a77-d74a-461ead3794c2"
      },
      "source": [
        "#Paired categorical plots\n",
        "\n",
        "import seaborn as sns\n",
        "sns.set(style=\"whitegrid\")\n",
        "\n",
        "# Load the example Titanic dataset\n",
        "titanic = sns.load_dataset(\"titanic\")\n",
        "\n",
        "# Set up a grid to plot survival probability against several variables\n",
        "g = sns.PairGrid(titanic, y_vars=\"survived\",\n",
        "                 x_vars=[\"class\", \"sex\", \"who\", \"alone\"],\n",
        "                 height=5, aspect=.5)\n",
        "\n",
        "# Draw a seaborn pointplot onto each Axes\n",
        "g.map(sns.pointplot, color=sns.xkcd_rgb[\"plum\"])\n",
        "g.set(ylim=(0, 1))\n",
        "sns.despine(fig=g.fig, left=True)\n",
        "\n",
        "plt.show()"
      ],
      "execution_count": 348,
      "outputs": [
        {
          "output_type": "display_data",
          "data": {
            "image/png": "[encoded data removed]",
            "text/plain": [
              "<Figure size 720x360 with 4 Axes>"
            ]
          },
          "metadata": {
            "tags": []
          }
        }
      ]
    },
    {
      "cell_type": "code",
      "metadata": {
        "id": "sK5vfpGYSet2",
        "colab_type": "code",
        "colab": {
          "base_uri": "https://localhost:8080/",
          "height": 365
        },
        "outputId": "4ee065c0-dfa6-4260-efea-529bca56587b"
      },
      "source": [
        "#Faceted logistic regression\n",
        "\n",
        "import seaborn as sns\n",
        "sns.set(style=\"darkgrid\")\n",
        "\n",
        "# Load the example titanic dataset\n",
        "df = sns.load_dataset(\"titanic\")\n",
        "\n",
        "# Make a custom palette with gendered colors\n",
        "pal = dict(male=\"b\", female=\"r\")\n",
        "\n",
        "# Show the survival proability as a function of age and sex\n",
        "g = sns.lmplot(x=\"age\", y=\"survived\", col=\"sex\", hue=\"sex\", data=df,\n",
        "               palette=pal, y_jitter=.02, logistic=True)\n",
        "g.set(xlim=(0, 80), ylim=(-.05, 1.05))\n",
        "plt.show()"
      ],
      "execution_count": 350,
      "outputs": [
        {
          "output_type": "display_data",
          "data": {
            "image/png": "[encoded data removed]",
            "text/plain": [
              "<Figure size 720x360 with 2 Axes>"
            ]
          },
          "metadata": {
            "tags": []
          }
        }
      ]
    },
    {
      "cell_type": "markdown",
      "metadata": {
        "id": "4Q8UJkpHTnnu",
        "colab_type": "text"
      },
      "source": [
        "## 5.4 主成分分析"
      ]
    },
    {
      "cell_type": "code",
      "metadata": {
        "id": "C-3xtmJ8Spbf",
        "colab_type": "code",
        "colab": {}
      },
      "source": [
        "import pandas as pd\n",
        "from sklearn.model_selection import train_test_split\n",
        "from sklearn.preprocessing import StandardScaler\n",
        "from sklearn.linear_model import LogisticRegressionCV\n",
        "from sklearn.metrics import confusion_matrix\n",
        "from sklearn.decomposition import PCA\n",
        "import matplotlib.pyplot as plt\n",
        "%matplotlib inline"
      ],
      "execution_count": 376,
      "outputs": []
    },
    {
      "cell_type": "code",
      "metadata": {
        "id": "6qVk270hTo3p",
        "colab_type": "code",
        "colab": {}
      },
      "source": [
        "cancer_df = pd.read_csv('/content/drive/My Drive/Pythonライブラリ基礎講座/study_ai_ml/data/cancer.csv')"
      ],
      "execution_count": 377,
      "outputs": []
    },
    {
      "cell_type": "code",
      "metadata": {
        "id": "Qm4JWgM9To7H",
        "colab_type": "code",
        "colab": {
          "base_uri": "https://localhost:8080/",
          "height": 34
        },
        "outputId": "f0e956dd-2b71-4df2-c6bd-bf79cbd4c2da"
      },
      "source": [
        "print('cancer of shape: {}'.format(cancer_df.shape))"
      ],
      "execution_count": 378,
      "outputs": [
        {
          "output_type": "stream",
          "text": [
            "cancer of shape: (569, 33)\n"
          ],
          "name": "stdout"
        }
      ]
    },
    {
      "cell_type": "code",
      "metadata": {
        "id": "YvUSliG4To-e",
        "colab_type": "code",
        "colab": {
          "base_uri": "https://localhost:8080/",
          "height": 241
        },
        "outputId": "bded43a8-7665-4ec1-ba21-29875b6df482"
      },
      "source": [
        "cancer_df.head()"
      ],
      "execution_count": 379,
      "outputs": [
        {
          "output_type": "execute_result",
          "data": {
            "text/html": [
              "<div>\n",
              "<style scoped>\n",
              "    .dataframe tbody tr th:only-of-type {\n",
              "        vertical-align: middle;\n",
              "    }\n",
              "\n",
              "    .dataframe tbody tr th {\n",
              "        vertical-align: top;\n",
              "    }\n",
              "\n",
              "    .dataframe thead th {\n",
              "        text-align: right;\n",
              "    }\n",
              "</style>\n",
              "<table border=\"1\" class=\"dataframe\">\n",
              "  <thead>\n",
              "    <tr style=\"text-align: right;\">\n",
              "      <th></th>\n",
              "      <th>id</th>\n",
              "      <th>diagnosis</th>\n",
              "      <th>radius_mean</th>\n",
              "      <th>texture_mean</th>\n",
              "      <th>perimeter_mean</th>\n",
              "      <th>area_mean</th>\n",
              "      <th>smoothness_mean</th>\n",
              "      <th>compactness_mean</th>\n",
              "      <th>concavity_mean</th>\n",
              "      <th>concave points_mean</th>\n",
              "      <th>symmetry_mean</th>\n",
              "      <th>fractal_dimension_mean</th>\n",
              "      <th>radius_se</th>\n",
              "      <th>texture_se</th>\n",
              "      <th>perimeter_se</th>\n",
              "      <th>area_se</th>\n",
              "      <th>smoothness_se</th>\n",
              "      <th>compactness_se</th>\n",
              "      <th>concavity_se</th>\n",
              "      <th>concave points_se</th>\n",
              "      <th>symmetry_se</th>\n",
              "      <th>fractal_dimension_se</th>\n",
              "      <th>radius_worst</th>\n",
              "      <th>texture_worst</th>\n",
              "      <th>perimeter_worst</th>\n",
              "      <th>area_worst</th>\n",
              "      <th>smoothness_worst</th>\n",
              "      <th>compactness_worst</th>\n",
              "      <th>concavity_worst</th>\n",
              "      <th>concave points_worst</th>\n",
              "      <th>symmetry_worst</th>\n",
              "      <th>fractal_dimension_worst</th>\n",
              "      <th>Unnamed: 32</th>\n",
              "    </tr>\n",
              "  </thead>\n",
              "  <tbody>\n",
              "    <tr>\n",
              "      <th>0</th>\n",
              "      <td>842302</td>\n",
              "      <td>M</td>\n",
              "      <td>17.99</td>\n",
              "      <td>10.38</td>\n",
              "      <td>122.80</td>\n",
              "      <td>1001.0</td>\n",
              "      <td>0.11840</td>\n",
              "      <td>0.27760</td>\n",
              "      <td>0.3001</td>\n",
              "      <td>0.14710</td>\n",
              "      <td>0.2419</td>\n",
              "      <td>0.07871</td>\n",
              "      <td>1.0950</td>\n",
              "      <td>0.9053</td>\n",
              "      <td>8.589</td>\n",
              "      <td>153.40</td>\n",
              "      <td>0.006399</td>\n",
              "      <td>0.04904</td>\n",
              "      <td>0.05373</td>\n",
              "      <td>0.01587</td>\n",
              "      <td>0.03003</td>\n",
              "      <td>0.006193</td>\n",
              "      <td>25.38</td>\n",
              "      <td>17.33</td>\n",
              "      <td>184.60</td>\n",
              "      <td>2019.0</td>\n",
              "      <td>0.1622</td>\n",
              "      <td>0.6656</td>\n",
              "      <td>0.7119</td>\n",
              "      <td>0.2654</td>\n",
              "      <td>0.4601</td>\n",
              "      <td>0.11890</td>\n",
              "      <td>NaN</td>\n",
              "    </tr>\n",
              "    <tr>\n",
              "      <th>1</th>\n",
              "      <td>842517</td>\n",
              "      <td>M</td>\n",
              "      <td>20.57</td>\n",
              "      <td>17.77</td>\n",
              "      <td>132.90</td>\n",
              "      <td>1326.0</td>\n",
              "      <td>0.08474</td>\n",
              "      <td>0.07864</td>\n",
              "      <td>0.0869</td>\n",
              "      <td>0.07017</td>\n",
              "      <td>0.1812</td>\n",
              "      <td>0.05667</td>\n",
              "      <td>0.5435</td>\n",
              "      <td>0.7339</td>\n",
              "      <td>3.398</td>\n",
              "      <td>74.08</td>\n",
              "      <td>0.005225</td>\n",
              "      <td>0.01308</td>\n",
              "      <td>0.01860</td>\n",
              "      <td>0.01340</td>\n",
              "      <td>0.01389</td>\n",
              "      <td>0.003532</td>\n",
              "      <td>24.99</td>\n",
              "      <td>23.41</td>\n",
              "      <td>158.80</td>\n",
              "      <td>1956.0</td>\n",
              "      <td>0.1238</td>\n",
              "      <td>0.1866</td>\n",
              "      <td>0.2416</td>\n",
              "      <td>0.1860</td>\n",
              "      <td>0.2750</td>\n",
              "      <td>0.08902</td>\n",
              "      <td>NaN</td>\n",
              "    </tr>\n",
              "    <tr>\n",
              "      <th>2</th>\n",
              "      <td>84300903</td>\n",
              "      <td>M</td>\n",
              "      <td>19.69</td>\n",
              "      <td>21.25</td>\n",
              "      <td>130.00</td>\n",
              "      <td>1203.0</td>\n",
              "      <td>0.10960</td>\n",
              "      <td>0.15990</td>\n",
              "      <td>0.1974</td>\n",
              "      <td>0.12790</td>\n",
              "      <td>0.2069</td>\n",
              "      <td>0.05999</td>\n",
              "      <td>0.7456</td>\n",
              "      <td>0.7869</td>\n",
              "      <td>4.585</td>\n",
              "      <td>94.03</td>\n",
              "      <td>0.006150</td>\n",
              "      <td>0.04006</td>\n",
              "      <td>0.03832</td>\n",
              "      <td>0.02058</td>\n",
              "      <td>0.02250</td>\n",
              "      <td>0.004571</td>\n",
              "      <td>23.57</td>\n",
              "      <td>25.53</td>\n",
              "      <td>152.50</td>\n",
              "      <td>1709.0</td>\n",
              "      <td>0.1444</td>\n",
              "      <td>0.4245</td>\n",
              "      <td>0.4504</td>\n",
              "      <td>0.2430</td>\n",
              "      <td>0.3613</td>\n",
              "      <td>0.08758</td>\n",
              "      <td>NaN</td>\n",
              "    </tr>\n",
              "    <tr>\n",
              "      <th>3</th>\n",
              "      <td>84348301</td>\n",
              "      <td>M</td>\n",
              "      <td>11.42</td>\n",
              "      <td>20.38</td>\n",
              "      <td>77.58</td>\n",
              "      <td>386.1</td>\n",
              "      <td>0.14250</td>\n",
              "      <td>0.28390</td>\n",
              "      <td>0.2414</td>\n",
              "      <td>0.10520</td>\n",
              "      <td>0.2597</td>\n",
              "      <td>0.09744</td>\n",
              "      <td>0.4956</td>\n",
              "      <td>1.1560</td>\n",
              "      <td>3.445</td>\n",
              "      <td>27.23</td>\n",
              "      <td>0.009110</td>\n",
              "      <td>0.07458</td>\n",
              "      <td>0.05661</td>\n",
              "      <td>0.01867</td>\n",
              "      <td>0.05963</td>\n",
              "      <td>0.009208</td>\n",
              "      <td>14.91</td>\n",
              "      <td>26.50</td>\n",
              "      <td>98.87</td>\n",
              "      <td>567.7</td>\n",
              "      <td>0.2098</td>\n",
              "      <td>0.8663</td>\n",
              "      <td>0.6869</td>\n",
              "      <td>0.2575</td>\n",
              "      <td>0.6638</td>\n",
              "      <td>0.17300</td>\n",
              "      <td>NaN</td>\n",
              "    </tr>\n",
              "    <tr>\n",
              "      <th>4</th>\n",
              "      <td>84358402</td>\n",
              "      <td>M</td>\n",
              "      <td>20.29</td>\n",
              "      <td>14.34</td>\n",
              "      <td>135.10</td>\n",
              "      <td>1297.0</td>\n",
              "      <td>0.10030</td>\n",
              "      <td>0.13280</td>\n",
              "      <td>0.1980</td>\n",
              "      <td>0.10430</td>\n",
              "      <td>0.1809</td>\n",
              "      <td>0.05883</td>\n",
              "      <td>0.7572</td>\n",
              "      <td>0.7813</td>\n",
              "      <td>5.438</td>\n",
              "      <td>94.44</td>\n",
              "      <td>0.011490</td>\n",
              "      <td>0.02461</td>\n",
              "      <td>0.05688</td>\n",
              "      <td>0.01885</td>\n",
              "      <td>0.01756</td>\n",
              "      <td>0.005115</td>\n",
              "      <td>22.54</td>\n",
              "      <td>16.67</td>\n",
              "      <td>152.20</td>\n",
              "      <td>1575.0</td>\n",
              "      <td>0.1374</td>\n",
              "      <td>0.2050</td>\n",
              "      <td>0.4000</td>\n",
              "      <td>0.1625</td>\n",
              "      <td>0.2364</td>\n",
              "      <td>0.07678</td>\n",
              "      <td>NaN</td>\n",
              "    </tr>\n",
              "  </tbody>\n",
              "</table>\n",
              "</div>"
            ],
            "text/plain": [
              "         id diagnosis  ...  fractal_dimension_worst  Unnamed: 32\n",
              "0    842302         M  ...                  0.11890          NaN\n",
              "1    842517         M  ...                  0.08902          NaN\n",
              "2  84300903         M  ...                  0.08758          NaN\n",
              "3  84348301         M  ...                  0.17300          NaN\n",
              "4  84358402         M  ...                  0.07678          NaN\n",
              "\n",
              "[5 rows x 33 columns]"
            ]
          },
          "metadata": {
            "tags": []
          },
          "execution_count": 379
        }
      ]
    },
    {
      "cell_type": "code",
      "metadata": {
        "id": "ooHjItKkUri2",
        "colab_type": "code",
        "colab": {
          "base_uri": "https://localhost:8080/",
          "height": 255
        },
        "outputId": "1949a7d5-f727-4bfd-f030-cff709833525"
      },
      "source": [
        "cancer_df.info"
      ],
      "execution_count": 380,
      "outputs": [
        {
          "output_type": "execute_result",
          "data": {
            "text/plain": [
              "<bound method DataFrame.info of            id diagnosis  ...  fractal_dimension_worst  Unnamed: 32\n",
              "0      842302         M  ...                  0.11890          NaN\n",
              "1      842517         M  ...                  0.08902          NaN\n",
              "2    84300903         M  ...                  0.08758          NaN\n",
              "3    84348301         M  ...                  0.17300          NaN\n",
              "4    84358402         M  ...                  0.07678          NaN\n",
              "..        ...       ...  ...                      ...          ...\n",
              "564    926424         M  ...                  0.07115          NaN\n",
              "565    926682         M  ...                  0.06637          NaN\n",
              "566    926954         M  ...                  0.07820          NaN\n",
              "567    927241         M  ...                  0.12400          NaN\n",
              "568     92751         B  ...                  0.07039          NaN\n",
              "\n",
              "[569 rows x 33 columns]>"
            ]
          },
          "metadata": {
            "tags": []
          },
          "execution_count": 380
        }
      ]
    },
    {
      "cell_type": "code",
      "metadata": {
        "id": "3S52Z9nUUwl6",
        "colab_type": "code",
        "colab": {
          "base_uri": "https://localhost:8080/",
          "height": 595
        },
        "outputId": "0d591a92-28b4-4d42-d837-cc9a6194c2b5"
      },
      "source": [
        "# checking missing values -- looks good\n",
        "cancer_df.isna().sum()"
      ],
      "execution_count": 381,
      "outputs": [
        {
          "output_type": "execute_result",
          "data": {
            "text/plain": [
              "id                           0\n",
              "diagnosis                    0\n",
              "radius_mean                  0\n",
              "texture_mean                 0\n",
              "perimeter_mean               0\n",
              "area_mean                    0\n",
              "smoothness_mean              0\n",
              "compactness_mean             0\n",
              "concavity_mean               0\n",
              "concave points_mean          0\n",
              "symmetry_mean                0\n",
              "fractal_dimension_mean       0\n",
              "radius_se                    0\n",
              "texture_se                   0\n",
              "perimeter_se                 0\n",
              "area_se                      0\n",
              "smoothness_se                0\n",
              "compactness_se               0\n",
              "concavity_se                 0\n",
              "concave points_se            0\n",
              "symmetry_se                  0\n",
              "fractal_dimension_se         0\n",
              "radius_worst                 0\n",
              "texture_worst                0\n",
              "perimeter_worst              0\n",
              "area_worst                   0\n",
              "smoothness_worst             0\n",
              "compactness_worst            0\n",
              "concavity_worst              0\n",
              "concave points_worst         0\n",
              "symmetry_worst               0\n",
              "fractal_dimension_worst      0\n",
              "Unnamed: 32                569\n",
              "dtype: int64"
            ]
          },
          "metadata": {
            "tags": []
          },
          "execution_count": 381
        }
      ]
    },
    {
      "cell_type": "code",
      "metadata": {
        "id": "Rz1jqvo5Uzyj",
        "colab_type": "code",
        "colab": {}
      },
      "source": [
        "cancer_df.drop('Unnamed: 32', axis=1, inplace=True)"
      ],
      "execution_count": 382,
      "outputs": []
    },
    {
      "cell_type": "markdown",
      "metadata": {
        "id": "Fz_6dSadVVQK",
        "colab_type": "text"
      },
      "source": [
        "目的変数:　diagnosis(2列目)　M=悪性、B=良性　（ダイコトマス変数なので通常のロジスティック回帰モデルで分類）\n",
        "\n",
        "説明変数：３列目以降"
      ]
    },
    {
      "cell_type": "code",
      "metadata": {
        "id": "YFiy6VBTVB_j",
        "colab_type": "code",
        "colab": {}
      },
      "source": [
        "# 目的変数抽出して数値化\n",
        "y = cancer_df.diagnosis.apply(lambda d: 1 if d == 'M' else 0 )"
      ],
      "execution_count": 383,
      "outputs": []
    },
    {
      "cell_type": "code",
      "metadata": {
        "id": "zBodSm0UXZdP",
        "colab_type": "code",
        "colab": {}
      },
      "source": [
        "# 説明変数　'radius_mean' を使用\n",
        "X = cancer_df.loc[:, 'radius_mean':]"
      ],
      "execution_count": 384,
      "outputs": []
    },
    {
      "cell_type": "code",
      "metadata": {
        "id": "oxYtlJxVXfcr",
        "colab_type": "code",
        "colab": {}
      },
      "source": [
        "# 学習用とテスト用でデータを分離\n",
        "X_train, X_test, y_train, y_test = train_test_split(X, y, random_state=0)\n"
      ],
      "execution_count": 385,
      "outputs": []
    },
    {
      "cell_type": "code",
      "metadata": {
        "id": "MQfj7JsZYPZ4",
        "colab_type": "code",
        "colab": {}
      },
      "source": [
        "# 標準化\n",
        "scaler = StandardScaler()\n",
        "X_train_scaled = scaler.fit_transform(X_train)\n",
        "X_test_scaled = scaler.transform(X_test)"
      ],
      "execution_count": 386,
      "outputs": []
    },
    {
      "cell_type": "code",
      "metadata": {
        "id": "XkUmvBx1YYzU",
        "colab_type": "code",
        "colab": {
          "base_uri": "https://localhost:8080/",
          "height": 1000
        },
        "outputId": "91418d81-6275-44bf-f2c9-e2e41c67c138"
      },
      "source": [
        "\n",
        "# ロジスティック回帰で学習\n",
        "logistic = LogisticRegressionCV(cv=10, random_state=0)\n",
        "logistic.fit(X_train_scaled, y_train)\n",
        "\n",
        "# 検証\n",
        "print('Train score: {:.3f}'.format(logistic.score(X_train_scaled, y_train)))\n",
        "print('Test score: {:.3f}'.format(logistic.score(X_test_scaled, y_test)))\n",
        "print('Confustion matrix:\\n{}'.format(confusion_matrix(y_true=y_test, y_pred=logistic.predict(X_test_scaled))))"
      ],
      "execution_count": 388,
      "outputs": [
        {
          "output_type": "stream",
          "text": [
            "/usr/local/lib/python3.6/dist-packages/sklearn/linear_model/_logistic.py:940: ConvergenceWarning: lbfgs failed to converge (status=1):\n",
            "STOP: TOTAL NO. of ITERATIONS REACHED LIMIT.\n",
            "\n",
            "Increase the number of iterations (max_iter) or scale the data as shown in:\n",
            "    https://scikit-learn.org/stable/modules/preprocessing.html\n",
            "Please also refer to the documentation for alternative solver options:\n",
            "    https://scikit-learn.org/stable/modules/linear_model.html#logistic-regression\n",
            "  extra_warning_msg=_LOGISTIC_SOLVER_CONVERGENCE_MSG)\n",
            "/usr/local/lib/python3.6/dist-packages/sklearn/linear_model/_logistic.py:940: ConvergenceWarning: lbfgs failed to converge (status=1):\n",
            "STOP: TOTAL NO. of ITERATIONS REACHED LIMIT.\n",
            "\n",
            "Increase the number of iterations (max_iter) or scale the data as shown in:\n",
            "    https://scikit-learn.org/stable/modules/preprocessing.html\n",
            "Please also refer to the documentation for alternative solver options:\n",
            "    https://scikit-learn.org/stable/modules/linear_model.html#logistic-regression\n",
            "  extra_warning_msg=_LOGISTIC_SOLVER_CONVERGENCE_MSG)\n",
            "/usr/local/lib/python3.6/dist-packages/sklearn/linear_model/_logistic.py:940: ConvergenceWarning: lbfgs failed to converge (status=1):\n",
            "STOP: TOTAL NO. of ITERATIONS REACHED LIMIT.\n",
            "\n",
            "Increase the number of iterations (max_iter) or scale the data as shown in:\n",
            "    https://scikit-learn.org/stable/modules/preprocessing.html\n",
            "Please also refer to the documentation for alternative solver options:\n",
            "    https://scikit-learn.org/stable/modules/linear_model.html#logistic-regression\n",
            "  extra_warning_msg=_LOGISTIC_SOLVER_CONVERGENCE_MSG)\n",
            "/usr/local/lib/python3.6/dist-packages/sklearn/linear_model/_logistic.py:940: ConvergenceWarning: lbfgs failed to converge (status=1):\n",
            "STOP: TOTAL NO. of ITERATIONS REACHED LIMIT.\n",
            "\n",
            "Increase the number of iterations (max_iter) or scale the data as shown in:\n",
            "    https://scikit-learn.org/stable/modules/preprocessing.html\n",
            "Please also refer to the documentation for alternative solver options:\n",
            "    https://scikit-learn.org/stable/modules/linear_model.html#logistic-regression\n",
            "  extra_warning_msg=_LOGISTIC_SOLVER_CONVERGENCE_MSG)\n",
            "/usr/local/lib/python3.6/dist-packages/sklearn/linear_model/_logistic.py:940: ConvergenceWarning: lbfgs failed to converge (status=1):\n",
            "STOP: TOTAL NO. of ITERATIONS REACHED LIMIT.\n",
            "\n",
            "Increase the number of iterations (max_iter) or scale the data as shown in:\n",
            "    https://scikit-learn.org/stable/modules/preprocessing.html\n",
            "Please also refer to the documentation for alternative solver options:\n",
            "    https://scikit-learn.org/stable/modules/linear_model.html#logistic-regression\n",
            "  extra_warning_msg=_LOGISTIC_SOLVER_CONVERGENCE_MSG)\n",
            "/usr/local/lib/python3.6/dist-packages/sklearn/linear_model/_logistic.py:940: ConvergenceWarning: lbfgs failed to converge (status=1):\n",
            "STOP: TOTAL NO. of ITERATIONS REACHED LIMIT.\n",
            "\n",
            "Increase the number of iterations (max_iter) or scale the data as shown in:\n",
            "    https://scikit-learn.org/stable/modules/preprocessing.html\n",
            "Please also refer to the documentation for alternative solver options:\n",
            "    https://scikit-learn.org/stable/modules/linear_model.html#logistic-regression\n",
            "  extra_warning_msg=_LOGISTIC_SOLVER_CONVERGENCE_MSG)\n",
            "/usr/local/lib/python3.6/dist-packages/sklearn/linear_model/_logistic.py:940: ConvergenceWarning: lbfgs failed to converge (status=1):\n",
            "STOP: TOTAL NO. of ITERATIONS REACHED LIMIT.\n",
            "\n",
            "Increase the number of iterations (max_iter) or scale the data as shown in:\n",
            "    https://scikit-learn.org/stable/modules/preprocessing.html\n",
            "Please also refer to the documentation for alternative solver options:\n",
            "    https://scikit-learn.org/stable/modules/linear_model.html#logistic-regression\n",
            "  extra_warning_msg=_LOGISTIC_SOLVER_CONVERGENCE_MSG)\n",
            "/usr/local/lib/python3.6/dist-packages/sklearn/linear_model/_logistic.py:940: ConvergenceWarning: lbfgs failed to converge (status=1):\n",
            "STOP: TOTAL NO. of ITERATIONS REACHED LIMIT.\n",
            "\n",
            "Increase the number of iterations (max_iter) or scale the data as shown in:\n",
            "    https://scikit-learn.org/stable/modules/preprocessing.html\n",
            "Please also refer to the documentation for alternative solver options:\n",
            "    https://scikit-learn.org/stable/modules/linear_model.html#logistic-regression\n",
            "  extra_warning_msg=_LOGISTIC_SOLVER_CONVERGENCE_MSG)\n",
            "/usr/local/lib/python3.6/dist-packages/sklearn/linear_model/_logistic.py:940: ConvergenceWarning: lbfgs failed to converge (status=1):\n",
            "STOP: TOTAL NO. of ITERATIONS REACHED LIMIT.\n",
            "\n",
            "Increase the number of iterations (max_iter) or scale the data as shown in:\n",
            "    https://scikit-learn.org/stable/modules/preprocessing.html\n",
            "Please also refer to the documentation for alternative solver options:\n",
            "    https://scikit-learn.org/stable/modules/linear_model.html#logistic-regression\n",
            "  extra_warning_msg=_LOGISTIC_SOLVER_CONVERGENCE_MSG)\n",
            "/usr/local/lib/python3.6/dist-packages/sklearn/linear_model/_logistic.py:940: ConvergenceWarning: lbfgs failed to converge (status=1):\n",
            "STOP: TOTAL NO. of ITERATIONS REACHED LIMIT.\n",
            "\n",
            "Increase the number of iterations (max_iter) or scale the data as shown in:\n",
            "    https://scikit-learn.org/stable/modules/preprocessing.html\n",
            "Please also refer to the documentation for alternative solver options:\n",
            "    https://scikit-learn.org/stable/modules/linear_model.html#logistic-regression\n",
            "  extra_warning_msg=_LOGISTIC_SOLVER_CONVERGENCE_MSG)\n",
            "/usr/local/lib/python3.6/dist-packages/sklearn/linear_model/_logistic.py:940: ConvergenceWarning: lbfgs failed to converge (status=1):\n",
            "STOP: TOTAL NO. of ITERATIONS REACHED LIMIT.\n",
            "\n",
            "Increase the number of iterations (max_iter) or scale the data as shown in:\n",
            "    https://scikit-learn.org/stable/modules/preprocessing.html\n",
            "Please also refer to the documentation for alternative solver options:\n",
            "    https://scikit-learn.org/stable/modules/linear_model.html#logistic-regression\n",
            "  extra_warning_msg=_LOGISTIC_SOLVER_CONVERGENCE_MSG)\n",
            "/usr/local/lib/python3.6/dist-packages/sklearn/linear_model/_logistic.py:940: ConvergenceWarning: lbfgs failed to converge (status=1):\n",
            "STOP: TOTAL NO. of ITERATIONS REACHED LIMIT.\n",
            "\n",
            "Increase the number of iterations (max_iter) or scale the data as shown in:\n",
            "    https://scikit-learn.org/stable/modules/preprocessing.html\n",
            "Please also refer to the documentation for alternative solver options:\n",
            "    https://scikit-learn.org/stable/modules/linear_model.html#logistic-regression\n",
            "  extra_warning_msg=_LOGISTIC_SOLVER_CONVERGENCE_MSG)\n",
            "/usr/local/lib/python3.6/dist-packages/sklearn/linear_model/_logistic.py:940: ConvergenceWarning: lbfgs failed to converge (status=1):\n",
            "STOP: TOTAL NO. of ITERATIONS REACHED LIMIT.\n",
            "\n",
            "Increase the number of iterations (max_iter) or scale the data as shown in:\n",
            "    https://scikit-learn.org/stable/modules/preprocessing.html\n",
            "Please also refer to the documentation for alternative solver options:\n",
            "    https://scikit-learn.org/stable/modules/linear_model.html#logistic-regression\n",
            "  extra_warning_msg=_LOGISTIC_SOLVER_CONVERGENCE_MSG)\n",
            "/usr/local/lib/python3.6/dist-packages/sklearn/linear_model/_logistic.py:940: ConvergenceWarning: lbfgs failed to converge (status=1):\n",
            "STOP: TOTAL NO. of ITERATIONS REACHED LIMIT.\n",
            "\n",
            "Increase the number of iterations (max_iter) or scale the data as shown in:\n",
            "    https://scikit-learn.org/stable/modules/preprocessing.html\n",
            "Please also refer to the documentation for alternative solver options:\n",
            "    https://scikit-learn.org/stable/modules/linear_model.html#logistic-regression\n",
            "  extra_warning_msg=_LOGISTIC_SOLVER_CONVERGENCE_MSG)\n",
            "/usr/local/lib/python3.6/dist-packages/sklearn/linear_model/_logistic.py:940: ConvergenceWarning: lbfgs failed to converge (status=1):\n",
            "STOP: TOTAL NO. of ITERATIONS REACHED LIMIT.\n",
            "\n",
            "Increase the number of iterations (max_iter) or scale the data as shown in:\n",
            "    https://scikit-learn.org/stable/modules/preprocessing.html\n",
            "Please also refer to the documentation for alternative solver options:\n",
            "    https://scikit-learn.org/stable/modules/linear_model.html#logistic-regression\n",
            "  extra_warning_msg=_LOGISTIC_SOLVER_CONVERGENCE_MSG)\n"
          ],
          "name": "stderr"
        },
        {
          "output_type": "stream",
          "text": [
            "Train score: 0.988\n",
            "Test score: 0.972\n",
            "Confustion matrix:\n",
            "[[89  1]\n",
            " [ 3 50]]\n"
          ],
          "name": "stdout"
        },
        {
          "output_type": "stream",
          "text": [
            "/usr/local/lib/python3.6/dist-packages/sklearn/linear_model/_logistic.py:940: ConvergenceWarning: lbfgs failed to converge (status=1):\n",
            "STOP: TOTAL NO. of ITERATIONS REACHED LIMIT.\n",
            "\n",
            "Increase the number of iterations (max_iter) or scale the data as shown in:\n",
            "    https://scikit-learn.org/stable/modules/preprocessing.html\n",
            "Please also refer to the documentation for alternative solver options:\n",
            "    https://scikit-learn.org/stable/modules/linear_model.html#logistic-regression\n",
            "  extra_warning_msg=_LOGISTIC_SOLVER_CONVERGENCE_MSG)\n",
            "/usr/local/lib/python3.6/dist-packages/sklearn/linear_model/_logistic.py:940: ConvergenceWarning: lbfgs failed to converge (status=1):\n",
            "STOP: TOTAL NO. of ITERATIONS REACHED LIMIT.\n",
            "\n",
            "Increase the number of iterations (max_iter) or scale the data as shown in:\n",
            "    https://scikit-learn.org/stable/modules/preprocessing.html\n",
            "Please also refer to the documentation for alternative solver options:\n",
            "    https://scikit-learn.org/stable/modules/linear_model.html#logistic-regression\n",
            "  extra_warning_msg=_LOGISTIC_SOLVER_CONVERGENCE_MSG)\n",
            "/usr/local/lib/python3.6/dist-packages/sklearn/linear_model/_logistic.py:940: ConvergenceWarning: lbfgs failed to converge (status=1):\n",
            "STOP: TOTAL NO. of ITERATIONS REACHED LIMIT.\n",
            "\n",
            "Increase the number of iterations (max_iter) or scale the data as shown in:\n",
            "    https://scikit-learn.org/stable/modules/preprocessing.html\n",
            "Please also refer to the documentation for alternative solver options:\n",
            "    https://scikit-learn.org/stable/modules/linear_model.html#logistic-regression\n",
            "  extra_warning_msg=_LOGISTIC_SOLVER_CONVERGENCE_MSG)\n",
            "/usr/local/lib/python3.6/dist-packages/sklearn/linear_model/_logistic.py:940: ConvergenceWarning: lbfgs failed to converge (status=1):\n",
            "STOP: TOTAL NO. of ITERATIONS REACHED LIMIT.\n",
            "\n",
            "Increase the number of iterations (max_iter) or scale the data as shown in:\n",
            "    https://scikit-learn.org/stable/modules/preprocessing.html\n",
            "Please also refer to the documentation for alternative solver options:\n",
            "    https://scikit-learn.org/stable/modules/linear_model.html#logistic-regression\n",
            "  extra_warning_msg=_LOGISTIC_SOLVER_CONVERGENCE_MSG)\n",
            "/usr/local/lib/python3.6/dist-packages/sklearn/linear_model/_logistic.py:940: ConvergenceWarning: lbfgs failed to converge (status=1):\n",
            "STOP: TOTAL NO. of ITERATIONS REACHED LIMIT.\n",
            "\n",
            "Increase the number of iterations (max_iter) or scale the data as shown in:\n",
            "    https://scikit-learn.org/stable/modules/preprocessing.html\n",
            "Please also refer to the documentation for alternative solver options:\n",
            "    https://scikit-learn.org/stable/modules/linear_model.html#logistic-regression\n",
            "  extra_warning_msg=_LOGISTIC_SOLVER_CONVERGENCE_MSG)\n"
          ],
          "name": "stderr"
        }
      ]
    },
    {
      "cell_type": "markdown",
      "metadata": {
        "id": "14FkSadpamvP",
        "colab_type": "text"
      },
      "source": [
        "Train score: 0.988\n",
        "\n",
        "**Test score: 0.972** 検証スコア\n",
        "\n",
        "Confustion matrix:\n",
        "\n",
        "[[89  1]\n",
        "\n",
        " [ 3 50]]"
      ]
    },
    {
      "cell_type": "code",
      "metadata": {
        "id": "sRl5jYGcalhM",
        "colab_type": "code",
        "colab": {
          "base_uri": "https://localhost:8080/",
          "height": 302
        },
        "outputId": "8ab0d8fb-e0af-476d-f6b4-4c5986b5a23a"
      },
      "source": [
        "pca = PCA(n_components=30)\n",
        "pca.fit(X_train_scaled)\n",
        "plt.bar([n for n in range(1, len(pca.explained_variance_ratio_) +1)], pca.explained_variance_ratio_)\n",
        "plt.xlabel('# components')\n",
        "plt.ylabel('variance ratio')"
      ],
      "execution_count": 391,
      "outputs": [
        {
          "output_type": "execute_result",
          "data": {
            "text/plain": [
              "Text(0, 0.5, 'variance ratio')"
            ]
          },
          "metadata": {
            "tags": []
          },
          "execution_count": 391
        },
        {
          "output_type": "display_data",
          "data": {
            "image/png": "[encoded data removed]",
            "text/plain": [
              "<Figure size 432x288 with 1 Axes>"
            ]
          },
          "metadata": {
            "tags": [],
            "needs_background": "light"
          }
        }
      ]
    },
    {
      "cell_type": "markdown",
      "metadata": {
        "id": "xg8tsuuxcNxF",
        "colab_type": "text"
      },
      "source": [
        "第1～第２の主成分で6割以上の寄与率"
      ]
    },
    {
      "cell_type": "code",
      "metadata": {
        "id": "yONAQ2N6amDL",
        "colab_type": "code",
        "colab": {
          "base_uri": "https://localhost:8080/",
          "height": 34
        },
        "outputId": "e2ca7451-80ea-434a-d141-3df4be2ecda9"
      },
      "source": [
        "# PCA\n",
        "# reduce dim to 2\n",
        "\n",
        "pca = PCA(n_components=2)\n",
        "X_train_pca = pca.fit_transform(X_train_scaled)\n",
        "print('X_train_pca shape: {}'.format(X_train_pca.shape))"
      ],
      "execution_count": 393,
      "outputs": [
        {
          "output_type": "stream",
          "text": [
            "X_train_pca shape: (426, 2)\n"
          ],
          "name": "stdout"
        }
      ]
    },
    {
      "cell_type": "code",
      "metadata": {
        "id": "HGgiM5YGc73-",
        "colab_type": "code",
        "colab": {
          "base_uri": "https://localhost:8080/",
          "height": 34
        },
        "outputId": "8a00c4d4-d363-4974-b88f-00a22cd313a8"
      },
      "source": [
        "#寄与率\n",
        "print('explained variance ratio : {}'.format(pca.explained_variance_ratio_))"
      ],
      "execution_count": 394,
      "outputs": [
        {
          "output_type": "stream",
          "text": [
            "explained variance ratio : [0.43315126 0.19586506]\n"
          ],
          "name": "stdout"
        }
      ]
    },
    {
      "cell_type": "code",
      "metadata": {
        "id": "coIb0mJYdcA9",
        "colab_type": "code",
        "colab": {
          "base_uri": "https://localhost:8080/",
          "height": 302
        },
        "outputId": "79b7d779-5744-4211-9783-f1bb68ad9e98"
      },
      "source": [
        "#散布図\n",
        "temp = pd.DataFrame(X_train_pca)\n",
        "temp['Outcome'] = y_train.values\n",
        "b = temp[temp['Outcome'] == 0]\n",
        "m = temp[temp['Outcome'] == 1]\n",
        "plt.scatter(x=b[0], y=b[1], marker = 'o')\n",
        "plt.scatter(x=m[0], y=m[1], marker='^')\n",
        "plt.xlabel('PC 1')\n",
        "plt.ylabel('PC 2')"
      ],
      "execution_count": 395,
      "outputs": [
        {
          "output_type": "execute_result",
          "data": {
            "text/plain": [
              "Text(0, 0.5, 'PC 2')"
            ]
          },
          "metadata": {
            "tags": []
          },
          "execution_count": 395
        },
        {
          "output_type": "display_data",
          "data": {
            "image/png": "[encoded data removed]",
            "text/plain": [
              "<Figure size 432x288 with 1 Axes>"
            ]
          },
          "metadata": {
            "tags": [],
            "needs_background": "light"
          }
        }
      ]
    },
    {
      "cell_type": "code",
      "metadata": {
        "id": "GSpiYZKLeXqk",
        "colab_type": "code",
        "colab": {}
      },
      "source": [
        ""
      ],
      "execution_count": null,
      "outputs": []
    }
  ]
}